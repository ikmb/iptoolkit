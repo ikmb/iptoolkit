{
 "cells": [
  {
   "cell_type": "markdown",
   "metadata": {},
   "source": [
    "# Tutorial One: Parsing different Input Files "
   ]
  },
  {
   "cell_type": "markdown",
   "metadata": {},
   "source": [
    "## Introduction:"
   ]
  },
  {
   "cell_type": "markdown",
   "metadata": {},
   "source": [
    "The IPTK support different input files commonly used to describe the identification of proteomic experiments, for example, pepXML and idXML, along with CSV tables. Theses files are parsed and analyized by the IO module to generate a simple table that is used throughout the library, refered to as the identification table. The table composites of 4 columns containing, the peptide sequences, the parent protein accession, the start index of the peptide in the parent protein and the end index in the parent proteins, i.e. the indicies of the peptide in the parent protein. An Example of the identification table is shown below. Please notice, that if the peptide can be mapped to different proteins each mapping is treated indiviually, i.e. each parent protein has his own row. "
   ]
  },
  {
   "cell_type": "markdown",
   "metadata": {},
   "source": [
    "## Identification Table Example"
   ]
  },
  {
   "cell_type": "code",
   "execution_count": 15,
   "metadata": {},
   "outputs": [],
   "source": [
    "# load the modules \n",
    "import os\n",
    "import pandas as pd\n",
    "from IPTK.Utils.DevFunctions import simulate_an_experimental_ident_table_from_fasta\n",
    "from IPTK.IO.InFunctions import load_identification_table"
   ]
  },
  {
   "cell_type": "code",
   "execution_count": 16,
   "metadata": {},
   "outputs": [
    {
     "name": "stdout",
     "output_type": "stream",
     "text": [
      "                 peptides proteins  start_index  end_index\n",
      "0        LDLNQWPVINATSGVS   P11446          171        187\n",
      "1        DLPLQPMSDISEFSPG   P11446           56         72\n",
      "2             HQPEIATHLGA   P11446          213        224\n",
      "3          AGRKAAISNSFCEV   P11446          188        202\n",
      "4          FAVQGEHLIIVATE   P11446          292        306\n",
      "5         GKDLGFEVIKIAVPD   P02924           50         65\n",
      "6          KIAVPDGEKTLNAI   P02924           59         73\n",
      "7  GVDAVSELSKAQATGFYGSLLP   P02924          255        277\n",
      "8            NELDTARRRTTG   P02924          165        177\n",
      "9         RRTTGSMDALKAAGF   P02924          172        187\n"
     ]
    }
   ],
   "source": [
    "# Simulating an identification table \n",
    "import pandas as pd\n",
    "# genetate table \n",
    "table : pd.DataFrame = simulate_an_experimental_ident_table_from_fasta(\n",
    "    path2load='data/sequences/e_coli.fasta',num_pep=10,num_prot=2)  \n",
    "print(table)\n",
    "# SEE the documentation from more information about the simulation function "
   ]
  },
  {
   "cell_type": "markdown",
   "metadata": {},
   "source": [
    "Below is an example of using the library to parse and analyze different input "
   ]
  },
  {
   "cell_type": "markdown",
   "metadata": {},
   "source": [
    "### Load A Pre-exsisting Table "
   ]
  },
  {
   "cell_type": "code",
   "execution_count": 17,
   "metadata": {},
   "outputs": [
    {
     "name": "stdout",
     "output_type": "stream",
     "text": [
      "           peptides proteins  start_index  end_index\n",
      "0    EVSHDLAPQFLEAG   P11446           82         96\n",
      "1    LVRLYDKGVPALKN   P11446          268        282\n",
      "2   HLGADVIFTPHLGNF   P11446          220        235\n",
      "3  VGLPFCDIGFAVQGEH   P11446          283        299\n",
      "4       PGVDVVFLATA   P11446           70         81\n",
      "5    LYKEMQKRGWDVKE   P02924          143        157\n",
      "6   NWVAKDVEPPKFTEV   P02924          291        306\n",
      "7    SLLPSPDVHGYKSS   P02924          273        287\n",
      "8  LPSPDVHGYKSSEMLY   P02924          275        291\n",
      "9    AKGKPMDTVPLVMM   P02924          117        131\n"
     ]
    },
    {
     "name": "stderr",
     "output_type": "stream",
     "text": [
      "/Users/heshamelabd/projects/IPTK/IO/InFunctions.py:33: UserWarning: Pandas doesn't allow columns to be created via a new attribute name - see https://pandas.pydata.org/pandas-docs/stable/indexing.html#attribute-access\n",
      "  table.column=['peptide','protein','start_index','end_index']\n"
     ]
    }
   ],
   "source": [
    "table: pd.DataFrame = load_identification_table('data/inputs/Identification_table.csv',sep=',')\n",
    "print(table)"
   ]
  },
  {
   "cell_type": "markdown",
   "metadata": {},
   "source": [
    "### Load a pepXML file"
   ]
  },
  {
   "cell_type": "code",
   "execution_count": null,
   "metadata": {},
   "outputs": [],
   "source": [
    "## To BE DONE"
   ]
  },
  {
   "cell_type": "markdown",
   "metadata": {},
   "source": [
    "### Load an idXML file "
   ]
  },
  {
   "cell_type": "code",
   "execution_count": null,
   "metadata": {},
   "outputs": [],
   "source": [
    "## To BE DONE"
   ]
  },
  {
   "cell_type": "markdown",
   "metadata": {},
   "source": [
    "### Load a CSV Table "
   ]
  },
  {
   "cell_type": "code",
   "execution_count": null,
   "metadata": {},
   "outputs": [],
   "source": [
    "## To BE DONE "
   ]
  },
  {
   "cell_type": "code",
   "execution_count": null,
   "metadata": {},
   "outputs": [],
   "source": []
  },
  {
   "cell_type": "code",
   "execution_count": null,
   "metadata": {},
   "outputs": [],
   "source": []
  },
  {
   "cell_type": "code",
   "execution_count": null,
   "metadata": {},
   "outputs": [],
   "source": []
  },
  {
   "cell_type": "code",
   "execution_count": null,
   "metadata": {},
   "outputs": [],
   "source": []
  }
 ],
 "metadata": {
  "kernelspec": {
   "display_name": "Python 3",
   "language": "python",
   "name": "python3"
  },
  "language_info": {
   "codemirror_mode": {
    "name": "ipython",
    "version": 3
   },
   "file_extension": ".py",
   "mimetype": "text/x-python",
   "name": "python",
   "nbconvert_exporter": "python",
   "pygments_lexer": "ipython3",
   "version": "3.7.7"
  }
 },
 "nbformat": 4,
 "nbformat_minor": 4
}
