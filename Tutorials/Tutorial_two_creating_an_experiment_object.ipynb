{
 "cells": [
  {
   "cell_type": "markdown",
   "metadata": {},
   "source": [
    "# Tutorial Two: Creating an experimental object "
   ]
  },
  {
   "cell_type": "markdown",
   "metadata": {},
   "source": [
    "## Introduction: "
   ]
  },
  {
   "cell_type": "markdown",
   "metadata": {},
   "source": [
    "The working hourses of IPTK are the classes Experiment, Introduced in this tutorial, and ExperimentalSet, introduced in the next tutorial. The Experimental object act as an anchor point connecting, the identified peptides with the expression value of their parent transcript, with the expression values with the proband metadata and with the HLA allele(s) from which peptides were eluted. We start the tutorial by prepearing the input to the class constructor, then we create an experimental object and finally we use the class API along with analysis and visualization module to demonstrate different analysis methods enabled by the library. "
   ]
  },
  {
   "cell_type": "markdown",
   "metadata": {},
   "source": [
    "## Background"
   ]
  },
  {
   "cell_type": "markdown",
   "metadata": {},
   "source": [
    "To gave some biological insights into the current tutorial, let's start first by describing how the dataset used in this tutorial has been generated. The dataset was obtained from a MoDC cell line incubated with C.albicans lysate for 96 hrs, HLD-DR bound peptides were pulled down using xx antibody, the eluent was measured using Q-Executive machine and peptides were identified from the generated spectra using Proteome Discover and a database compiste of human and candida reference proteins. \n",
    "\n",
    "Given the previous background, the following parameters will be used accross database: \n",
    "\n",
    "I - tissue name= 'total PBMC'\n",
    "II - HLA= 'HLA-DRB1*15:01, HLA-DRB1*13:01' \n",
    "III - \n"
   ]
  },
  {
   "cell_type": "markdown",
   "metadata": {},
   "source": [
    "## Loading the module"
   ]
  },
  {
   "cell_type": "code",
   "execution_count": 3,
   "metadata": {},
   "outputs": [],
   "source": [
    "from IPTK.DataStructure.Experiment import Experiment\n",
    "from IPTK.DataStructure.Database import SeqDB, GeneExpressionDB, CellularLocationDB\n",
    "from IPTK.DataStructure.Tissue import Tissue\n",
    "from IPTK.DataStructure.HLASet import HLASet\n",
    "from IPTK.DataStructure.Proband import Proband\n",
    "from IPTK.IO.InFunctions import parse_text_table\n",
    "from IPTK.IO.OutFunctions import write_auto_named_peptide_to_fasta   \n",
    "from IPTK.DataStructure.Peptide import Peptide \n",
    "from IPTK.Visualization.vizTools import plot_peptide_length_dist\n",
    "from IPTK.Visualization.vizTools import plot_num_peptides_per_parent\n",
    "from IPTK.Visualization.vizTools import plot_parent_protein_expression_in_tissue\n",
    "from IPTK.Visualization.vizTools import plot_gene_expression_vs_num_peptides\n",
    "from IPTK.Visualization.vizTools import plot_num_protein_per_location\n",
    "from IPTK.Visualization.vizTools import plot_num_peptide_per_go_term\n",
    "from typing import List \n",
    "import pandas as pd \n"
   ]
  },
  {
   "cell_type": "markdown",
   "metadata": {},
   "source": [
    "## Load the Identification Table"
   ]
  },
  {
   "cell_type": "code",
   "execution_count": 4,
   "metadata": {
    "tags": []
   },
   "outputs": [
    {
     "output_type": "stream",
     "name": "stdout",
     "text": "5840 5840 5840 5840\n"
    }
   ],
   "source": [
    "table: pd.DataFrame = parse_text_table(path2file='data/HLA_Demo.csv',\n",
    "                    sep=';', path2fastaDB='data/uniprot_sprot.fasta')"
   ]
  },
  {
   "cell_type": "markdown",
   "metadata": {},
   "source": [
    "### Create the object needed to build the experimental object "
   ]
  },
  {
   "cell_type": "code",
   "execution_count": 6,
   "metadata": {},
   "outputs": [],
   "source": [
    "donor: Proband = Proband(name='Tutorial_2') \n",
    "hlas: HLASet = HLASet(hlas=['HLA-DRB1*15:01','HLA-DRB1*13:01'])\n",
    "seqs: SeqDB = SeqDB(path2fasta='data/uniprot_sprot.fasta')\n",
    "expresson_profile: GeneExpressionDB= GeneExpressionDB(path2data='../resources/rna_tissue_consensus.tsv')\n",
    "protein_locations: CellularLocationDB= CellularLocationDB(path2data='../resources/subcellular_location.tsv')\n",
    "tissue: Tissue = Tissue(name='total PBMC',\n",
    "                        main_exp_value=expresson_profile, \n",
    "                        main_location=protein_locations)"
   ]
  },
  {
   "cell_type": "markdown",
   "metadata": {},
   "source": [
    "## Construct The Experiment "
   ]
  },
  {
   "cell_type": "code",
   "execution_count": 7,
   "metadata": {},
   "outputs": [],
   "source": [
    "exp = Experiment(proband=donor,hla_set=hlas,tissue=tissue,database=seqs,ident_table=table)"
   ]
  },
  {
   "cell_type": "code",
   "execution_count": 8,
   "metadata": {
    "tags": []
   },
   "outputs": [
    {
     "output_type": "stream",
     "name": "stdout",
     "text": "an Experimental from proband: Tutorial_2, Tissue: total PBMC\n\t\t\t\t   With an HLA Class: 2 With\n\t\t\t\t   3760 peptide identification from 1367 Protein\n"
    }
   ],
   "source": [
    "print(exp)"
   ]
  },
  {
   "cell_type": "markdown",
   "metadata": {},
   "source": [
    "## Navigating the experiment API "
   ]
  },
  {
   "cell_type": "markdown",
   "metadata": {},
   "source": [
    "### Plot the peptide length distribution "
   ]
  },
  {
   "cell_type": "code",
   "execution_count": 9,
   "metadata": {},
   "outputs": [
    {
     "output_type": "execute_result",
     "data": {
      "text/plain": "<AxesSubplot:title={'center':'Tutorial-2 peptide length distribution'}, xlabel='Peptide Length', ylabel='Frequency'>"
     },
     "metadata": {},
     "execution_count": 9
    },
    {
     "output_type": "display_data",
     "data": {
      "text/plain": "<Figure size 432x288 with 1 Axes>",
      "image/svg+xml": "<?xml version=\"1.0\" encoding=\"utf-8\" standalone=\"no\"?>\n<!DOCTYPE svg PUBLIC \"-//W3C//DTD SVG 1.1//EN\"\n  \"http://www.w3.org/Graphics/SVG/1.1/DTD/svg11.dtd\">\n<!-- Created with matplotlib (https://matplotlib.org/) -->\n<svg height=\"277.314375pt\" version=\"1.1\" viewBox=\"0 0 392.14375 277.314375\" width=\"392.14375pt\" xmlns=\"http://www.w3.org/2000/svg\" xmlns:xlink=\"http://www.w3.org/1999/xlink\">\n <metadata>\n  <rdf:RDF xmlns:cc=\"http://creativecommons.org/ns#\" xmlns:dc=\"http://purl.org/dc/elements/1.1/\" xmlns:rdf=\"http://www.w3.org/1999/02/22-rdf-syntax-ns#\">\n   <cc:Work>\n    <dc:type rdf:resource=\"http://purl.org/dc/dcmitype/StillImage\"/>\n    <dc:date>2020-09-07T17:38:48.864923</dc:date>\n    <dc:format>image/svg+xml</dc:format>\n    <dc:creator>\n     <cc:Agent>\n      <dc:title>Matplotlib v3.3.1, https://matplotlib.org/</dc:title>\n     </cc:Agent>\n    </dc:creator>\n   </cc:Work>\n  </rdf:RDF>\n </metadata>\n <defs>\n  <style type=\"text/css\">*{stroke-linecap:butt;stroke-linejoin:round;}</style>\n </defs>\n <g id=\"figure_1\">\n  <g id=\"patch_1\">\n   <path d=\"M 0 277.314375 \nL 392.14375 277.314375 \nL 392.14375 0 \nL 0 0 \nz\n\" style=\"fill:none;\"/>\n  </g>\n  <g id=\"axes_1\">\n   <g id=\"patch_2\">\n    <path d=\"M 50.14375 239.758125 \nL 384.94375 239.758125 \nL 384.94375 22.318125 \nL 50.14375 22.318125 \nz\n\" style=\"fill:#ffffff;\"/>\n   </g>\n   <g id=\"patch_3\">\n    <path clip-path=\"url(#p703a9f0ca8)\" d=\"M 74.657826 239.758125 \nL 80.373263 239.758125 \nL 80.373263 238.850849 \nL 74.657826 238.850849 \nz\n\" style=\"fill:#008000;opacity:0.4;\"/>\n   </g>\n   <g id=\"patch_4\">\n    <path clip-path=\"url(#p703a9f0ca8)\" d=\"M 80.373263 239.758125 \nL 86.0887 239.758125 \nL 86.0887 238.62403 \nL 80.373263 238.62403 \nz\n\" style=\"fill:#008000;opacity:0.4;\"/>\n   </g>\n   <g id=\"patch_5\">\n    <path clip-path=\"url(#p703a9f0ca8)\" d=\"M 86.0887 239.758125 \nL 91.804137 239.758125 \nL 91.804137 237.716754 \nL 86.0887 237.716754 \nz\n\" style=\"fill:#008000;opacity:0.4;\"/>\n   </g>\n   <g id=\"patch_6\">\n    <path clip-path=\"url(#p703a9f0ca8)\" d=\"M 91.804137 239.758125 \nL 97.519574 239.758125 \nL 97.519574 239.758125 \nL 91.804137 239.758125 \nz\n\" style=\"fill:#008000;opacity:0.4;\"/>\n   </g>\n   <g id=\"patch_7\">\n    <path clip-path=\"url(#p703a9f0ca8)\" d=\"M 97.519574 239.758125 \nL 103.235011 239.758125 \nL 103.235011 232.726737 \nL 97.519574 232.726737 \nz\n\" style=\"fill:#008000;opacity:0.4;\"/>\n   </g>\n   <g id=\"patch_8\">\n    <path clip-path=\"url(#p703a9f0ca8)\" d=\"M 103.235011 239.758125 \nL 108.950448 239.758125 \nL 108.950448 215.488496 \nL 103.235011 215.488496 \nz\n\" style=\"fill:#008000;opacity:0.4;\"/>\n   </g>\n   <g id=\"patch_9\">\n    <path clip-path=\"url(#p703a9f0ca8)\" d=\"M 108.950448 239.758125 \nL 114.665885 239.758125 \nL 114.665885 153.566919 \nL 108.950448 153.566919 \nz\n\" style=\"fill:#008000;opacity:0.4;\"/>\n   </g>\n   <g id=\"patch_10\">\n    <path clip-path=\"url(#p703a9f0ca8)\" d=\"M 114.665885 239.758125 \nL 120.381322 239.758125 \nL 120.381322 239.758125 \nL 114.665885 239.758125 \nz\n\" style=\"fill:#008000;opacity:0.4;\"/>\n   </g>\n   <g id=\"patch_11\">\n    <path clip-path=\"url(#p703a9f0ca8)\" d=\"M 120.381322 239.758125 \nL 126.096759 239.758125 \nL 126.096759 76.448471 \nL 120.381322 76.448471 \nz\n\" style=\"fill:#008000;opacity:0.4;\"/>\n   </g>\n   <g id=\"patch_12\">\n    <path clip-path=\"url(#p703a9f0ca8)\" d=\"M 126.096759 239.758125 \nL 131.812196 239.758125 \nL 131.812196 32.672411 \nL 126.096759 32.672411 \nz\n\" style=\"fill:#008000;opacity:0.4;\"/>\n   </g>\n   <g id=\"patch_13\">\n    <path clip-path=\"url(#p703a9f0ca8)\" d=\"M 131.812196 239.758125 \nL 137.527633 239.758125 \nL 137.527633 239.758125 \nL 131.812196 239.758125 \nz\n\" style=\"fill:#008000;opacity:0.4;\"/>\n   </g>\n   <g id=\"patch_14\">\n    <path clip-path=\"url(#p703a9f0ca8)\" d=\"M 137.527633 239.758125 \nL 143.24307 239.758125 \nL 143.24307 72.13891 \nL 137.527633 72.13891 \nz\n\" style=\"fill:#008000;opacity:0.4;\"/>\n   </g>\n   <g id=\"patch_15\">\n    <path clip-path=\"url(#p703a9f0ca8)\" d=\"M 143.24307 239.758125 \nL 148.958507 239.758125 \nL 148.958507 143.813703 \nL 143.24307 143.813703 \nz\n\" style=\"fill:#008000;opacity:0.4;\"/>\n   </g>\n   <g id=\"patch_16\">\n    <path clip-path=\"url(#p703a9f0ca8)\" d=\"M 148.958507 239.758125 \nL 154.673944 239.758125 \nL 154.673944 193.260237 \nL 148.958507 193.260237 \nz\n\" style=\"fill:#008000;opacity:0.4;\"/>\n   </g>\n   <g id=\"patch_17\">\n    <path clip-path=\"url(#p703a9f0ca8)\" d=\"M 154.673944 239.758125 \nL 160.389381 239.758125 \nL 160.389381 239.758125 \nL 154.673944 239.758125 \nz\n\" style=\"fill:#008000;opacity:0.4;\"/>\n   </g>\n   <g id=\"patch_18\">\n    <path clip-path=\"url(#p703a9f0ca8)\" d=\"M 160.389381 239.758125 \nL 166.104818 239.758125 \nL 166.104818 213.447125 \nL 160.389381 213.447125 \nz\n\" style=\"fill:#008000;opacity:0.4;\"/>\n   </g>\n   <g id=\"patch_19\">\n    <path clip-path=\"url(#p703a9f0ca8)\" d=\"M 166.104818 239.758125 \nL 171.820254 239.758125 \nL 171.820254 228.190358 \nL 166.104818 228.190358 \nz\n\" style=\"fill:#008000;opacity:0.4;\"/>\n   </g>\n   <g id=\"patch_20\">\n    <path clip-path=\"url(#p703a9f0ca8)\" d=\"M 171.820254 239.758125 \nL 177.535691 239.758125 \nL 177.535691 239.758125 \nL 171.820254 239.758125 \nz\n\" style=\"fill:#008000;opacity:0.4;\"/>\n   </g>\n   <g id=\"patch_21\">\n    <path clip-path=\"url(#p703a9f0ca8)\" d=\"M 177.535691 239.758125 \nL 183.251128 239.758125 \nL 183.251128 234.541289 \nL 177.535691 234.541289 \nz\n\" style=\"fill:#008000;opacity:0.4;\"/>\n   </g>\n   <g id=\"patch_22\">\n    <path clip-path=\"url(#p703a9f0ca8)\" d=\"M 183.251128 239.758125 \nL 188.966565 239.758125 \nL 188.966565 236.809478 \nL 183.251128 236.809478 \nz\n\" style=\"fill:#008000;opacity:0.4;\"/>\n   </g>\n   <g id=\"patch_23\">\n    <path clip-path=\"url(#p703a9f0ca8)\" d=\"M 188.966565 239.758125 \nL 194.682002 239.758125 \nL 194.682002 237.716754 \nL 188.966565 237.716754 \nz\n\" style=\"fill:#008000;opacity:0.4;\"/>\n   </g>\n   <g id=\"patch_24\">\n    <path clip-path=\"url(#p703a9f0ca8)\" d=\"M 194.682002 239.758125 \nL 200.397439 239.758125 \nL 200.397439 239.758125 \nL 194.682002 239.758125 \nz\n\" style=\"fill:#008000;opacity:0.4;\"/>\n   </g>\n   <g id=\"patch_25\">\n    <path clip-path=\"url(#p703a9f0ca8)\" d=\"M 200.397439 239.758125 \nL 206.112876 239.758125 \nL 206.112876 238.170392 \nL 200.397439 238.170392 \nz\n\" style=\"fill:#008000;opacity:0.4;\"/>\n   </g>\n   <g id=\"patch_26\">\n    <path clip-path=\"url(#p703a9f0ca8)\" d=\"M 206.112876 239.758125 \nL 211.828313 239.758125 \nL 211.828313 239.077668 \nL 206.112876 239.077668 \nz\n\" style=\"fill:#008000;opacity:0.4;\"/>\n   </g>\n   <g id=\"patch_27\">\n    <path clip-path=\"url(#p703a9f0ca8)\" d=\"M 211.828313 239.758125 \nL 217.54375 239.758125 \nL 217.54375 239.758125 \nL 211.828313 239.758125 \nz\n\" style=\"fill:#008000;opacity:0.4;\"/>\n   </g>\n   <g id=\"patch_28\">\n    <path clip-path=\"url(#p703a9f0ca8)\" d=\"M 217.54375 239.758125 \nL 223.259187 239.758125 \nL 223.259187 239.758125 \nL 217.54375 239.758125 \nz\n\" style=\"fill:#008000;opacity:0.4;\"/>\n   </g>\n   <g id=\"patch_29\">\n    <path clip-path=\"url(#p703a9f0ca8)\" d=\"M 223.259187 239.758125 \nL 228.974624 239.758125 \nL 228.974624 239.758125 \nL 223.259187 239.758125 \nz\n\" style=\"fill:#008000;opacity:0.4;\"/>\n   </g>\n   <g id=\"patch_30\">\n    <path clip-path=\"url(#p703a9f0ca8)\" d=\"M 228.974624 239.758125 \nL 234.690061 239.758125 \nL 234.690061 239.758125 \nL 228.974624 239.758125 \nz\n\" style=\"fill:#008000;opacity:0.4;\"/>\n   </g>\n   <g id=\"patch_31\">\n    <path clip-path=\"url(#p703a9f0ca8)\" d=\"M 234.690061 239.758125 \nL 240.405498 239.758125 \nL 240.405498 239.758125 \nL 234.690061 239.758125 \nz\n\" style=\"fill:#008000;opacity:0.4;\"/>\n   </g>\n   <g id=\"patch_32\">\n    <path clip-path=\"url(#p703a9f0ca8)\" d=\"M 240.405498 239.758125 \nL 246.120935 239.758125 \nL 246.120935 239.758125 \nL 240.405498 239.758125 \nz\n\" style=\"fill:#008000;opacity:0.4;\"/>\n   </g>\n   <g id=\"patch_33\">\n    <path clip-path=\"url(#p703a9f0ca8)\" d=\"M 246.120935 239.758125 \nL 251.836372 239.758125 \nL 251.836372 239.758125 \nL 246.120935 239.758125 \nz\n\" style=\"fill:#008000;opacity:0.4;\"/>\n   </g>\n   <g id=\"patch_34\">\n    <path clip-path=\"url(#p703a9f0ca8)\" d=\"M 251.836372 239.758125 \nL 257.551809 239.758125 \nL 257.551809 239.758125 \nL 251.836372 239.758125 \nz\n\" style=\"fill:#008000;opacity:0.4;\"/>\n   </g>\n   <g id=\"patch_35\">\n    <path clip-path=\"url(#p703a9f0ca8)\" d=\"M 257.551809 239.758125 \nL 263.267246 239.758125 \nL 263.267246 239.758125 \nL 257.551809 239.758125 \nz\n\" style=\"fill:#008000;opacity:0.4;\"/>\n   </g>\n   <g id=\"patch_36\">\n    <path clip-path=\"url(#p703a9f0ca8)\" d=\"M 263.267246 239.758125 \nL 268.982682 239.758125 \nL 268.982682 239.758125 \nL 263.267246 239.758125 \nz\n\" style=\"fill:#008000;opacity:0.4;\"/>\n   </g>\n   <g id=\"patch_37\">\n    <path clip-path=\"url(#p703a9f0ca8)\" d=\"M 268.982682 239.758125 \nL 274.698119 239.758125 \nL 274.698119 239.758125 \nL 268.982682 239.758125 \nz\n\" style=\"fill:#008000;opacity:0.4;\"/>\n   </g>\n   <g id=\"patch_38\">\n    <path clip-path=\"url(#p703a9f0ca8)\" d=\"M 274.698119 239.758125 \nL 280.413556 239.758125 \nL 280.413556 239.758125 \nL 274.698119 239.758125 \nz\n\" style=\"fill:#008000;opacity:0.4;\"/>\n   </g>\n   <g id=\"patch_39\">\n    <path clip-path=\"url(#p703a9f0ca8)\" d=\"M 280.413556 239.758125 \nL 286.128993 239.758125 \nL 286.128993 239.758125 \nL 280.413556 239.758125 \nz\n\" style=\"fill:#008000;opacity:0.4;\"/>\n   </g>\n   <g id=\"patch_40\">\n    <path clip-path=\"url(#p703a9f0ca8)\" d=\"M 286.128993 239.758125 \nL 291.84443 239.758125 \nL 291.84443 239.758125 \nL 286.128993 239.758125 \nz\n\" style=\"fill:#008000;opacity:0.4;\"/>\n   </g>\n   <g id=\"patch_41\">\n    <path clip-path=\"url(#p703a9f0ca8)\" d=\"M 291.84443 239.758125 \nL 297.559867 239.758125 \nL 297.559867 239.531306 \nL 291.84443 239.531306 \nz\n\" style=\"fill:#008000;opacity:0.4;\"/>\n   </g>\n   <g id=\"patch_42\">\n    <path clip-path=\"url(#p703a9f0ca8)\" d=\"M 297.559867 239.758125 \nL 303.275304 239.758125 \nL 303.275304 239.758125 \nL 297.559867 239.758125 \nz\n\" style=\"fill:#008000;opacity:0.4;\"/>\n   </g>\n   <g id=\"patch_43\">\n    <path clip-path=\"url(#p703a9f0ca8)\" d=\"M 303.275304 239.758125 \nL 308.990741 239.758125 \nL 308.990741 239.758125 \nL 303.275304 239.758125 \nz\n\" style=\"fill:#008000;opacity:0.4;\"/>\n   </g>\n   <g id=\"patch_44\">\n    <path clip-path=\"url(#p703a9f0ca8)\" d=\"M 308.990741 239.758125 \nL 314.706178 239.758125 \nL 314.706178 239.758125 \nL 308.990741 239.758125 \nz\n\" style=\"fill:#008000;opacity:0.4;\"/>\n   </g>\n   <g id=\"patch_45\">\n    <path clip-path=\"url(#p703a9f0ca8)\" d=\"M 314.706178 239.758125 \nL 320.421615 239.758125 \nL 320.421615 239.758125 \nL 314.706178 239.758125 \nz\n\" style=\"fill:#008000;opacity:0.4;\"/>\n   </g>\n   <g id=\"patch_46\">\n    <path clip-path=\"url(#p703a9f0ca8)\" d=\"M 320.421615 239.758125 \nL 326.137052 239.758125 \nL 326.137052 239.758125 \nL 320.421615 239.758125 \nz\n\" style=\"fill:#008000;opacity:0.4;\"/>\n   </g>\n   <g id=\"patch_47\">\n    <path clip-path=\"url(#p703a9f0ca8)\" d=\"M 326.137052 239.758125 \nL 331.852489 239.758125 \nL 331.852489 239.758125 \nL 326.137052 239.758125 \nz\n\" style=\"fill:#008000;opacity:0.4;\"/>\n   </g>\n   <g id=\"patch_48\">\n    <path clip-path=\"url(#p703a9f0ca8)\" d=\"M 331.852489 239.758125 \nL 337.567926 239.758125 \nL 337.567926 239.758125 \nL 331.852489 239.758125 \nz\n\" style=\"fill:#008000;opacity:0.4;\"/>\n   </g>\n   <g id=\"patch_49\">\n    <path clip-path=\"url(#p703a9f0ca8)\" d=\"M 337.567926 239.758125 \nL 343.283363 239.758125 \nL 343.283363 239.758125 \nL 337.567926 239.758125 \nz\n\" style=\"fill:#008000;opacity:0.4;\"/>\n   </g>\n   <g id=\"patch_50\">\n    <path clip-path=\"url(#p703a9f0ca8)\" d=\"M 343.283363 239.758125 \nL 348.9988 239.758125 \nL 348.9988 239.758125 \nL 343.283363 239.758125 \nz\n\" style=\"fill:#008000;opacity:0.4;\"/>\n   </g>\n   <g id=\"patch_51\">\n    <path clip-path=\"url(#p703a9f0ca8)\" d=\"M 348.9988 239.758125 \nL 354.714237 239.758125 \nL 354.714237 239.758125 \nL 348.9988 239.758125 \nz\n\" style=\"fill:#008000;opacity:0.4;\"/>\n   </g>\n   <g id=\"patch_52\">\n    <path clip-path=\"url(#p703a9f0ca8)\" d=\"M 354.714237 239.758125 \nL 360.429674 239.758125 \nL 360.429674 239.531306 \nL 354.714237 239.531306 \nz\n\" style=\"fill:#008000;opacity:0.4;\"/>\n   </g>\n   <g id=\"matplotlib.axis_1\">\n    <g id=\"xtick_1\">\n     <g id=\"line2d_1\">\n      <defs>\n       <path d=\"M 0 0 \nL 0 3.5 \n\" id=\"mdac8c9f96b\" style=\"stroke:#000000;stroke-width:0.8;\"/>\n      </defs>\n      <g>\n       <use style=\"stroke:#000000;stroke-width:0.8;\" x=\"50.843506\" xlink:href=\"#mdac8c9f96b\" y=\"239.758125\"/>\n      </g>\n     </g>\n     <g id=\"text_1\">\n      <!-- 5 -->\n      <g transform=\"translate(47.662256 254.356562)scale(0.1 -0.1)\">\n       <defs>\n        <path d=\"M 10.796875 72.90625 \nL 49.515625 72.90625 \nL 49.515625 64.59375 \nL 19.828125 64.59375 \nL 19.828125 46.734375 \nQ 21.96875 47.46875 24.109375 47.828125 \nQ 26.265625 48.1875 28.421875 48.1875 \nQ 40.625 48.1875 47.75 41.5 \nQ 54.890625 34.8125 54.890625 23.390625 \nQ 54.890625 11.625 47.5625 5.09375 \nQ 40.234375 -1.421875 26.90625 -1.421875 \nQ 22.3125 -1.421875 17.546875 -0.640625 \nQ 12.796875 0.140625 7.71875 1.703125 \nL 7.71875 11.625 \nQ 12.109375 9.234375 16.796875 8.0625 \nQ 21.484375 6.890625 26.703125 6.890625 \nQ 35.15625 6.890625 40.078125 11.328125 \nQ 45.015625 15.765625 45.015625 23.390625 \nQ 45.015625 31 40.078125 35.4375 \nQ 35.15625 39.890625 26.703125 39.890625 \nQ 22.75 39.890625 18.8125 39.015625 \nQ 14.890625 38.140625 10.796875 36.28125 \nz\n\" id=\"DejaVuSans-53\"/>\n       </defs>\n       <use xlink:href=\"#DejaVuSans-53\"/>\n      </g>\n     </g>\n    </g>\n    <g id=\"xtick_2\">\n     <g id=\"line2d_2\">\n      <g>\n       <use style=\"stroke:#000000;stroke-width:0.8;\" x=\"90.53404\" xlink:href=\"#mdac8c9f96b\" y=\"239.758125\"/>\n      </g>\n     </g>\n     <g id=\"text_2\">\n      <!-- 10 -->\n      <g transform=\"translate(84.17154 254.356562)scale(0.1 -0.1)\">\n       <defs>\n        <path d=\"M 12.40625 8.296875 \nL 28.515625 8.296875 \nL 28.515625 63.921875 \nL 10.984375 60.40625 \nL 10.984375 69.390625 \nL 28.421875 72.90625 \nL 38.28125 72.90625 \nL 38.28125 8.296875 \nL 54.390625 8.296875 \nL 54.390625 0 \nL 12.40625 0 \nz\n\" id=\"DejaVuSans-49\"/>\n        <path d=\"M 31.78125 66.40625 \nQ 24.171875 66.40625 20.328125 58.90625 \nQ 16.5 51.421875 16.5 36.375 \nQ 16.5 21.390625 20.328125 13.890625 \nQ 24.171875 6.390625 31.78125 6.390625 \nQ 39.453125 6.390625 43.28125 13.890625 \nQ 47.125 21.390625 47.125 36.375 \nQ 47.125 51.421875 43.28125 58.90625 \nQ 39.453125 66.40625 31.78125 66.40625 \nz\nM 31.78125 74.21875 \nQ 44.046875 74.21875 50.515625 64.515625 \nQ 56.984375 54.828125 56.984375 36.375 \nQ 56.984375 17.96875 50.515625 8.265625 \nQ 44.046875 -1.421875 31.78125 -1.421875 \nQ 19.53125 -1.421875 13.0625 8.265625 \nQ 6.59375 17.96875 6.59375 36.375 \nQ 6.59375 54.828125 13.0625 64.515625 \nQ 19.53125 74.21875 31.78125 74.21875 \nz\n\" id=\"DejaVuSans-48\"/>\n       </defs>\n       <use xlink:href=\"#DejaVuSans-49\"/>\n       <use x=\"63.623047\" xlink:href=\"#DejaVuSans-48\"/>\n      </g>\n     </g>\n    </g>\n    <g id=\"xtick_3\">\n     <g id=\"line2d_3\">\n      <g>\n       <use style=\"stroke:#000000;stroke-width:0.8;\" x=\"130.224574\" xlink:href=\"#mdac8c9f96b\" y=\"239.758125\"/>\n      </g>\n     </g>\n     <g id=\"text_3\">\n      <!-- 15 -->\n      <g transform=\"translate(123.862074 254.356562)scale(0.1 -0.1)\">\n       <use xlink:href=\"#DejaVuSans-49\"/>\n       <use x=\"63.623047\" xlink:href=\"#DejaVuSans-53\"/>\n      </g>\n     </g>\n    </g>\n    <g id=\"xtick_4\">\n     <g id=\"line2d_4\">\n      <g>\n       <use style=\"stroke:#000000;stroke-width:0.8;\" x=\"169.915109\" xlink:href=\"#mdac8c9f96b\" y=\"239.758125\"/>\n      </g>\n     </g>\n     <g id=\"text_4\">\n      <!-- 20 -->\n      <g transform=\"translate(163.552609 254.356562)scale(0.1 -0.1)\">\n       <defs>\n        <path d=\"M 19.1875 8.296875 \nL 53.609375 8.296875 \nL 53.609375 0 \nL 7.328125 0 \nL 7.328125 8.296875 \nQ 12.9375 14.109375 22.625 23.890625 \nQ 32.328125 33.6875 34.8125 36.53125 \nQ 39.546875 41.84375 41.421875 45.53125 \nQ 43.3125 49.21875 43.3125 52.78125 \nQ 43.3125 58.59375 39.234375 62.25 \nQ 35.15625 65.921875 28.609375 65.921875 \nQ 23.96875 65.921875 18.8125 64.3125 \nQ 13.671875 62.703125 7.8125 59.421875 \nL 7.8125 69.390625 \nQ 13.765625 71.78125 18.9375 73 \nQ 24.125 74.21875 28.421875 74.21875 \nQ 39.75 74.21875 46.484375 68.546875 \nQ 53.21875 62.890625 53.21875 53.421875 \nQ 53.21875 48.921875 51.53125 44.890625 \nQ 49.859375 40.875 45.40625 35.40625 \nQ 44.1875 33.984375 37.640625 27.21875 \nQ 31.109375 20.453125 19.1875 8.296875 \nz\n\" id=\"DejaVuSans-50\"/>\n       </defs>\n       <use xlink:href=\"#DejaVuSans-50\"/>\n       <use x=\"63.623047\" xlink:href=\"#DejaVuSans-48\"/>\n      </g>\n     </g>\n    </g>\n    <g id=\"xtick_5\">\n     <g id=\"line2d_5\">\n      <g>\n       <use style=\"stroke:#000000;stroke-width:0.8;\" x=\"209.605643\" xlink:href=\"#mdac8c9f96b\" y=\"239.758125\"/>\n      </g>\n     </g>\n     <g id=\"text_5\">\n      <!-- 25 -->\n      <g transform=\"translate(203.243143 254.356562)scale(0.1 -0.1)\">\n       <use xlink:href=\"#DejaVuSans-50\"/>\n       <use x=\"63.623047\" xlink:href=\"#DejaVuSans-53\"/>\n      </g>\n     </g>\n    </g>\n    <g id=\"xtick_6\">\n     <g id=\"line2d_6\">\n      <g>\n       <use style=\"stroke:#000000;stroke-width:0.8;\" x=\"249.296177\" xlink:href=\"#mdac8c9f96b\" y=\"239.758125\"/>\n      </g>\n     </g>\n     <g id=\"text_6\">\n      <!-- 30 -->\n      <g transform=\"translate(242.933677 254.356562)scale(0.1 -0.1)\">\n       <defs>\n        <path d=\"M 40.578125 39.3125 \nQ 47.65625 37.796875 51.625 33 \nQ 55.609375 28.21875 55.609375 21.1875 \nQ 55.609375 10.40625 48.1875 4.484375 \nQ 40.765625 -1.421875 27.09375 -1.421875 \nQ 22.515625 -1.421875 17.65625 -0.515625 \nQ 12.796875 0.390625 7.625 2.203125 \nL 7.625 11.71875 \nQ 11.71875 9.328125 16.59375 8.109375 \nQ 21.484375 6.890625 26.8125 6.890625 \nQ 36.078125 6.890625 40.9375 10.546875 \nQ 45.796875 14.203125 45.796875 21.1875 \nQ 45.796875 27.640625 41.28125 31.265625 \nQ 36.765625 34.90625 28.71875 34.90625 \nL 20.21875 34.90625 \nL 20.21875 43.015625 \nL 29.109375 43.015625 \nQ 36.375 43.015625 40.234375 45.921875 \nQ 44.09375 48.828125 44.09375 54.296875 \nQ 44.09375 59.90625 40.109375 62.90625 \nQ 36.140625 65.921875 28.71875 65.921875 \nQ 24.65625 65.921875 20.015625 65.03125 \nQ 15.375 64.15625 9.8125 62.3125 \nL 9.8125 71.09375 \nQ 15.4375 72.65625 20.34375 73.4375 \nQ 25.25 74.21875 29.59375 74.21875 \nQ 40.828125 74.21875 47.359375 69.109375 \nQ 53.90625 64.015625 53.90625 55.328125 \nQ 53.90625 49.265625 50.4375 45.09375 \nQ 46.96875 40.921875 40.578125 39.3125 \nz\n\" id=\"DejaVuSans-51\"/>\n       </defs>\n       <use xlink:href=\"#DejaVuSans-51\"/>\n       <use x=\"63.623047\" xlink:href=\"#DejaVuSans-48\"/>\n      </g>\n     </g>\n    </g>\n    <g id=\"xtick_7\">\n     <g id=\"line2d_7\">\n      <g>\n       <use style=\"stroke:#000000;stroke-width:0.8;\" x=\"288.986712\" xlink:href=\"#mdac8c9f96b\" y=\"239.758125\"/>\n      </g>\n     </g>\n     <g id=\"text_7\">\n      <!-- 35 -->\n      <g transform=\"translate(282.624212 254.356562)scale(0.1 -0.1)\">\n       <use xlink:href=\"#DejaVuSans-51\"/>\n       <use x=\"63.623047\" xlink:href=\"#DejaVuSans-53\"/>\n      </g>\n     </g>\n    </g>\n    <g id=\"xtick_8\">\n     <g id=\"line2d_8\">\n      <g>\n       <use style=\"stroke:#000000;stroke-width:0.8;\" x=\"328.677246\" xlink:href=\"#mdac8c9f96b\" y=\"239.758125\"/>\n      </g>\n     </g>\n     <g id=\"text_8\">\n      <!-- 40 -->\n      <g transform=\"translate(322.314746 254.356562)scale(0.1 -0.1)\">\n       <defs>\n        <path d=\"M 37.796875 64.3125 \nL 12.890625 25.390625 \nL 37.796875 25.390625 \nz\nM 35.203125 72.90625 \nL 47.609375 72.90625 \nL 47.609375 25.390625 \nL 58.015625 25.390625 \nL 58.015625 17.1875 \nL 47.609375 17.1875 \nL 47.609375 0 \nL 37.796875 0 \nL 37.796875 17.1875 \nL 4.890625 17.1875 \nL 4.890625 26.703125 \nz\n\" id=\"DejaVuSans-52\"/>\n       </defs>\n       <use xlink:href=\"#DejaVuSans-52\"/>\n       <use x=\"63.623047\" xlink:href=\"#DejaVuSans-48\"/>\n      </g>\n     </g>\n    </g>\n    <g id=\"xtick_9\">\n     <g id=\"line2d_9\">\n      <g>\n       <use style=\"stroke:#000000;stroke-width:0.8;\" x=\"368.36778\" xlink:href=\"#mdac8c9f96b\" y=\"239.758125\"/>\n      </g>\n     </g>\n     <g id=\"text_9\">\n      <!-- 45 -->\n      <g transform=\"translate(362.00528 254.356562)scale(0.1 -0.1)\">\n       <use xlink:href=\"#DejaVuSans-52\"/>\n       <use x=\"63.623047\" xlink:href=\"#DejaVuSans-53\"/>\n      </g>\n     </g>\n    </g>\n    <g id=\"text_10\">\n     <!-- Peptide Length -->\n     <g transform=\"translate(180.023438 268.034687)scale(0.1 -0.1)\">\n      <defs>\n       <path d=\"M 19.671875 64.796875 \nL 19.671875 37.40625 \nL 32.078125 37.40625 \nQ 38.96875 37.40625 42.71875 40.96875 \nQ 46.484375 44.53125 46.484375 51.125 \nQ 46.484375 57.671875 42.71875 61.234375 \nQ 38.96875 64.796875 32.078125 64.796875 \nz\nM 9.8125 72.90625 \nL 32.078125 72.90625 \nQ 44.34375 72.90625 50.609375 67.359375 \nQ 56.890625 61.8125 56.890625 51.125 \nQ 56.890625 40.328125 50.609375 34.8125 \nQ 44.34375 29.296875 32.078125 29.296875 \nL 19.671875 29.296875 \nL 19.671875 0 \nL 9.8125 0 \nz\n\" id=\"DejaVuSans-80\"/>\n       <path d=\"M 56.203125 29.59375 \nL 56.203125 25.203125 \nL 14.890625 25.203125 \nQ 15.484375 15.921875 20.484375 11.0625 \nQ 25.484375 6.203125 34.421875 6.203125 \nQ 39.59375 6.203125 44.453125 7.46875 \nQ 49.3125 8.734375 54.109375 11.28125 \nL 54.109375 2.78125 \nQ 49.265625 0.734375 44.1875 -0.34375 \nQ 39.109375 -1.421875 33.890625 -1.421875 \nQ 20.796875 -1.421875 13.15625 6.1875 \nQ 5.515625 13.8125 5.515625 26.8125 \nQ 5.515625 40.234375 12.765625 48.109375 \nQ 20.015625 56 32.328125 56 \nQ 43.359375 56 49.78125 48.890625 \nQ 56.203125 41.796875 56.203125 29.59375 \nz\nM 47.21875 32.234375 \nQ 47.125 39.59375 43.09375 43.984375 \nQ 39.0625 48.390625 32.421875 48.390625 \nQ 24.90625 48.390625 20.390625 44.140625 \nQ 15.875 39.890625 15.1875 32.171875 \nz\n\" id=\"DejaVuSans-101\"/>\n       <path d=\"M 18.109375 8.203125 \nL 18.109375 -20.796875 \nL 9.078125 -20.796875 \nL 9.078125 54.6875 \nL 18.109375 54.6875 \nL 18.109375 46.390625 \nQ 20.953125 51.265625 25.265625 53.625 \nQ 29.59375 56 35.59375 56 \nQ 45.5625 56 51.78125 48.09375 \nQ 58.015625 40.1875 58.015625 27.296875 \nQ 58.015625 14.40625 51.78125 6.484375 \nQ 45.5625 -1.421875 35.59375 -1.421875 \nQ 29.59375 -1.421875 25.265625 0.953125 \nQ 20.953125 3.328125 18.109375 8.203125 \nz\nM 48.6875 27.296875 \nQ 48.6875 37.203125 44.609375 42.84375 \nQ 40.53125 48.484375 33.40625 48.484375 \nQ 26.265625 48.484375 22.1875 42.84375 \nQ 18.109375 37.203125 18.109375 27.296875 \nQ 18.109375 17.390625 22.1875 11.75 \nQ 26.265625 6.109375 33.40625 6.109375 \nQ 40.53125 6.109375 44.609375 11.75 \nQ 48.6875 17.390625 48.6875 27.296875 \nz\n\" id=\"DejaVuSans-112\"/>\n       <path d=\"M 18.3125 70.21875 \nL 18.3125 54.6875 \nL 36.8125 54.6875 \nL 36.8125 47.703125 \nL 18.3125 47.703125 \nL 18.3125 18.015625 \nQ 18.3125 11.328125 20.140625 9.421875 \nQ 21.96875 7.515625 27.59375 7.515625 \nL 36.8125 7.515625 \nL 36.8125 0 \nL 27.59375 0 \nQ 17.1875 0 13.234375 3.875 \nQ 9.28125 7.765625 9.28125 18.015625 \nL 9.28125 47.703125 \nL 2.6875 47.703125 \nL 2.6875 54.6875 \nL 9.28125 54.6875 \nL 9.28125 70.21875 \nz\n\" id=\"DejaVuSans-116\"/>\n       <path d=\"M 9.421875 54.6875 \nL 18.40625 54.6875 \nL 18.40625 0 \nL 9.421875 0 \nz\nM 9.421875 75.984375 \nL 18.40625 75.984375 \nL 18.40625 64.59375 \nL 9.421875 64.59375 \nz\n\" id=\"DejaVuSans-105\"/>\n       <path d=\"M 45.40625 46.390625 \nL 45.40625 75.984375 \nL 54.390625 75.984375 \nL 54.390625 0 \nL 45.40625 0 \nL 45.40625 8.203125 \nQ 42.578125 3.328125 38.25 0.953125 \nQ 33.9375 -1.421875 27.875 -1.421875 \nQ 17.96875 -1.421875 11.734375 6.484375 \nQ 5.515625 14.40625 5.515625 27.296875 \nQ 5.515625 40.1875 11.734375 48.09375 \nQ 17.96875 56 27.875 56 \nQ 33.9375 56 38.25 53.625 \nQ 42.578125 51.265625 45.40625 46.390625 \nz\nM 14.796875 27.296875 \nQ 14.796875 17.390625 18.875 11.75 \nQ 22.953125 6.109375 30.078125 6.109375 \nQ 37.203125 6.109375 41.296875 11.75 \nQ 45.40625 17.390625 45.40625 27.296875 \nQ 45.40625 37.203125 41.296875 42.84375 \nQ 37.203125 48.484375 30.078125 48.484375 \nQ 22.953125 48.484375 18.875 42.84375 \nQ 14.796875 37.203125 14.796875 27.296875 \nz\n\" id=\"DejaVuSans-100\"/>\n       <path id=\"DejaVuSans-32\"/>\n       <path d=\"M 9.8125 72.90625 \nL 19.671875 72.90625 \nL 19.671875 8.296875 \nL 55.171875 8.296875 \nL 55.171875 0 \nL 9.8125 0 \nz\n\" id=\"DejaVuSans-76\"/>\n       <path d=\"M 54.890625 33.015625 \nL 54.890625 0 \nL 45.90625 0 \nL 45.90625 32.71875 \nQ 45.90625 40.484375 42.875 44.328125 \nQ 39.84375 48.1875 33.796875 48.1875 \nQ 26.515625 48.1875 22.3125 43.546875 \nQ 18.109375 38.921875 18.109375 30.90625 \nL 18.109375 0 \nL 9.078125 0 \nL 9.078125 54.6875 \nL 18.109375 54.6875 \nL 18.109375 46.1875 \nQ 21.34375 51.125 25.703125 53.5625 \nQ 30.078125 56 35.796875 56 \nQ 45.21875 56 50.046875 50.171875 \nQ 54.890625 44.34375 54.890625 33.015625 \nz\n\" id=\"DejaVuSans-110\"/>\n       <path d=\"M 45.40625 27.984375 \nQ 45.40625 37.75 41.375 43.109375 \nQ 37.359375 48.484375 30.078125 48.484375 \nQ 22.859375 48.484375 18.828125 43.109375 \nQ 14.796875 37.75 14.796875 27.984375 \nQ 14.796875 18.265625 18.828125 12.890625 \nQ 22.859375 7.515625 30.078125 7.515625 \nQ 37.359375 7.515625 41.375 12.890625 \nQ 45.40625 18.265625 45.40625 27.984375 \nz\nM 54.390625 6.78125 \nQ 54.390625 -7.171875 48.1875 -13.984375 \nQ 42 -20.796875 29.203125 -20.796875 \nQ 24.46875 -20.796875 20.265625 -20.09375 \nQ 16.0625 -19.390625 12.109375 -17.921875 \nL 12.109375 -9.1875 \nQ 16.0625 -11.328125 19.921875 -12.34375 \nQ 23.78125 -13.375 27.78125 -13.375 \nQ 36.625 -13.375 41.015625 -8.765625 \nQ 45.40625 -4.15625 45.40625 5.171875 \nL 45.40625 9.625 \nQ 42.625 4.78125 38.28125 2.390625 \nQ 33.9375 0 27.875 0 \nQ 17.828125 0 11.671875 7.65625 \nQ 5.515625 15.328125 5.515625 27.984375 \nQ 5.515625 40.671875 11.671875 48.328125 \nQ 17.828125 56 27.875 56 \nQ 33.9375 56 38.28125 53.609375 \nQ 42.625 51.21875 45.40625 46.390625 \nL 45.40625 54.6875 \nL 54.390625 54.6875 \nz\n\" id=\"DejaVuSans-103\"/>\n       <path d=\"M 54.890625 33.015625 \nL 54.890625 0 \nL 45.90625 0 \nL 45.90625 32.71875 \nQ 45.90625 40.484375 42.875 44.328125 \nQ 39.84375 48.1875 33.796875 48.1875 \nQ 26.515625 48.1875 22.3125 43.546875 \nQ 18.109375 38.921875 18.109375 30.90625 \nL 18.109375 0 \nL 9.078125 0 \nL 9.078125 75.984375 \nL 18.109375 75.984375 \nL 18.109375 46.1875 \nQ 21.34375 51.125 25.703125 53.5625 \nQ 30.078125 56 35.796875 56 \nQ 45.21875 56 50.046875 50.171875 \nQ 54.890625 44.34375 54.890625 33.015625 \nz\n\" id=\"DejaVuSans-104\"/>\n      </defs>\n      <use xlink:href=\"#DejaVuSans-80\"/>\n      <use x=\"56.677734\" xlink:href=\"#DejaVuSans-101\"/>\n      <use x=\"118.201172\" xlink:href=\"#DejaVuSans-112\"/>\n      <use x=\"181.677734\" xlink:href=\"#DejaVuSans-116\"/>\n      <use x=\"220.886719\" xlink:href=\"#DejaVuSans-105\"/>\n      <use x=\"248.669922\" xlink:href=\"#DejaVuSans-100\"/>\n      <use x=\"312.146484\" xlink:href=\"#DejaVuSans-101\"/>\n      <use x=\"373.669922\" xlink:href=\"#DejaVuSans-32\"/>\n      <use x=\"405.457031\" xlink:href=\"#DejaVuSans-76\"/>\n      <use x=\"459.419922\" xlink:href=\"#DejaVuSans-101\"/>\n      <use x=\"520.943359\" xlink:href=\"#DejaVuSans-110\"/>\n      <use x=\"584.322266\" xlink:href=\"#DejaVuSans-103\"/>\n      <use x=\"647.798828\" xlink:href=\"#DejaVuSans-116\"/>\n      <use x=\"687.007812\" xlink:href=\"#DejaVuSans-104\"/>\n     </g>\n    </g>\n   </g>\n   <g id=\"matplotlib.axis_2\">\n    <g id=\"ytick_1\">\n     <g id=\"line2d_10\">\n      <defs>\n       <path d=\"M 0 0 \nL -3.5 0 \n\" id=\"mb73098d1e5\" style=\"stroke:#000000;stroke-width:0.8;\"/>\n      </defs>\n      <g>\n       <use style=\"stroke:#000000;stroke-width:0.8;\" x=\"50.14375\" xlink:href=\"#mb73098d1e5\" y=\"239.758125\"/>\n      </g>\n     </g>\n     <g id=\"text_11\">\n      <!-- 0.00 -->\n      <g transform=\"translate(20.878125 243.557344)scale(0.1 -0.1)\">\n       <defs>\n        <path d=\"M 10.6875 12.40625 \nL 21 12.40625 \nL 21 0 \nL 10.6875 0 \nz\n\" id=\"DejaVuSans-46\"/>\n       </defs>\n       <use xlink:href=\"#DejaVuSans-48\"/>\n       <use x=\"63.623047\" xlink:href=\"#DejaVuSans-46\"/>\n       <use x=\"95.410156\" xlink:href=\"#DejaVuSans-48\"/>\n       <use x=\"159.033203\" xlink:href=\"#DejaVuSans-48\"/>\n      </g>\n     </g>\n    </g>\n    <g id=\"ytick_2\">\n     <g id=\"line2d_11\">\n      <g>\n       <use style=\"stroke:#000000;stroke-width:0.8;\" x=\"50.14375\" xlink:href=\"#mb73098d1e5\" y=\"209.05591\"/>\n      </g>\n     </g>\n     <g id=\"text_12\">\n      <!-- 0.05 -->\n      <g transform=\"translate(20.878125 212.855129)scale(0.1 -0.1)\">\n       <use xlink:href=\"#DejaVuSans-48\"/>\n       <use x=\"63.623047\" xlink:href=\"#DejaVuSans-46\"/>\n       <use x=\"95.410156\" xlink:href=\"#DejaVuSans-48\"/>\n       <use x=\"159.033203\" xlink:href=\"#DejaVuSans-53\"/>\n      </g>\n     </g>\n    </g>\n    <g id=\"ytick_3\">\n     <g id=\"line2d_12\">\n      <g>\n       <use style=\"stroke:#000000;stroke-width:0.8;\" x=\"50.14375\" xlink:href=\"#mb73098d1e5\" y=\"178.353695\"/>\n      </g>\n     </g>\n     <g id=\"text_13\">\n      <!-- 0.10 -->\n      <g transform=\"translate(20.878125 182.152914)scale(0.1 -0.1)\">\n       <use xlink:href=\"#DejaVuSans-48\"/>\n       <use x=\"63.623047\" xlink:href=\"#DejaVuSans-46\"/>\n       <use x=\"95.410156\" xlink:href=\"#DejaVuSans-49\"/>\n       <use x=\"159.033203\" xlink:href=\"#DejaVuSans-48\"/>\n      </g>\n     </g>\n    </g>\n    <g id=\"ytick_4\">\n     <g id=\"line2d_13\">\n      <g>\n       <use style=\"stroke:#000000;stroke-width:0.8;\" x=\"50.14375\" xlink:href=\"#mb73098d1e5\" y=\"147.65148\"/>\n      </g>\n     </g>\n     <g id=\"text_14\">\n      <!-- 0.15 -->\n      <g transform=\"translate(20.878125 151.450699)scale(0.1 -0.1)\">\n       <use xlink:href=\"#DejaVuSans-48\"/>\n       <use x=\"63.623047\" xlink:href=\"#DejaVuSans-46\"/>\n       <use x=\"95.410156\" xlink:href=\"#DejaVuSans-49\"/>\n       <use x=\"159.033203\" xlink:href=\"#DejaVuSans-53\"/>\n      </g>\n     </g>\n    </g>\n    <g id=\"ytick_5\">\n     <g id=\"line2d_14\">\n      <g>\n       <use style=\"stroke:#000000;stroke-width:0.8;\" x=\"50.14375\" xlink:href=\"#mb73098d1e5\" y=\"116.949265\"/>\n      </g>\n     </g>\n     <g id=\"text_15\">\n      <!-- 0.20 -->\n      <g transform=\"translate(20.878125 120.748484)scale(0.1 -0.1)\">\n       <use xlink:href=\"#DejaVuSans-48\"/>\n       <use x=\"63.623047\" xlink:href=\"#DejaVuSans-46\"/>\n       <use x=\"95.410156\" xlink:href=\"#DejaVuSans-50\"/>\n       <use x=\"159.033203\" xlink:href=\"#DejaVuSans-48\"/>\n      </g>\n     </g>\n    </g>\n    <g id=\"ytick_6\">\n     <g id=\"line2d_15\">\n      <g>\n       <use style=\"stroke:#000000;stroke-width:0.8;\" x=\"50.14375\" xlink:href=\"#mb73098d1e5\" y=\"86.24705\"/>\n      </g>\n     </g>\n     <g id=\"text_16\">\n      <!-- 0.25 -->\n      <g transform=\"translate(20.878125 90.046269)scale(0.1 -0.1)\">\n       <use xlink:href=\"#DejaVuSans-48\"/>\n       <use x=\"63.623047\" xlink:href=\"#DejaVuSans-46\"/>\n       <use x=\"95.410156\" xlink:href=\"#DejaVuSans-50\"/>\n       <use x=\"159.033203\" xlink:href=\"#DejaVuSans-53\"/>\n      </g>\n     </g>\n    </g>\n    <g id=\"ytick_7\">\n     <g id=\"line2d_16\">\n      <g>\n       <use style=\"stroke:#000000;stroke-width:0.8;\" x=\"50.14375\" xlink:href=\"#mb73098d1e5\" y=\"55.544835\"/>\n      </g>\n     </g>\n     <g id=\"text_17\">\n      <!-- 0.30 -->\n      <g transform=\"translate(20.878125 59.344054)scale(0.1 -0.1)\">\n       <use xlink:href=\"#DejaVuSans-48\"/>\n       <use x=\"63.623047\" xlink:href=\"#DejaVuSans-46\"/>\n       <use x=\"95.410156\" xlink:href=\"#DejaVuSans-51\"/>\n       <use x=\"159.033203\" xlink:href=\"#DejaVuSans-48\"/>\n      </g>\n     </g>\n    </g>\n    <g id=\"ytick_8\">\n     <g id=\"line2d_17\">\n      <g>\n       <use style=\"stroke:#000000;stroke-width:0.8;\" x=\"50.14375\" xlink:href=\"#mb73098d1e5\" y=\"24.84262\"/>\n      </g>\n     </g>\n     <g id=\"text_18\">\n      <!-- 0.35 -->\n      <g transform=\"translate(20.878125 28.641839)scale(0.1 -0.1)\">\n       <use xlink:href=\"#DejaVuSans-48\"/>\n       <use x=\"63.623047\" xlink:href=\"#DejaVuSans-46\"/>\n       <use x=\"95.410156\" xlink:href=\"#DejaVuSans-51\"/>\n       <use x=\"159.033203\" xlink:href=\"#DejaVuSans-53\"/>\n      </g>\n     </g>\n    </g>\n    <g id=\"text_19\">\n     <!-- Frequency -->\n     <g transform=\"translate(14.798438 156.867812)rotate(-90)scale(0.1 -0.1)\">\n      <defs>\n       <path d=\"M 9.8125 72.90625 \nL 51.703125 72.90625 \nL 51.703125 64.59375 \nL 19.671875 64.59375 \nL 19.671875 43.109375 \nL 48.578125 43.109375 \nL 48.578125 34.8125 \nL 19.671875 34.8125 \nL 19.671875 0 \nL 9.8125 0 \nz\n\" id=\"DejaVuSans-70\"/>\n       <path d=\"M 41.109375 46.296875 \nQ 39.59375 47.171875 37.8125 47.578125 \nQ 36.03125 48 33.890625 48 \nQ 26.265625 48 22.1875 43.046875 \nQ 18.109375 38.09375 18.109375 28.8125 \nL 18.109375 0 \nL 9.078125 0 \nL 9.078125 54.6875 \nL 18.109375 54.6875 \nL 18.109375 46.1875 \nQ 20.953125 51.171875 25.484375 53.578125 \nQ 30.03125 56 36.53125 56 \nQ 37.453125 56 38.578125 55.875 \nQ 39.703125 55.765625 41.0625 55.515625 \nz\n\" id=\"DejaVuSans-114\"/>\n       <path d=\"M 14.796875 27.296875 \nQ 14.796875 17.390625 18.875 11.75 \nQ 22.953125 6.109375 30.078125 6.109375 \nQ 37.203125 6.109375 41.296875 11.75 \nQ 45.40625 17.390625 45.40625 27.296875 \nQ 45.40625 37.203125 41.296875 42.84375 \nQ 37.203125 48.484375 30.078125 48.484375 \nQ 22.953125 48.484375 18.875 42.84375 \nQ 14.796875 37.203125 14.796875 27.296875 \nz\nM 45.40625 8.203125 \nQ 42.578125 3.328125 38.25 0.953125 \nQ 33.9375 -1.421875 27.875 -1.421875 \nQ 17.96875 -1.421875 11.734375 6.484375 \nQ 5.515625 14.40625 5.515625 27.296875 \nQ 5.515625 40.1875 11.734375 48.09375 \nQ 17.96875 56 27.875 56 \nQ 33.9375 56 38.25 53.625 \nQ 42.578125 51.265625 45.40625 46.390625 \nL 45.40625 54.6875 \nL 54.390625 54.6875 \nL 54.390625 -20.796875 \nL 45.40625 -20.796875 \nz\n\" id=\"DejaVuSans-113\"/>\n       <path d=\"M 8.5 21.578125 \nL 8.5 54.6875 \nL 17.484375 54.6875 \nL 17.484375 21.921875 \nQ 17.484375 14.15625 20.5 10.265625 \nQ 23.53125 6.390625 29.59375 6.390625 \nQ 36.859375 6.390625 41.078125 11.03125 \nQ 45.3125 15.671875 45.3125 23.6875 \nL 45.3125 54.6875 \nL 54.296875 54.6875 \nL 54.296875 0 \nL 45.3125 0 \nL 45.3125 8.40625 \nQ 42.046875 3.421875 37.71875 1 \nQ 33.40625 -1.421875 27.6875 -1.421875 \nQ 18.265625 -1.421875 13.375 4.4375 \nQ 8.5 10.296875 8.5 21.578125 \nz\nM 31.109375 56 \nz\n\" id=\"DejaVuSans-117\"/>\n       <path d=\"M 48.78125 52.59375 \nL 48.78125 44.1875 \nQ 44.96875 46.296875 41.140625 47.34375 \nQ 37.3125 48.390625 33.40625 48.390625 \nQ 24.65625 48.390625 19.8125 42.84375 \nQ 14.984375 37.3125 14.984375 27.296875 \nQ 14.984375 17.28125 19.8125 11.734375 \nQ 24.65625 6.203125 33.40625 6.203125 \nQ 37.3125 6.203125 41.140625 7.25 \nQ 44.96875 8.296875 48.78125 10.40625 \nL 48.78125 2.09375 \nQ 45.015625 0.34375 40.984375 -0.53125 \nQ 36.96875 -1.421875 32.421875 -1.421875 \nQ 20.0625 -1.421875 12.78125 6.34375 \nQ 5.515625 14.109375 5.515625 27.296875 \nQ 5.515625 40.671875 12.859375 48.328125 \nQ 20.21875 56 33.015625 56 \nQ 37.15625 56 41.109375 55.140625 \nQ 45.0625 54.296875 48.78125 52.59375 \nz\n\" id=\"DejaVuSans-99\"/>\n       <path d=\"M 32.171875 -5.078125 \nQ 28.375 -14.84375 24.75 -17.8125 \nQ 21.140625 -20.796875 15.09375 -20.796875 \nL 7.90625 -20.796875 \nL 7.90625 -13.28125 \nL 13.1875 -13.28125 \nQ 16.890625 -13.28125 18.9375 -11.515625 \nQ 21 -9.765625 23.484375 -3.21875 \nL 25.09375 0.875 \nL 2.984375 54.6875 \nL 12.5 54.6875 \nL 29.59375 11.921875 \nL 46.6875 54.6875 \nL 56.203125 54.6875 \nz\n\" id=\"DejaVuSans-121\"/>\n      </defs>\n      <use xlink:href=\"#DejaVuSans-70\"/>\n      <use x=\"50.269531\" xlink:href=\"#DejaVuSans-114\"/>\n      <use x=\"89.132812\" xlink:href=\"#DejaVuSans-101\"/>\n      <use x=\"150.65625\" xlink:href=\"#DejaVuSans-113\"/>\n      <use x=\"214.132812\" xlink:href=\"#DejaVuSans-117\"/>\n      <use x=\"277.511719\" xlink:href=\"#DejaVuSans-101\"/>\n      <use x=\"339.035156\" xlink:href=\"#DejaVuSans-110\"/>\n      <use x=\"402.414062\" xlink:href=\"#DejaVuSans-99\"/>\n      <use x=\"457.394531\" xlink:href=\"#DejaVuSans-121\"/>\n     </g>\n    </g>\n   </g>\n   <g id=\"line2d_18\">\n    <path clip-path=\"url(#p703a9f0ca8)\" d=\"M 65.361932 239.7507 \nL 68.436312 239.669118 \nL 71.510692 239.35814 \nL 74.585072 239.061235 \nL 77.659452 239.105615 \nL 80.733833 238.953737 \nL 83.808213 238.83405 \nL 86.882593 238.682301 \nL 89.956973 238.113611 \nL 93.031353 237.560286 \nL 96.105733 235.523644 \nL 99.180114 233.512432 \nL 102.254494 230.002886 \nL 105.328874 221.590788 \nL 108.403254 215.130913 \nL 111.477634 193.50076 \nL 114.552014 170.577256 \nL 117.626395 164.657125 \nL 120.700775 125.230375 \nL 123.775155 114.597396 \nL 126.849535 114.736172 \nL 129.923915 78.742638 \nL 132.998295 106.602084 \nL 136.072676 115.453954 \nL 139.147056 114.389143 \nL 142.221436 155.091854 \nL 145.295816 162.145598 \nL 148.370196 178.803067 \nL 151.444576 199.62442 \nL 154.518957 203.12142 \nL 157.593337 214.841787 \nL 160.667717 218.479587 \nL 163.742097 221.873199 \nL 166.816477 228.862352 \nL 169.890857 230.363088 \nL 172.965238 233.371537 \nL 176.039618 235.300364 \nL 179.113998 235.90778 \nL 182.188378 237.206786 \nL 185.262758 237.363768 \nL 188.337138 237.866748 \nL 191.411519 238.198523 \nL 194.485899 238.178197 \nL 197.560279 238.571281 \nL 200.634659 238.519975 \nL 203.709039 238.727471 \nL 206.783419 239.128147 \nL 209.8578 239.223581 \nL 212.93218 239.475139 \nL 216.00656 239.698784 \nL 219.08094 239.753452 \nL 222.15532 239.757987 \nL 225.2297 239.758123 \nL 228.304081 239.758125 \nL 231.378461 239.758125 \nL 234.452841 239.758125 \nL 237.527221 239.758125 \nL 240.601601 239.758125 \nL 243.675981 239.758125 \nL 246.750362 239.758125 \nL 249.824742 239.758125 \nL 252.899122 239.758125 \nL 255.973502 239.758125 \nL 259.047882 239.758125 \nL 262.122262 239.758125 \nL 265.196643 239.758125 \nL 268.271023 239.758125 \nL 271.345403 239.758125 \nL 274.419783 239.758125 \nL 277.494163 239.758125 \nL 280.568543 239.758125 \nL 283.642924 239.758108 \nL 286.717304 239.757389 \nL 289.791684 239.746322 \nL 292.866064 239.687339 \nL 295.940444 239.599452 \nL 299.014824 239.625187 \nL 302.089205 239.716497 \nL 305.163585 239.753253 \nL 308.237965 239.757912 \nL 311.312345 239.758122 \nL 314.386725 239.758125 \nL 317.461105 239.758125 \nL 320.535486 239.758125 \nL 323.609866 239.758125 \nL 326.684246 239.758125 \nL 329.758626 239.758125 \nL 332.833006 239.758125 \nL 335.907386 239.758125 \nL 338.981767 239.758125 \nL 342.056147 239.758125 \nL 345.130527 239.758124 \nL 348.204907 239.758055 \nL 351.279287 239.755991 \nL 354.353667 239.733707 \nL 357.428048 239.653725 \nL 360.502428 239.591288 \nL 363.576808 239.658476 \nL 366.651188 239.735879 \nL 369.725568 239.756269 \n\" style=\"fill:none;stroke:#008000;stroke-linecap:square;stroke-width:1.5;\"/>\n   </g>\n   <g id=\"patch_53\">\n    <path d=\"M 50.14375 239.758125 \nL 50.14375 22.318125 \n\" style=\"fill:none;stroke:#000000;stroke-linecap:square;stroke-linejoin:miter;stroke-width:0.8;\"/>\n   </g>\n   <g id=\"patch_54\">\n    <path d=\"M 384.94375 239.758125 \nL 384.94375 22.318125 \n\" style=\"fill:none;stroke:#000000;stroke-linecap:square;stroke-linejoin:miter;stroke-width:0.8;\"/>\n   </g>\n   <g id=\"patch_55\">\n    <path d=\"M 50.14375 239.758125 \nL 384.94375 239.758125 \n\" style=\"fill:none;stroke:#000000;stroke-linecap:square;stroke-linejoin:miter;stroke-width:0.8;\"/>\n   </g>\n   <g id=\"patch_56\">\n    <path d=\"M 50.14375 22.318125 \nL 384.94375 22.318125 \n\" style=\"fill:none;stroke:#000000;stroke-linecap:square;stroke-linejoin:miter;stroke-width:0.8;\"/>\n   </g>\n   <g id=\"text_20\">\n    <!-- Tutorial-2 peptide length distribution -->\n    <g transform=\"translate(107.634063 16.318125)scale(0.12 -0.12)\">\n     <defs>\n      <path d=\"M -0.296875 72.90625 \nL 61.375 72.90625 \nL 61.375 64.59375 \nL 35.5 64.59375 \nL 35.5 0 \nL 25.59375 0 \nL 25.59375 64.59375 \nL -0.296875 64.59375 \nz\n\" id=\"DejaVuSans-84\"/>\n      <path d=\"M 30.609375 48.390625 \nQ 23.390625 48.390625 19.1875 42.75 \nQ 14.984375 37.109375 14.984375 27.296875 \nQ 14.984375 17.484375 19.15625 11.84375 \nQ 23.34375 6.203125 30.609375 6.203125 \nQ 37.796875 6.203125 41.984375 11.859375 \nQ 46.1875 17.53125 46.1875 27.296875 \nQ 46.1875 37.015625 41.984375 42.703125 \nQ 37.796875 48.390625 30.609375 48.390625 \nz\nM 30.609375 56 \nQ 42.328125 56 49.015625 48.375 \nQ 55.71875 40.765625 55.71875 27.296875 \nQ 55.71875 13.875 49.015625 6.21875 \nQ 42.328125 -1.421875 30.609375 -1.421875 \nQ 18.84375 -1.421875 12.171875 6.21875 \nQ 5.515625 13.875 5.515625 27.296875 \nQ 5.515625 40.765625 12.171875 48.375 \nQ 18.84375 56 30.609375 56 \nz\n\" id=\"DejaVuSans-111\"/>\n      <path d=\"M 34.28125 27.484375 \nQ 23.390625 27.484375 19.1875 25 \nQ 14.984375 22.515625 14.984375 16.5 \nQ 14.984375 11.71875 18.140625 8.90625 \nQ 21.296875 6.109375 26.703125 6.109375 \nQ 34.1875 6.109375 38.703125 11.40625 \nQ 43.21875 16.703125 43.21875 25.484375 \nL 43.21875 27.484375 \nz\nM 52.203125 31.203125 \nL 52.203125 0 \nL 43.21875 0 \nL 43.21875 8.296875 \nQ 40.140625 3.328125 35.546875 0.953125 \nQ 30.953125 -1.421875 24.3125 -1.421875 \nQ 15.921875 -1.421875 10.953125 3.296875 \nQ 6 8.015625 6 15.921875 \nQ 6 25.140625 12.171875 29.828125 \nQ 18.359375 34.515625 30.609375 34.515625 \nL 43.21875 34.515625 \nL 43.21875 35.40625 \nQ 43.21875 41.609375 39.140625 45 \nQ 35.0625 48.390625 27.6875 48.390625 \nQ 23 48.390625 18.546875 47.265625 \nQ 14.109375 46.140625 10.015625 43.890625 \nL 10.015625 52.203125 \nQ 14.9375 54.109375 19.578125 55.046875 \nQ 24.21875 56 28.609375 56 \nQ 40.484375 56 46.34375 49.84375 \nQ 52.203125 43.703125 52.203125 31.203125 \nz\n\" id=\"DejaVuSans-97\"/>\n      <path d=\"M 9.421875 75.984375 \nL 18.40625 75.984375 \nL 18.40625 0 \nL 9.421875 0 \nz\n\" id=\"DejaVuSans-108\"/>\n      <path d=\"M 4.890625 31.390625 \nL 31.203125 31.390625 \nL 31.203125 23.390625 \nL 4.890625 23.390625 \nz\n\" id=\"DejaVuSans-45\"/>\n      <path d=\"M 44.28125 53.078125 \nL 44.28125 44.578125 \nQ 40.484375 46.53125 36.375 47.5 \nQ 32.28125 48.484375 27.875 48.484375 \nQ 21.1875 48.484375 17.84375 46.4375 \nQ 14.5 44.390625 14.5 40.28125 \nQ 14.5 37.15625 16.890625 35.375 \nQ 19.28125 33.59375 26.515625 31.984375 \nL 29.59375 31.296875 \nQ 39.15625 29.25 43.1875 25.515625 \nQ 47.21875 21.78125 47.21875 15.09375 \nQ 47.21875 7.46875 41.1875 3.015625 \nQ 35.15625 -1.421875 24.609375 -1.421875 \nQ 20.21875 -1.421875 15.453125 -0.5625 \nQ 10.6875 0.296875 5.421875 2 \nL 5.421875 11.28125 \nQ 10.40625 8.6875 15.234375 7.390625 \nQ 20.0625 6.109375 24.8125 6.109375 \nQ 31.15625 6.109375 34.5625 8.28125 \nQ 37.984375 10.453125 37.984375 14.40625 \nQ 37.984375 18.0625 35.515625 20.015625 \nQ 33.0625 21.96875 24.703125 23.78125 \nL 21.578125 24.515625 \nQ 13.234375 26.265625 9.515625 29.90625 \nQ 5.8125 33.546875 5.8125 39.890625 \nQ 5.8125 47.609375 11.28125 51.796875 \nQ 16.75 56 26.8125 56 \nQ 31.78125 56 36.171875 55.265625 \nQ 40.578125 54.546875 44.28125 53.078125 \nz\n\" id=\"DejaVuSans-115\"/>\n      <path d=\"M 48.6875 27.296875 \nQ 48.6875 37.203125 44.609375 42.84375 \nQ 40.53125 48.484375 33.40625 48.484375 \nQ 26.265625 48.484375 22.1875 42.84375 \nQ 18.109375 37.203125 18.109375 27.296875 \nQ 18.109375 17.390625 22.1875 11.75 \nQ 26.265625 6.109375 33.40625 6.109375 \nQ 40.53125 6.109375 44.609375 11.75 \nQ 48.6875 17.390625 48.6875 27.296875 \nz\nM 18.109375 46.390625 \nQ 20.953125 51.265625 25.265625 53.625 \nQ 29.59375 56 35.59375 56 \nQ 45.5625 56 51.78125 48.09375 \nQ 58.015625 40.1875 58.015625 27.296875 \nQ 58.015625 14.40625 51.78125 6.484375 \nQ 45.5625 -1.421875 35.59375 -1.421875 \nQ 29.59375 -1.421875 25.265625 0.953125 \nQ 20.953125 3.328125 18.109375 8.203125 \nL 18.109375 0 \nL 9.078125 0 \nL 9.078125 75.984375 \nL 18.109375 75.984375 \nz\n\" id=\"DejaVuSans-98\"/>\n     </defs>\n     <use xlink:href=\"#DejaVuSans-84\"/>\n     <use x=\"45.958984\" xlink:href=\"#DejaVuSans-117\"/>\n     <use x=\"109.337891\" xlink:href=\"#DejaVuSans-116\"/>\n     <use x=\"148.546875\" xlink:href=\"#DejaVuSans-111\"/>\n     <use x=\"209.728516\" xlink:href=\"#DejaVuSans-114\"/>\n     <use x=\"250.841797\" xlink:href=\"#DejaVuSans-105\"/>\n     <use x=\"278.625\" xlink:href=\"#DejaVuSans-97\"/>\n     <use x=\"339.904297\" xlink:href=\"#DejaVuSans-108\"/>\n     <use x=\"367.6875\" xlink:href=\"#DejaVuSans-45\"/>\n     <use x=\"403.771484\" xlink:href=\"#DejaVuSans-50\"/>\n     <use x=\"467.394531\" xlink:href=\"#DejaVuSans-32\"/>\n     <use x=\"499.181641\" xlink:href=\"#DejaVuSans-112\"/>\n     <use x=\"562.658203\" xlink:href=\"#DejaVuSans-101\"/>\n     <use x=\"624.181641\" xlink:href=\"#DejaVuSans-112\"/>\n     <use x=\"687.658203\" xlink:href=\"#DejaVuSans-116\"/>\n     <use x=\"726.867188\" xlink:href=\"#DejaVuSans-105\"/>\n     <use x=\"754.650391\" xlink:href=\"#DejaVuSans-100\"/>\n     <use x=\"818.126953\" xlink:href=\"#DejaVuSans-101\"/>\n     <use x=\"879.650391\" xlink:href=\"#DejaVuSans-32\"/>\n     <use x=\"911.4375\" xlink:href=\"#DejaVuSans-108\"/>\n     <use x=\"939.220703\" xlink:href=\"#DejaVuSans-101\"/>\n     <use x=\"1000.744141\" xlink:href=\"#DejaVuSans-110\"/>\n     <use x=\"1064.123047\" xlink:href=\"#DejaVuSans-103\"/>\n     <use x=\"1127.599609\" xlink:href=\"#DejaVuSans-116\"/>\n     <use x=\"1166.808594\" xlink:href=\"#DejaVuSans-104\"/>\n     <use x=\"1230.1875\" xlink:href=\"#DejaVuSans-32\"/>\n     <use x=\"1261.974609\" xlink:href=\"#DejaVuSans-100\"/>\n     <use x=\"1325.451172\" xlink:href=\"#DejaVuSans-105\"/>\n     <use x=\"1353.234375\" xlink:href=\"#DejaVuSans-115\"/>\n     <use x=\"1405.333984\" xlink:href=\"#DejaVuSans-116\"/>\n     <use x=\"1444.542969\" xlink:href=\"#DejaVuSans-114\"/>\n     <use x=\"1485.65625\" xlink:href=\"#DejaVuSans-105\"/>\n     <use x=\"1513.439453\" xlink:href=\"#DejaVuSans-98\"/>\n     <use x=\"1576.916016\" xlink:href=\"#DejaVuSans-117\"/>\n     <use x=\"1640.294922\" xlink:href=\"#DejaVuSans-116\"/>\n     <use x=\"1679.503906\" xlink:href=\"#DejaVuSans-105\"/>\n     <use x=\"1707.287109\" xlink:href=\"#DejaVuSans-111\"/>\n     <use x=\"1768.46875\" xlink:href=\"#DejaVuSans-110\"/>\n    </g>\n   </g>\n  </g>\n </g>\n <defs>\n  <clipPath id=\"p703a9f0ca8\">\n   <rect height=\"217.44\" width=\"334.8\" x=\"50.14375\" y=\"22.318125\"/>\n  </clipPath>\n </defs>\n</svg>\n",
      "image/png": "[encoded data removed]"
     },
     "metadata": {
      "needs_background": "light"
     }
    }
   ],
   "source": [
    "peptide_length: List[int] = exp.get_peptides_length()\n",
    "# plot the length distribution\n",
    "visualize_peptide_length_dist(peptide_length,{'color':'green'},title='Tutorial-2 peptide length distribution')"
   ]
  },
  {
   "cell_type": "markdown",
   "metadata": {},
   "source": [
    "### The number of peptides per protein "
   ]
  },
  {
   "cell_type": "code",
   "execution_count": 10,
   "metadata": {},
   "outputs": [
    {
     "output_type": "execute_result",
     "data": {
      "text/plain": "     Proteins  Number_of_Peptides\n147    O00560                  59\n1137   P14618                  42\n438    P11215                  42\n1158   P05164                  37\n379    P01903                  36\n834    P06396                  36\n982    P35579                  34\n491    Q07954                  34\n571    P07355                  33\n142    P02768                  33",
      "text/html": "<div>\n<style scoped>\n    .dataframe tbody tr th:only-of-type {\n        vertical-align: middle;\n    }\n\n    .dataframe tbody tr th {\n        vertical-align: top;\n    }\n\n    .dataframe thead th {\n        text-align: right;\n    }\n</style>\n<table border=\"1\" class=\"dataframe\">\n  <thead>\n    <tr style=\"text-align: right;\">\n      <th></th>\n      <th>Proteins</th>\n      <th>Number_of_Peptides</th>\n    </tr>\n  </thead>\n  <tbody>\n    <tr>\n      <th>147</th>\n      <td>O00560</td>\n      <td>59</td>\n    </tr>\n    <tr>\n      <th>1137</th>\n      <td>P14618</td>\n      <td>42</td>\n    </tr>\n    <tr>\n      <th>438</th>\n      <td>P11215</td>\n      <td>42</td>\n    </tr>\n    <tr>\n      <th>1158</th>\n      <td>P05164</td>\n      <td>37</td>\n    </tr>\n    <tr>\n      <th>379</th>\n      <td>P01903</td>\n      <td>36</td>\n    </tr>\n    <tr>\n      <th>834</th>\n      <td>P06396</td>\n      <td>36</td>\n    </tr>\n    <tr>\n      <th>982</th>\n      <td>P35579</td>\n      <td>34</td>\n    </tr>\n    <tr>\n      <th>491</th>\n      <td>Q07954</td>\n      <td>34</td>\n    </tr>\n    <tr>\n      <th>571</th>\n      <td>P07355</td>\n      <td>33</td>\n    </tr>\n    <tr>\n      <th>142</th>\n      <td>P02768</td>\n      <td>33</td>\n    </tr>\n  </tbody>\n</table>\n</div>"
     },
     "metadata": {},
     "execution_count": 10
    }
   ],
   "source": [
    "num_per_protein: pd.DataFrame = exp.get_peptides_per_protein()\n",
    "# show the first 10 elements \n",
    "num_per_protein.head(10)"
   ]
  },
  {
   "cell_type": "code",
   "execution_count": 11,
   "metadata": {},
   "outputs": [
    {
     "output_type": "error",
     "ename": "NameError",
     "evalue": "name 'visualize_num_peptides_per_parent' is not defined",
     "traceback": [
      "\u001b[0;31m---------------------------------------------------------------------------\u001b[0m",
      "\u001b[0;31mNameError\u001b[0m                                 Traceback (most recent call last)",
      "\u001b[0;32m<ipython-input-11-4a0cb3d40c80>\u001b[0m in \u001b[0;36m<module>\u001b[0;34m\u001b[0m\n\u001b[1;32m      1\u001b[0m \u001b[0;31m# we can visualize the number of peptides per protein\u001b[0m\u001b[0;34m\u001b[0m\u001b[0;34m\u001b[0m\u001b[0;34m\u001b[0m\u001b[0m\n\u001b[0;32m----> 2\u001b[0;31m \u001b[0mvisualize_num_peptides_per_parent\u001b[0m\u001b[0;34m(\u001b[0m\u001b[0mnum_per_protein\u001b[0m\u001b[0;34m,\u001b[0m\u001b[0;36m10\u001b[0m\u001b[0;34m)\u001b[0m\u001b[0;34m\u001b[0m\u001b[0;34m\u001b[0m\u001b[0m\n\u001b[0m",
      "\u001b[0;31mNameError\u001b[0m: name 'visualize_num_peptides_per_parent' is not defined"
     ]
    }
   ],
   "source": [
    "# we can visualize the number of peptides per protein \n",
    "visualize_num_peptides_per_parent(num_per_protein)      "
   ]
  },
  {
   "cell_type": "code",
   "execution_count": null,
   "metadata": {},
   "outputs": [],
   "source": [
    "# we can also focus in the first-top 25 protein to get a clearer picture \n",
    "visualize_num_peptides_per_parent(num_per_protein,25)"
   ]
  },
  {
   "cell_type": "markdown",
   "metadata": {},
   "source": [
    "### The gene expression of the parent proteins "
   ]
  },
  {
   "cell_type": "code",
   "execution_count": null,
   "metadata": {},
   "outputs": [],
   "source": [
    "parent_protein_exp: pd.DataFrame = exp.get_expression_of_parent_proteins()\n",
    "plot_parent_protein_expression_in_tissue(parent_protein_exp,exp.get_tissue_name())\n"
   ]
  },
  {
   "cell_type": "markdown",
   "metadata": {},
   "source": [
    "### Plot the correlation between the gene expression and number of peptides observed"
   ]
  },
  {
   "cell_type": "code",
   "execution_count": null,
   "metadata": {},
   "outputs": [],
   "source": [
    "# get the number of peptides per parent protein \n",
    "num_peptides_parent: pd.DataFrame = exp.get_num_peptide_expression_table() \n",
    "# print the number of un-mapped genes \n",
    "print(f'The number of genes without a reference expression is: {num_peptides_parent.loc[num_peptides_parent.iloc[:,1]==-1].shape[0]}')\n",
    "# plot the gene expression vs. number of peptides \n",
    "plot_gene_expression_vs_num_peptides(num_peptides_parent,tissue_name=exp.get_tissue_name())"
   ]
  },
  {
   "cell_type": "markdown",
   "metadata": {},
   "source": [
    "### Get the location of the parent proteins"
   ]
  },
  {
   "cell_type": "code",
   "execution_count": null,
   "metadata": {},
   "outputs": [],
   "source": [
    "# get the source protein \n",
    "parent_protein_source_loc: pd.DataFrame = exp.get_main_sub_cellular_location_of_parent_proteins()\n",
    "# print the number of un-mapped genes \n",
    "print(f'The number of genes without a known expression is: {parent_protein_source_loc.loc[parent_protein_source_loc.iloc[:,1]==-1].shape[0]}')\n",
    "# show the head of the table  \n",
    "print(parent_protein_source_loc.head(10))"
   ]
  },
  {
   "cell_type": "code",
   "execution_count": null,
   "metadata": {},
   "outputs": [],
   "source": [
    "# get the number of proteind in each location \n",
    "protein_counts: pd.DataFrame = exp.get_number_of_proteins_per_compartment() \n",
    "# plot the number of proteins per-location\n",
    "plot_num_protein_per_location(protein_counts,exp.get_tissue_name(),drop_unknown=True) "
   ]
  },
  {
   "cell_type": "markdown",
   "metadata": {},
   "source": [
    "#### Get the GO of the parent proteins "
   ]
  },
  {
   "cell_type": "code",
   "execution_count": null,
   "metadata": {},
   "outputs": [],
   "source": [
    "# get the source protein \n",
    "parent_protein_go_id: pd.DataFrame = exp.get_go_location_id_parent_proteins()\n",
    "# print the number of un-mapped genes \n",
    "print(f'The number of genes without a known GO Term: {parent_protein_go_id.loc[parent_protein_go_id.iloc[:,1]==-1].shape[0]}')\n",
    "# show the head of the table  \n",
    "print(parent_protein_go_id.head(10))"
   ]
  },
  {
   "cell_type": "code",
   "execution_count": null,
   "metadata": {},
   "outputs": [],
   "source": [
    "# get the number of proteind in each location \n",
    "protein_counts: pd.DataFrame = exp.get_number_of_proteins_per_go_term()\n",
    "# plot the number of proteins per-location\n",
    "plot_num_protein_per_location(protein_counts,exp.get_tissue_name(),drop_unknown=True) "
   ]
  },
  {
   "cell_type": "markdown",
   "metadata": {},
   "source": [
    "### plot the number of peptides per Location"
   ]
  },
  {
   "cell_type": "code",
   "execution_count": null,
   "metadata": {},
   "outputs": [],
   "source": [
    "plot_num_protein_per_location(exp.get_num_peptide_per_location(), \n",
    "exp.get_tissue_name())"
   ]
  },
  {
   "cell_type": "markdown",
   "metadata": {},
   "source": [
    "### plot the number of peptides per GO-Term"
   ]
  },
  {
   "cell_type": "code",
   "execution_count": null,
   "metadata": {},
   "outputs": [],
   "source": [
    "plot_num_peptide_per_go_term(exp.get_num_peptide_per_go_term(),\n",
    "exp.get_tissue_name())"
   ]
  },
  {
   "cell_type": "markdown",
   "metadata": {},
   "source": [
    "## Work with Peptide object"
   ]
  },
  {
   "cell_type": "code",
   "execution_count": 7,
   "metadata": {
    "tags": []
   },
   "outputs": [
    {
     "output_type": "stream",
     "name": "stdout",
     "text": "Number of mono-parental peptides: 2773\nTop 10 peptides: \n\tDGSVIRTIPKDNAQG\n\tAKSNFEKLSNDLANDA\n\tGNDPNALRGFHIHQ\n\tIEGNDPNALRGFHIHQ\n\tSAQYYVNNAGVSWE\n\tSAQYYVNNAGVSWED\n\tSAQYYVNNAGVSWEDG\n\tGKVVLIAAHGNSLRA\n\tTSAQYYVNNAGVSWE\n\tTSAQYYVNNAGVSWED\n"
    }
   ],
   "source": [
    "mono_parental_peptides: List[Peptide] = exp.get_mono_parent_peptides()\n",
    "print(f'Number of mono-parental peptides: {len(mono_parental_peptides)}')\n",
    "# print the sequnce of the first 10 peptides \n",
    "print('Top 10 peptides: ')\n",
    "for idx in range(10):\n",
    "    print('\\t'+str(mono_parental_peptides[idx]))"
   ]
  },
  {
   "cell_type": "markdown",
   "metadata": {},
   "source": [
    "### Getting The Reduendent, i.e. poly-parental, Peptides In The Database"
   ]
  },
  {
   "cell_type": "code",
   "execution_count": 8,
   "metadata": {
    "tags": []
   },
   "outputs": [
    {
     "output_type": "stream",
     "name": "stdout",
     "text": "Number of mono-parental peptides: 987\nTop 10 peptides: \n\tDGSVIRTIPKDNAQG\n\tAKSNFEKLSNDLANDA\n\tGNDPNALRGFHIHQ\n\tIEGNDPNALRGFHIHQ\n\tSAQYYVNNAGVSWE\n\tSAQYYVNNAGVSWED\n\tSAQYYVNNAGVSWEDG\n\tGKVVLIAAHGNSLRA\n\tTSAQYYVNNAGVSWE\n\tTSAQYYVNNAGVSWED\n"
    }
   ],
   "source": [
    "poly_parental_peptides: List[Peptide] = exp.get_poly_parental_peptides()\n",
    "print(f'Number of Poly-parental peptides: {len(poly_parental_peptides)}')\n",
    "# print the sequnce of the first 10 peptides \n",
    "print('Top 10 peptides: ')\n",
    "for idx in range(10):\n",
    "    print('\\t'+str(poly_parental_peptides[idx]))\n"
   ]
  },
  {
   "cell_type": "markdown",
   "metadata": {},
   "source": [
    "### Getting the unique, i.e. mono-parental, peptides in the database "
   ]
  },
  {
   "cell_type": "markdown",
   "metadata": {},
   "source": [
    "### Getting the peptides with its flanking region from every parent protein"
   ]
  },
  {
   "cell_type": "code",
   "execution_count": 10,
   "metadata": {
    "tags": []
   },
   "outputs": [
    {
     "output_type": "stream",
     "name": "stdout",
     "text": "KDAVTWSVDGSVIRTIPKDNAQGFPQSPMAI\nRAIKGVEDAKSNFEKLSNDLANDASKNQKLKD\nTTISWEIEGNDPNALRGFHIHQFGDNTNGC\nAPTTISWEIEGNDPNALRGFHIHQFGDNTNGC\nSYTKTCSSNGIFITYKNVPAGYRPFVDA\nSYTKTCSSNGIFITYKNVPAGYRPFVDA\nSYTKTCSSNGIFITYKNVPAGYRPFVDAY\nSYTKTCSSNGIFITYKNVPAGYRPFVDAY\nYTWRGGATSAQYYVNNAGVSWEDGCVWGTP\nYTWRGGATSAQYYVNNAGVSWEDGCVWGTPG\n"
    }
   ],
   "source": [
    "flanking_region: List[str] = exp.get_flanked_peptides(flank_length=8)\n",
    "# print the the first 10 sequences \n",
    "print(f'The total ')\n",
    "for idx in range(10):\n",
    "    print(flanking_region[idx])\n"
   ]
  },
  {
   "cell_type": "code",
   "execution_count": null,
   "metadata": {},
   "outputs": [],
   "source": []
  }
 ],
 "metadata": {
  "kernelspec": {
   "display_name": "Python 3",
   "language": "python",
   "name": "python3"
  },
  "language_info": {
   "codemirror_mode": {
    "name": "ipython",
    "version": 3
   },
   "file_extension": ".py",
   "mimetype": "text/x-python",
   "name": "python",
   "nbconvert_exporter": "python",
   "pygments_lexer": "ipython3",
   "version": "3.7.7-final"
  }
 },
 "nbformat": 4,
 "nbformat_minor": 4
}