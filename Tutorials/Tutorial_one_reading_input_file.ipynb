{
 "cells": [
  {
   "cell_type": "markdown",
   "metadata": {},
   "source": [
    "# Tutorial One: Parsing different Input Files "
   ]
  },
  {
   "cell_type": "markdown",
   "metadata": {},
   "source": [
    "## Introduction:"
   ]
  },
  {
   "cell_type": "markdown",
   "metadata": {},
   "source": [
    "The IPTK support different input files commonly used to describe the identification of proteomic experiments, for example, pepXML and idXML, along with CSV tables. Theses files are parsed and analyized by the IO module to generate a simple table that is used throughout the library, refered to as the identification table. The table composites of 4 columns containing, the peptide sequences, the parent protein accession, the start index of the peptide in the parent protein and the end index in the parent proteins, i.e. the indicies of the peptide in the parent protein. An Example of the identification table is shown below. Please notice, that if the peptide can be mapped to different proteins each mapping is treated indiviually, i.e. each parent protein has his own row. "
   ]
  },
  {
   "cell_type": "code",
   "execution_count": 10,
   "metadata": {},
   "outputs": [],
   "source": [
    "# load the modules \n",
    "import os\n",
    "import pandas as pd\n",
    "from IPTK.Utils.DevFunctions import simulate_an_experimental_ident_table_from_fasta\n",
    "from IPTK.IO.InFunctions import load_identification_table, parse_xml_based_format_to_identification_table, parse_mzTab_to_identification_table, parse_text_table "
   ]
  },
  {
   "cell_type": "markdown",
   "metadata": {},
   "source": [
    "## Identification Table Example"
   ]
  },
  {
   "cell_type": "code",
   "execution_count": 11,
   "metadata": {
    "tags": []
   },
   "outputs": [
    {
     "output_type": "stream",
     "name": "stdout",
     "text": "peptides proteins  start_index  end_index\n0          FDLSGAFRVNDATF   P11446           99        113\n1         LISDLHPQLKGIVDL   P11446           43         58\n2       DADLLDLNQWPVINATS   P11446          167        184\n3  KGIVDLPLQPMSDISEFSPGVD   P11446           52         74\n4      ELLEQAAYGLAEWCGNKL   P11446          125        143\n5         TANELDTARRRTTGS   P02924          163        178\n6        FQTEWKFADKAGKDLG   P02924           39         55\n7              AADIIGIGIN   P02924          245        255\n8            ATGFYGSLLPSP   P02924          267        279\n9          GYKSSEMLYNWVAK   P02924          282        296\n"
    }
   ],
   "source": [
    "# Simulating an identification table \n",
    "import pandas as pd\n",
    "# genetate table \n",
    "table : pd.DataFrame = simulate_an_experimental_ident_table_from_fasta(\n",
    "    path2load='data/sequences/e_coli.fasta',num_pep=10,num_prot=2)  \n",
    "print(table)\n",
    "# SEE the documentation from more information about the simulation function "
   ]
  },
  {
   "cell_type": "markdown",
   "metadata": {},
   "source": [
    "Below is an example of using the library to parse and analyze different input "
   ]
  },
  {
   "cell_type": "markdown",
   "metadata": {},
   "source": [
    "### Load A Pre-exsisting Table "
   ]
  },
  {
   "cell_type": "code",
   "execution_count": 12,
   "metadata": {
    "tags": []
   },
   "outputs": [
    {
     "output_type": "stream",
     "name": "stdout",
     "text": "peptide protein  start_index  end_index\n0    EVSHDLAPQFLEAG  P11446           82         96\n1    LVRLYDKGVPALKN  P11446          268        282\n2   HLGADVIFTPHLGNF  P11446          220        235\n3  VGLPFCDIGFAVQGEH  P11446          283        299\n4       PGVDVVFLATA  P11446           70         81\n5    LYKEMQKRGWDVKE  P02924          143        157\n6   NWVAKDVEPPKFTEV  P02924          291        306\n7    SLLPSPDVHGYKSS  P02924          273        287\n8  LPSPDVHGYKSSEMLY  P02924          275        291\n9    AKGKPMDTVPLVMM  P02924          117        131\n"
    }
   ],
   "source": [
    "table: pd.DataFrame = load_identification_table('data/inputs/Identification_table.csv',sep=',')\n",
    "print(table)"
   ]
  },
  {
   "cell_type": "markdown",
   "metadata": {},
   "source": [
    "### Read mzTab File\n"
   ]
  },
  {
   "cell_type": "code",
   "execution_count": 13,
   "metadata": {
    "tags": []
   },
   "outputs": [
    {
     "output_type": "stream",
     "name": "stdout",
     "text": "peptide protein  start_index  end_index\n0     TVFDNFFIKK  Q9H040          414        424\n1      SPNDFSVSL  P16333          312        321\n2      GRLFAVVHF  Q7Z2W9           92        101\n3    LPIKMDYGEEL  Q9BT88          121        132\n4      ARLASLMNL  P43243           49         58\n..           ...     ...          ...        ...\n418    TPAPPDLTL  Q32M88          180        189\n419  EVVDHVFPLLK  Q14693          843        854\n420   ELITLEIIHR  P56377           75         85\n421   NVVFDVQIPK  P19823          102        112\n422    KLLPQFLLH  Q8N4J0           99        108\n\n[423 rows x 4 columns]\n"
    }
   ],
   "source": [
    "table: pd.DataFrame = parse_mzTab_to_identification_table(path2mzTab='data/MM15_Melanom.mzTab',path2fastaDB='data/test_decoy.fasta')\n",
    "print(table)"
   ]
  },
  {
   "cell_type": "markdown",
   "metadata": {},
   "source": [
    "### Load a pepXML file"
   ]
  },
  {
   "cell_type": "code",
   "execution_count": 17,
   "metadata": {
    "tags": []
   },
   "outputs": [
    {
     "output_type": "stream",
     "name": "stdout",
     "text": "peptide     protein  start_index  end_index\n0         LRQETYLTLATVFVLLRL      Q9ZPE9          198        216\n1             NCQDGSDEDDCVDC      Q700K0         2472       2486\n2      GVALVLLSLALLLTVLRIIRG      Q52965           11         32\n3           AGVVKKKKKKKKKKKK      Q95LY5          560        576\n4            LLRRRRIKRKRTIRC      P13388          664        679\n...                      ...         ...          ...        ...\n28434        DILVQRHSMLRARFR  A0A319DV72         3167       3182\n28435     KGDLVAIMTLKDELVALG      Q9V1A5          282        300\n28436     KGDLVAIMTLKDELVALG      C5A255          282        300\n28437     KGDLVAIMTLKDELVALG      Q5JJE8          282        300\n28438           STVSFEVKRPKK      Q6UIL3          452        464\n\n[28421 rows x 4 columns]\n"
    }
   ],
   "source": [
    "table: pd.DataFrame = parse_xml_based_format_to_identification_table(path2PepXML='data/epitheluim_all_ids_merged_psm.pepXML', \n",
    "                        is_idXML=False, path2fastaDB='data/uniprot_sprot.fasta')\n",
    "print(table)"
   ]
  },
  {
   "cell_type": "markdown",
   "metadata": {},
   "source": [
    "### Load an idXML file "
   ]
  },
  {
   "cell_type": "code",
   "execution_count": null,
   "metadata": {},
   "outputs": [],
   "source": [
    "table: pd.DataFrame = parse_xml_based_format_to_identification_table(path2PepXML='data/epitheluim_all_ids_merged_psm.idXML', \n",
    "                        is_idXML=True, path2fastaDB='data/uniprot_sprot.fasta')\n",
    "print(table)"
   ]
  },
  {
   "cell_type": "markdown",
   "metadata": {},
   "source": [
    "### Load a CSV Table "
   ]
  },
  {
   "cell_type": "code",
   "execution_count": 26,
   "metadata": {
    "tags": []
   },
   "outputs": [
    {
     "output_type": "stream",
     "name": "stdout",
     "text": "5840 5840 5840 5840\n                peptide protein  start_index  end_index\n0       DGSVIRTIPKDNAQG  Q5AFA2          176        191\n1      AKSNFEKLSNDLANDA  P53707          263        279\n2        GNDPNALRGFHIHQ  O59924           36         50\n3      IEGNDPNALRGFHIHQ  O59924           34         50\n4          NGIFITYKNVPA  Q59L12          258        270\n...                 ...     ...          ...        ...\n5835    GKGVVVVIKRRSGQR  P46779           56         71\n5836   GKGVVVVIKRRSGQRK  P46779           56         72\n5837  GKGVVVVIKRRSGQRKP  P46779           56         73\n5838    GITKPAIRRLARRGG  P62803           28         43\n5839  YVTRYIYNREEYARFDS  P01920           57         74\n\n[5830 rows x 4 columns]\n"
    }
   ],
   "source": [
    "table: pd.DataFrame = parse_text_table('data/HLA_Demo.csv',sep=';',path2fastaDB='data/uniprot_sprot.fasta')\n",
    "print(table)"
   ]
  }
 ],
 "metadata": {
  "kernelspec": {
   "display_name": "Python 3",
   "language": "python",
   "name": "python3"
  },
  "language_info": {
   "codemirror_mode": {
    "name": "ipython",
    "version": 3
   },
   "file_extension": ".py",
   "mimetype": "text/x-python",
   "name": "python",
   "nbconvert_exporter": "python",
   "pygments_lexer": "ipython3",
   "version": "3.7.7-final"
  }
 },
 "nbformat": 4,
 "nbformat_minor": 4
}