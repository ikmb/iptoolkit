{
 "cells": [
  {
   "cell_type": "markdown",
   "metadata": {},
   "source": [
    "# Tutorial One: Parsing different Input Files "
   ]
  },
  {
   "cell_type": "markdown",
   "metadata": {},
   "source": [
    "## Introduction:"
   ]
  },
  {
   "cell_type": "markdown",
   "metadata": {},
   "source": [
    "IPTK support different input files commonly used to describe the identification of proteomic experiments, for example, pepXML and idXML, along with CSV tables. These files are parsed and analyzed by the IO module to generate a simple table that is used throughout the library, referred to as the identification table. The table composites of 4 columns containing, the peptide sequences, the parent protein accession, the start index of the peptide in the parent protein and the end index in the parent proteins, i.e., the indices of the peptide in the parent protein. An example of the identification table is shown below. Please notice, that if the peptide can be mapped to different proteins each mapping is treated individually, i.e., each parent protein has his own row. "
   ]
  },
  {
   "cell_type": "markdown",
   "metadata": {},
   "source": [
    "#### Note"
   ]
  },
  {
   "cell_type": "markdown",
   "metadata": {},
   "source": [
    "The data used in this tutorial is available in the this github-repository. To run the tutorial clone the repository e.g. by: git clone https://github.com/ikmb/iptoolkit.git  \n",
    "The code here assumes that the current working directory is set to the Tutorials folder. "
   ]
  },
  {
   "cell_type": "code",
   "execution_count": 1,
   "metadata": {},
   "outputs": [],
   "source": [
    "## Make sure the library is installed and installing it if it is not installed.  \n",
    "try: \n",
    "    import IPTK \n",
    "except ModuleNotFoundError: \n",
    "    import os\n",
    "    os.system(\"pip install iptkl --user\")"
   ]
  },
  {
   "cell_type": "code",
   "execution_count": 2,
   "metadata": {},
   "outputs": [],
   "source": [
    "# Load the modules \n",
    "import os\n",
    "import pandas as pd \n",
    "from IPTK.Utils.DevFunctions import simulate_an_experimental_ident_table_from_fasta\n",
    "from IPTK.IO.InFunctions import load_identification_table, parse_xml_based_format_to_identification_table"
   ]
  },
  {
   "cell_type": "markdown",
   "metadata": {},
   "source": [
    "### Load a pre-exsisting table "
   ]
  },
  {
   "cell_type": "markdown",
   "metadata": {},
   "source": [
    "#### Note"
   ]
  },
  {
   "cell_type": "markdown",
   "metadata": {},
   "source": [
    "The input table is a csv file with four columns and a header. Attention: The Columns need to be in the defined order (peptide, protein, start_index, end_index).  "
   ]
  },
  {
   "cell_type": "code",
   "execution_count": 4,
   "metadata": {
    "tags": []
   },
   "outputs": [
    {
     "name": "stdout",
     "output_type": "stream",
     "text": [
      "              peptide     protein  start_index  end_index\n",
      "0     LLPKKTESHHKAKGK      Q6FI13          115        130\n",
      "1     LLPKKTESHHKAKGK      Q93077          115        130\n",
      "2     LLPKKTESHHKAKGK      P0C0S8          115        130\n",
      "3     LLPKKTESHHKAKGK      P04908          115        130\n",
      "4     LLPKKTESHHKAKGK      P20671          115        130\n",
      "...               ...         ...          ...        ...\n",
      "4662     AQGGVLPNIQAV      H0YFX9           66         78\n",
      "4663     AQGGVLPNIQAV  A0A0U1RRH7          103        115\n",
      "4664     AQGGVLPNIQAV  A0A0U1RR32          103        115\n",
      "4665      NAAPGVDLTQL      P13645          306        317\n",
      "4666       DINTDGAVNF      P05109           58         68\n",
      "\n",
      "[4667 rows x 4 columns]\n"
     ]
    }
   ],
   "source": [
    "table: pd.DataFrame = load_identification_table('data/IdentificationTable.csv',sep=',')\n",
    "print(table)"
   ]
  },
  {
   "cell_type": "markdown",
   "metadata": {},
   "source": [
    "All other input formats are translated to this format internally. "
   ]
  },
  {
   "cell_type": "markdown",
   "metadata": {},
   "source": [
    "### Load a pepXML file"
   ]
  },
  {
   "cell_type": "markdown",
   "metadata": {},
   "source": [
    "#### Note"
   ]
  },
  {
   "cell_type": "markdown",
   "metadata": {},
   "source": [
    "Below we load an idXML file that we will be using again in tutorial 3. Here, it is just introduced for illustrating the general syntax of loading an idXML file. The idXML files have been generated, using MHCQuant as described in tutorial 3"
   ]
  },
  {
   "cell_type": "code",
   "execution_count": 5,
   "metadata": {
    "tags": []
   },
   "outputs": [
    {
     "name": "stdout",
     "output_type": "stream",
     "text": [
      "              peptide     protein  start_index  end_index\n",
      "0     LLPKKTESHHKAKGK      Q6FI13          115        130\n",
      "1     LLPKKTESHHKAKGK      Q93077          115        130\n",
      "2     LLPKKTESHHKAKGK      P0C0S8          115        130\n",
      "3     LLPKKTESHHKAKGK      P04908          115        130\n",
      "4     LLPKKTESHHKAKGK      P20671          115        130\n",
      "...               ...         ...          ...        ...\n",
      "4666     AQGGVLPNIQAV      H0YFX9           66         78\n",
      "4667     AQGGVLPNIQAV  A0A0U1RRH7          103        115\n",
      "4668     AQGGVLPNIQAV  A0A0U1RR32          103        115\n",
      "4669      NAAPGVDLTQL      P13645          306        317\n",
      "4670       DINTDGAVNF      P05109           58         68\n",
      "\n",
      "[4667 rows x 4 columns]\n"
     ]
    }
   ],
   "source": [
    "## Load the table:\n",
    "#-----------------\n",
    "table: pd.DataFrame = parse_xml_based_format_to_identification_table(\n",
    "    path2XML_file='data/0810202_0.5_all_ids_merged_psm_perc_filtered.idXML', ## The path to the idXML file\n",
    "    is_idXML=True, ## Control flag for the function to read an idXML file \n",
    "    path2fastaDB='data/human_proteome.fasta' ## the path to sequence database, it is used to get the position of the peptides in the parent proteins.\n",
    "    )\n",
    "## Print the table:\n",
    "#------------------\n",
    "print(table)"
   ]
  },
  {
   "cell_type": "markdown",
   "metadata": {},
   "source": [
    "#### Note"
   ]
  },
  {
   "cell_type": "markdown",
   "metadata": {},
   "source": [
    "sometimes we have the following situation; a peptide, for example, _GPDGRLLRGHNQYAYDGK_ which is mapped to the following protein:  _XPDGRLLRGHNQYAYDGKDYIALNEDLRSWTAADTAAQITQRKWEAARVAEQDRAYLEGTCVEWLRRYLENGKDTLERADPPKTHVTHHPISDHEATLRCWALGFYPAEITLTWQRDGEDQTQDTELVETRPAGDRTFQKWAAVVVPSGEEQRYTCHVQHEGLPKPLTLRWEPSSQSTVPIVGIVAGLAVLAVVVIGAVVAAVMCRRKSSGHFLPTGGKGGSYSQAACSDSAQGSDVSLTA_ by the search engine. \n",
    "\n",
    "When the function tries to map the peptide to the protein to extract the start and end indiceis, a **ValueError** exception will be thrown because the peptide is not part of the protein. To understand why, let's look at the peptide sequence and its match in the protein. \n",
    "\n",
    " - **Petide**:  _GPDGRLLRGHNQYAYDGK_\n",
    " - **Protein**: _XPDGRLLRGHNQYAYDGK_\n",
    "\n",
    "As you can see, we have an **X** instead of **G**, hence we do not have a complete match. The default behaviour of the function is to skip these peptides. However, this behaviour can be over ridden to allow the function to throw an error when mismatches are encountered as shown below.  \n",
    "\n"
   ]
  },
  {
   "cell_type": "code",
   "execution_count": 7,
   "metadata": {},
   "outputs": [
    {
     "name": "stdout",
     "output_type": "stream",
     "text": [
      "I have encountered the following exception:\n",
      " Peptide sequence: GPDGRLLRGHNQYAYDGK could not be extracted from protein sequence: XPDGRLLRGHNQYAYDGKDYIALNEDLRSWTAADTAAQITQRKWEAARVAEQDRAYLEGTCVEWLRRYLENGKDTLERADPPKTHVTHHPISDHEATLRCWALGFYPAEITLTWQRDGEDQTQDTELVETRPAGDRTFQKWAAVVVPSGEEQRYTCHVQHEGLPKPLTLRWEPSSQSTVPIVGIVAGLAVLAVVVIGAVVAAVMCRRKSSGHFLPTGGKGGSYSQAACSDSAQGSDVSLTA with accession: A0A140T951\n"
     ]
    }
   ],
   "source": [
    "try:\n",
    "    table: pd.DataFrame = parse_xml_based_format_to_identification_table(path2XML_file='data/0810202_0.5_all_ids_merged_psm_perc_filtered.idXML', \n",
    "                        is_idXML=True, path2fastaDB='data/human_proteome.fasta',\n",
    "                        remove_if_not_matched=False # throw an error if there is no match\n",
    "                        )\n",
    "except ValueError as exp:\n",
    "    print(f'I have encountered the following exception:\\n {exp}')"
   ]
  },
  {
   "cell_type": "markdown",
   "metadata": {},
   "source": [
    "To learn more please check [Tutorial 2](Tutorial_two_creating_an_experiment_object.ipynb)"
   ]
  }
 ],
 "metadata": {
  "kernelspec": {
   "display_name": "Python 3",
   "language": "python",
   "name": "python3"
  },
  "language_info": {
   "codemirror_mode": {
    "name": "ipython",
    "version": 3
   },
   "file_extension": ".py",
   "mimetype": "text/x-python",
   "name": "python",
   "nbconvert_exporter": "python",
   "pygments_lexer": "ipython3",
   "version": "3.9.2"
  }
 },
 "nbformat": 4,
 "nbformat_minor": 4
}
