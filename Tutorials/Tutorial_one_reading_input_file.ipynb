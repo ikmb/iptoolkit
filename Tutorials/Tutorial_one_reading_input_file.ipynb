{
 "cells": [
  {
   "cell_type": "markdown",
   "metadata": {},
   "source": [
    "# Tutorial One: Parsing different Input Files "
   ]
  },
  {
   "cell_type": "markdown",
   "metadata": {},
   "source": [
    "## Introduction:"
   ]
  },
  {
   "cell_type": "markdown",
   "metadata": {},
   "source": [
    "The IPTK support different input files commonly used to describe the identification of proteomic experiments, for example, pepXML and idXML, along with CSV tables. These files are parsed and analyzed by the IO module to generate a simple table that is used throughout the library, referred to as the identification table. The table composites of 4 columns containing, the peptide sequences, the parent protein accession, the start index of the peptide in the parent protein and the end index in the parent proteins, i.e., the indices of the peptide in the parent protein. An Example of the identification table is shown below. Please notice, that if the peptide can be mapped to different proteins each mapping is treated individually, i.e., each parent protein has his own row. "
   ]
  },
  {
   "cell_type": "markdown",
   "metadata": {},
   "source": [
    "#### Note"
   ]
  },
  {
   "cell_type": "markdown",
   "metadata": {},
   "source": [
    "The data used in this tutorial is available at the current working directory in the data folder  "
   ]
  },
  {
   "cell_type": "code",
   "execution_count": 1,
   "metadata": {},
   "outputs": [],
   "source": [
    "# load the modules \n",
    "import os\n",
    "import pandas as pd\n",
    "from IPTK.Utils.DevFunctions import simulate_an_experimental_ident_table_from_fasta\n",
    "from IPTK.IO.InFunctions import load_identification_table, parse_xml_based_format_to_identification_table\n",
    " "
   ]
  },
  {
   "cell_type": "markdown",
   "metadata": {},
   "source": [
    "## Identification Table Example"
   ]
  },
  {
   "cell_type": "code",
   "execution_count": 3,
   "metadata": {
    "tags": []
   },
   "outputs": [
    {
     "name": "stdout",
     "output_type": "stream",
     "text": [
      "           peptides proteins  start_index  end_index\n",
      "0    AHGSDKSKDFYPFG   Q8N7X0           16         30\n",
      "1     LFEVKKDTERADE   Q8N7X0         1373       1386\n",
      "2       INSEKWDAGKG   Q8N7X0           55         66\n",
      "3     GSLVLKIHTYATK   Q8N7X0          724        737\n",
      "4  KALEFMDLSQYVRKTD   Q8N7X0         1532       1548\n",
      "5            ETLPEI   Q5T1N1          130        136\n",
      "6     SLSKLSPTSQKGT   Q5T1N1          350        363\n",
      "7     ENTSDLEGPVAAG   Q5T1N1          191        204\n",
      "8      QMCQKLKEQTDQ   Q5T1N1          378        390\n",
      "9      LKPKRICSQRVN   Q5T1N1          724        736\n"
     ]
    }
   ],
   "source": [
    "# Simulating an identification table \n",
    "import pandas as pd\n",
    "# genetate table \n",
    "table : pd.DataFrame = simulate_an_experimental_ident_table_from_fasta(\n",
    "    path2load='data/human_proteome.fasta',num_pep=10,num_prot=2)  \n",
    "print(table)\n",
    "# SEE the documentation from more information about the simulation function "
   ]
  },
  {
   "cell_type": "markdown",
   "metadata": {},
   "source": [
    "Below is an example of using the library to parse and analyze different input "
   ]
  },
  {
   "cell_type": "markdown",
   "metadata": {},
   "source": [
    "### Load A Pre-exsisting Table "
   ]
  },
  {
   "cell_type": "code",
   "execution_count": 12,
   "metadata": {
    "tags": []
   },
   "outputs": [
    {
     "name": "stdout",
     "output_type": "stream",
     "text": [
      "peptide protein  start_index  end_index\n",
      "0    EVSHDLAPQFLEAG  P11446           82         96\n",
      "1    LVRLYDKGVPALKN  P11446          268        282\n",
      "2   HLGADVIFTPHLGNF  P11446          220        235\n",
      "3  VGLPFCDIGFAVQGEH  P11446          283        299\n",
      "4       PGVDVVFLATA  P11446           70         81\n",
      "5    LYKEMQKRGWDVKE  P02924          143        157\n",
      "6   NWVAKDVEPPKFTEV  P02924          291        306\n",
      "7    SLLPSPDVHGYKSS  P02924          273        287\n",
      "8  LPSPDVHGYKSSEMLY  P02924          275        291\n",
      "9    AKGKPMDTVPLVMM  P02924          117        131\n"
     ]
    }
   ],
   "source": [
    "table: pd.DataFrame = load_identification_table('data/IdentificationTable.csv',sep=',')\n",
    "print(table)"
   ]
  },
  {
   "cell_type": "markdown",
   "metadata": {},
   "source": [
    "As shown a bove, the identification table has 4 columns, namely, peptide, protein, start index and end index. All other input formats are translated to this format internally"
   ]
  },
  {
   "cell_type": "markdown",
   "metadata": {},
   "source": [
    "### Load a pepXML file"
   ]
  },
  {
   "cell_type": "code",
   "execution_count": 8,
   "metadata": {
    "tags": []
   },
   "outputs": [
    {
     "name": "stdout",
     "output_type": "stream",
     "text": [
      "              peptide     protein  start_index  end_index\n",
      "0     LLPKKTESHHKAKGK      Q6FI13          115        130\n",
      "1     LLPKKTESHHKAKGK      Q93077          115        130\n",
      "2     LLPKKTESHHKAKGK      P0C0S8          115        130\n",
      "3     LLPKKTESHHKAKGK      P04908          115        130\n",
      "4     LLPKKTESHHKAKGK      P20671          115        130\n",
      "...               ...         ...          ...        ...\n",
      "4666     AQGGVLPNIQAV      H0YFX9           66         78\n",
      "4667     AQGGVLPNIQAV  A0A0U1RRH7          103        115\n",
      "4668     AQGGVLPNIQAV  A0A0U1RR32          103        115\n",
      "4669      NAAPGVDLTQL      P13645          306        317\n",
      "4670       DINTDGAVNF      P05109           58         68\n",
      "\n",
      "[4667 rows x 4 columns]\n"
     ]
    }
   ],
   "source": [
    "table: pd.DataFrame = parse_xml_based_format_to_identification_table(path2XML_file='data/0810202_0.5_all_ids_merged_psm_perc_filtered.idXML', \n",
    "                        is_idXML=True, path2fastaDB='data/human_proteome.fasta')\n",
    "print(table)"
   ]
  }
 ],
 "metadata": {
  "kernelspec": {
   "display_name": "Python 3",
   "language": "python",
   "name": "python3"
  },
  "language_info": {
   "codemirror_mode": {
    "name": "ipython",
    "version": 3
   },
   "file_extension": ".py",
   "mimetype": "text/x-python",
   "name": "python",
   "nbconvert_exporter": "python",
   "pygments_lexer": "ipython3",
   "version": "3.7.7"
  }
 },
 "nbformat": 4,
 "nbformat_minor": 4
}
