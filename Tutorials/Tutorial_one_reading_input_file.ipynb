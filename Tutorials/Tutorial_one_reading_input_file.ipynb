{
 "cells": [
  {
   "cell_type": "markdown",
   "metadata": {},
   "source": [
    "# Tutorial One: Parsing different Input Files "
   ]
  },
  {
   "cell_type": "markdown",
   "metadata": {},
   "source": [
    "## Introduction:"
   ]
  },
  {
   "cell_type": "markdown",
   "metadata": {},
   "source": [
    "IPTK support different input files commonly used to describe the identification of proteomic experiments, for example, pepXML and idXML, along with CSV tables. These files are parsed and analyzed by the IO module to generate a simple table that is used throughout the library, referred to as the identification table. The table composites of 4 columns containing, the peptide sequences, the parent protein accession, the start index of the peptide in the parent protein and the end index in the parent proteins, i.e., the indices of the peptide in the parent protein. An Example of the identification table is shown below. Please notice, that if the peptide can be mapped to different proteins each mapping is treated individually, i.e., each parent protein has his own row. "
   ]
  },
  {
   "cell_type": "markdown",
   "metadata": {},
   "source": [
    "#### Note"
   ]
  },
  {
   "cell_type": "markdown",
   "metadata": {},
   "source": [
    " - The data used in this tutorial is available at the current working directory in the data folder. I mean, the code here assumes that the current working directory is set to Tutorials. "
   ]
  },
  {
   "cell_type": "code",
   "execution_count": 1,
   "metadata": {},
   "outputs": [],
   "source": [
    "## Make sure the library is installed and installing it if it is not installed.  \n",
    "try: \n",
    "    import IPTK \n",
    "except ModuleNotFoundError: \n",
    "    import os\n",
    "    os.system(\"pip install iptkl --user\")"
   ]
  },
  {
   "cell_type": "code",
   "execution_count": 2,
   "metadata": {},
   "outputs": [],
   "source": [
    "# Load the modules \n",
    "import os\n",
    "import pandas as pd \n",
    "from IPTK.Utils.DevFunctions import simulate_an_experimental_ident_table_from_fasta\n",
    "from IPTK.IO.InFunctions import load_identification_table, parse_xml_based_format_to_identification_table"
   ]
  },
  {
   "cell_type": "markdown",
   "metadata": {},
   "source": [
    "## Identification table example"
   ]
  },
  {
   "cell_type": "code",
   "execution_count": 3,
   "metadata": {
    "tags": []
   },
   "outputs": [
    {
     "output_type": "stream",
     "name": "stdout",
     "text": [
      "            peptides proteins  start_index  end_index\n0   TNNSVSKEIWLDFEDF   Q8N7X0          622        638\n1   IVSQTTATQEKSQEEL   Q8N7X0          604        620\n2        WSEADINSEKW   Q8N7X0           50         61\n3      VCFSALVRWGEYG   Q8N7X0          685        698\n4      VLVTRSRSCPLVA   Q8N7X0          456        469\n5      EKMDESKYTSAPS   Q5T1N1          477        490\n6        FSIVLHEKAPH   Q5T1N1          629        640\n7     NTSDLEGPVAAGDS   Q5T1N1          192        206\n8  PSPHFYSCRISGSKSLC   Q5T1N1          765        782\n9     HLTLQQQVHKHEST   Q5T1N1          437        451\n"
     ]
    }
   ],
   "source": [
    "# Simulate an identification table, this function can be used to generate a dummy table that can be used for developing\n",
    "# functions and tools for analyzing or parsing the identification table. \n",
    "import pandas as pd\n",
    "# genetate table \n",
    "table : pd.DataFrame = simulate_an_experimental_ident_table_from_fasta(\n",
    "    path2load='data/human_proteome.fasta',num_pep=10,num_prot=2)  \n",
    "print(table)\n",
    "# see the documentation from more information about the simulation function "
   ]
  },
  {
   "cell_type": "markdown",
   "metadata": {},
   "source": [
    "Below is an example of using the library to parse and analyze different inputs. "
   ]
  },
  {
   "cell_type": "markdown",
   "metadata": {},
   "source": [
    "### Load a pre-exsisting table "
   ]
  },
  {
   "cell_type": "code",
   "execution_count": 4,
   "metadata": {
    "tags": []
   },
   "outputs": [
    {
     "output_type": "stream",
     "name": "stdout",
     "text": [
      "              peptide     protein  start_index  end_index\n0     LLPKKTESHHKAKGK      Q6FI13          115        130\n1     LLPKKTESHHKAKGK      Q93077          115        130\n2     LLPKKTESHHKAKGK      P0C0S8          115        130\n3     LLPKKTESHHKAKGK      P04908          115        130\n4     LLPKKTESHHKAKGK      P20671          115        130\n...               ...         ...          ...        ...\n4662     AQGGVLPNIQAV      H0YFX9           66         78\n4663     AQGGVLPNIQAV  A0A0U1RRH7          103        115\n4664     AQGGVLPNIQAV  A0A0U1RR32          103        115\n4665      NAAPGVDLTQL      P13645          306        317\n4666       DINTDGAVNF      P05109           58         68\n\n[4667 rows x 4 columns]\n"
     ]
    }
   ],
   "source": [
    "table: pd.DataFrame = load_identification_table('data/IdentificationTable.csv',sep=',')\n",
    "print(table)"
   ]
  },
  {
   "cell_type": "markdown",
   "metadata": {},
   "source": [
    "All other input formats are translated to this format internally. "
   ]
  },
  {
   "cell_type": "markdown",
   "metadata": {},
   "source": [
    "### Load a pepXML file"
   ]
  },
  {
   "cell_type": "code",
   "execution_count": 5,
   "metadata": {
    "tags": []
   },
   "outputs": [
    {
     "output_type": "stream",
     "name": "stdout",
     "text": [
      "              peptide     protein  start_index  end_index\n0     LLPKKTESHHKAKGK      Q6FI13          115        130\n1     LLPKKTESHHKAKGK      Q93077          115        130\n2     LLPKKTESHHKAKGK      P0C0S8          115        130\n3     LLPKKTESHHKAKGK      P04908          115        130\n4     LLPKKTESHHKAKGK      P20671          115        130\n...               ...         ...          ...        ...\n4666     AQGGVLPNIQAV      H0YFX9           66         78\n4667     AQGGVLPNIQAV  A0A0U1RRH7          103        115\n4668     AQGGVLPNIQAV  A0A0U1RR32          103        115\n4669      NAAPGVDLTQL      P13645          306        317\n4670       DINTDGAVNF      P05109           58         68\n\n[4667 rows x 4 columns]\n"
     ]
    }
   ],
   "source": [
    "## Below we load an idxXML file that we will be using again in tutorial 3. Here, it is just introduce for illustrating the general syntax of loading \n",
    "## an idXML file. The same function can be used for loading pepXML files by sitting is_idxML to false. \n",
    "## The path2fastaDB is used to get the position of the peptides in there part proteins.\n",
    "## This idXML files have been generated, using MHCquant as described in tutorial 3\n",
    "table: pd.DataFrame = parse_xml_based_format_to_identification_table(path2XML_file='data/0810202_0.5_all_ids_merged_psm_perc_filtered.idXML', \n",
    "                        is_idXML=True, path2fastaDB='data/human_proteome.fasta')\n",
    "print(table)"
   ]
  },
  {
   "source": [
    "To learn more please check [Tutorial 2](Tutorial_two_creating_an_experiment_object.ipynb)"
   ],
   "cell_type": "markdown",
   "metadata": {}
  }
 ],
 "metadata": {
  "kernelspec": {
   "display_name": "Python 3",
   "language": "python",
   "name": "python3"
  },
  "language_info": {
   "codemirror_mode": {
    "name": "ipython",
    "version": 3
   },
   "file_extension": ".py",
   "mimetype": "text/x-python",
   "name": "python",
   "nbconvert_exporter": "python",
   "pygments_lexer": "ipython3",
   "version": "3.7.7-final"
  }
 },
 "nbformat": 4,
 "nbformat_minor": 4
}