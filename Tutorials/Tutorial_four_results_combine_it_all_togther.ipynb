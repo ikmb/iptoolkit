{
 "metadata": {
  "language_info": {
   "codemirror_mode": {
    "name": "ipython",
    "version": 3
   },
   "file_extension": ".py",
   "mimetype": "text/x-python",
   "name": "python",
   "nbconvert_exporter": "python",
   "pygments_lexer": "ipython3",
   "version": "3.7.7-final"
  },
  "orig_nbformat": 2,
  "kernelspec": {
   "name": "python3",
   "display_name": "Python 3",
   "language": "python"
  }
 },
 "nbformat": 4,
 "nbformat_minor": 2,
 "cells": [
  {
   "source": [
    "# A complete case study "
   ],
   "cell_type": "markdown",
   "metadata": {}
  },
  {
   "source": [
    "In the previous tutorials we have introduced the building blocks of IPTK, and how it can be used to analyize different aspects of IP experiments. In the current tutorials we are going to put it all togther and reproduce some of the results described in the paper (ElAbd, 2021, manuscript))."
   ],
   "cell_type": "markdown",
   "metadata": {}
  },
  {
   "source": [
    "## Import the modules"
   ],
   "cell_type": "markdown",
   "metadata": {}
  },
  {
   "cell_type": "code",
   "execution_count": 1,
   "metadata": {},
   "outputs": [
    {
     "output_type": "display_data",
     "data": {
      "text/plain": "",
      "application/vnd.jupyter.widget-view+json": {
       "version_major": 2,
       "version_minor": 0,
       "model_id": "66fef60f3b754272896dfd99ac7972c6"
      }
     },
     "metadata": {}
    }
   ],
   "source": [
    "## First, we import the library modules \n",
    "from IPTK.IO.InFunctions import parse_xml_based_format_to_identification_table, download_pdb_entry\n",
    "from IPTK.IO.OutFunctions import write_auto_named_peptide_to_fasta \n",
    "from IPTK.Utils.UtilityFunction import get_experiment_summary, combine_summary\n",
    "from IPTK.Classes.Experiment import Experiment\n",
    "from IPTK.Classes.ExperimentSet import ExperimentSet\n",
    "from IPTK.Classes.Database import SeqDB, GeneExpressionDB, CellularLocationDB,OrganismDB\n",
    "from IPTK.Classes.Tissue import Tissue\n",
    "from IPTK.Classes.HLASet import HLASet\n",
    "from IPTK.Classes.Proband import Proband\n",
    "from IPTK.Classes.Peptide import Peptide \n",
    "from IPTK.Visualization.vizTools import (plot_parent_protein_expression_in_tissue,plotly_parent_protein_expression_in_tissue, plot_gene_expression_vs_num_peptides, \n",
    "plot_num_protein_per_location, plot_num_peptide_per_go_term, plot_overlap_heatmap,plot_protein_coverage,plot_coverage_and_annotation, plot_paired_represention, \n",
    "plot_MDS_from_ic_coverage)\n",
    "from IPTK.Analysis.AnalysisFunction import compute_binary_distance, compute_ic_distance_experiments\n",
    "## second we import common python modules \n",
    "import matplotlib.pyplot as plt\n",
    "from typing import List,Set,Dict \n",
    "import pandas as pd \n",
    "import numpy as np\n",
    "import random \n",
    "import seaborn as sns \n",
    "from tqdm import tqdm "
   ]
  },
  {
   "source": [
    "## Define the experiment-invariants"
   ],
   "cell_type": "markdown",
   "metadata": {}
  },
  {
   "cell_type": "code",
   "execution_count": null,
   "metadata": {},
   "outputs": [],
   "source": [
    "proband: Proband = Proband(name='Tutorial_3') # a placeholder value for the name of the proband, here just a dummy placeholder value   \n",
    "hla_set: HLASet = HLASet(hlas=['HLA-DRB1*15:01','HLA-DRB1*13:01']) # define the HLA alleles, here just a dummy placeholder value \n",
    "seqs: SeqDB = SeqDB(path2fasta=\"data/human_proteome.fasta\") # load the sequences data\n",
    "expresson_profile: GeneExpressionDB= GeneExpressionDB() # use the default expression database \n",
    "protein_locations: CellularLocationDB= CellularLocationDB() # use the default cellular location.  \n",
    "tissue: Tissue = Tissue(name='total PBMC', # define the targe tissue --> PBMC \n",
    "                        main_exp_value=expresson_profile,  \n",
    "                        main_location=protein_locations)"
   ]
  },
  {
   "source": [
    "## Load the idxXML Files"
   ],
   "cell_type": "markdown",
   "metadata": {}
  },
  {
   "source": [
    "#### Load the input idXML files"
   ],
   "cell_type": "markdown",
   "metadata": {}
  },
  {
   "cell_type": "code",
   "execution_count": null,
   "metadata": {},
   "outputs": [],
   "source": [
    "# load rep1 with 5e7 cells \n",
    "rep1_5e7: pd.DataFrame = parse_xml_based_format_to_identification_table(\n",
    "    path2XML_file=\"idXML/0810202_0.5_all_ids_merged_psm_perc_filtered.idXML\",\n",
    "    path2fastaDB=\"database/human_proteome.fasta\",\n",
    "    is_idXML= True) \n",
    "# load rep1 with 1e8 cells \n",
    "rep1_1e8: pd.DataFrame = parse_xml_based_format_to_identification_table(\n",
    "    path2XML_file=\"idXML/0810202_1_all_ids_merged_psm_perc_filtered.idXML\",\n",
    "    path2fastaDB=\"database/human_proteome.fasta\",\n",
    "    is_idXML= True) \n",
    "# load rep2 with 5e7 cells \n",
    "rep2_5e7: pd.DataFrame = parse_xml_based_format_to_identification_table(\n",
    "    path2XML_file=\"idXML/27112020_0.5_all_ids_merged_psm_perc_filtered.idXML\",\n",
    "    path2fastaDB=\"database/human_proteome.fasta\",\n",
    "    is_idXML= True) \n",
    "# load rep2 with 1e8 cells \n",
    "rep2_1e8: pd.DataFrame = parse_xml_based_format_to_identification_table(\n",
    "    path2XML_file=\"idXML/27112020_1_all_ids_merged_psm_perc_filtered.idXML\",\n",
    "    path2fastaDB=\"database/human_proteome.fasta\",\n",
    "    is_idXML= True) "
   ]
  },
  {
   "source": [
    "#### Create the experiments "
   ],
   "cell_type": "markdown",
   "metadata": {}
  },
  {
   "cell_type": "code",
   "execution_count": null,
   "metadata": {},
   "outputs": [],
   "source": [
    "# define experiment for rep1 5e7 cells \n",
    "exp_rep1_5e7= Experiment(proband=proband,hla_set=hla_set,tissue=tissue,database=seqs, \n",
    "                 ident_table=rep1_5e7)\n",
    "# define experiment for rep1 1e8 cells \n",
    "exp_rep1_1e8= Experiment(proband=proband,hla_set=hla_set,tissue=tissue,database=seqs, \n",
    "                 ident_table=rep1_1e8)\n",
    "# define experiment for rep2 5e7 cells \n",
    "exp_rep2_5e7= Experiment(proband=proband,hla_set=hla_set,tissue=tissue,database=seqs, \n",
    "                 ident_table=rep2_5e7)\n",
    "# define experiment for rep2 1e8 cells \n",
    "exp_rep2_1e8= Experiment(proband=proband,hla_set=hla_set,tissue=tissue,database=seqs, \n",
    "                 ident_table=rep2_1e8)"
   ]
  },
  {
   "source": [
    "### Create an ExperimentSet object "
   ],
   "cell_type": "markdown",
   "metadata": {}
  },
  {
   "cell_type": "code",
   "execution_count": null,
   "metadata": {},
   "outputs": [],
   "source": [
    "exps: ExperimentSet = ExperimentSet(**{'rep1_5e7':exp_rep1_5e7, \n",
    "                                    'rep1_1e8':exp_rep1_1e8, \n",
    "                                    'rep2_5e7':exp_rep2_5e7,\n",
    "                                    'rep2_1e8':exp_rep2_1e8})"
   ]
  },
  {
   "source": [
    "## Computing N-representation using HLA-atlas data"
   ],
   "cell_type": "markdown",
   "metadata": {}
  },
  {
   "source": [
    "First let's define some help functions to automate parsing and loading the data"
   ],
   "cell_type": "markdown",
   "metadata": {}
  },
  {
   "cell_type": "code",
   "execution_count": 2,
   "metadata": {},
   "outputs": [],
   "source": [
    "def load_and_fill_exps_list(path2files:str,res:Dict[str,Experiment], path2seqDB: str):\n",
    "    \"\"\"Load the CSV files the generated file object \n",
    "\n",
    "    :param path2files: The path to load the CSV files \n",
    "    :type path2files: str\n",
    "    :param res: a list of experimental objects \n",
    "    :type res: Dict[str,Experiment]\n",
    "    :param path2seqDB: the path to the sequence database\n",
    "    :type  path2seqDB: str \n",
    "    \"\"\"\n",
    "    # get a list of the CSV file\n",
    "    file_names: List[str]=get_level_two_subdir(path2files)\n",
    "    for fname in tqdm(file_names): \n",
    "        # generate the tissue name \n",
    "        tissue_name: str =fname.split('/')[-1].split('.')[0].split('_')[-1]\n",
    "        # load the tables as an identification table \n",
    "        ident_table: pd.DataFrame = parse_text_table(\n",
    "            path2file=fname,\n",
    "            path2fastaDB=path2seqDB,\n",
    "            seq_column=\"peptide_seq\",\n",
    "            accession_column=\"protein_names\") \n",
    "        # create a proband instance \n",
    "        donor: Proband = Proband(name='CLEAVAGE_MOTIF_'+tissue_name) \n",
    "        # a place holder for the current usage as we are only interested in the coverage \n",
    "        hlas: HLASet = HLASet(hlas=['HLA-DRB1*15:01','HLA-DRB1*13:01']) \n",
    "        # generate a sequence database \n",
    "        seqs: SeqDB = SeqDB(path2fasta=path2seqDB)\n",
    "        expresson_profile: GeneExpressionDB= GeneExpressionDB()\n",
    "        protein_locations: CellularLocationDB= CellularLocationDB()\n",
    "        # if the tissue is not supported we skip it, i.e. not defined in the expression database \n",
    "        try: \n",
    "            tissue: Tissue = Tissue(name=tissue_name.lower(),\n",
    "                        main_exp_value=expresson_profile, \n",
    "                        main_location=protein_locations)\n",
    "        except KeyError:\n",
    "            print(f'Tissue: {tissue_name} is not on the database')\n",
    "            continue\n",
    "        # otherwise we create an experimental instance for this tissue \n",
    "        res[tissue_name]=Experiment(\n",
    "            proband=donor, hla_set=hlas, \n",
    "            tissue=tissue, database=seqs, ident_table=ident_table)\n",
    "        # print progress statment \n",
    "        print(f'Tissue: {tissue_name} has been parsed')\n",
    "    return    \n",
    "def get_level_two_subdir(path2check: str)->List[str]:\n",
    "    \"\"\"\n",
    "    \"\"\"\n",
    "    results: List[str]= []\n",
    "    level_one_dirs: List[str] = os.listdir(path2check)\n",
    "    for dir_ in level_one_dirs: \n",
    "        path_=os.path.join(path2check,dir_)\n",
    "        if os.path.isdir(path_):\n",
    "            level_two_dirs: List[str] = os.listdir(path_)\n",
    "            for dir__ in level_two_dirs: \n",
    "                results.append(os.path.join(path_,dir__))\n",
    "    return results"
   ]
  },
  {
   "cell_type": "code",
   "execution_count": 4,
   "metadata": {},
   "outputs": [
    {
     "output_type": "error",
     "ename": "NameError",
     "evalue": "name 'get_level_two_subdir' is not defined",
     "traceback": [
      "\u001b[0;31m---------------------------------------------------------------------------\u001b[0m",
      "\u001b[0;31mNameError\u001b[0m                                 Traceback (most recent call last)",
      "\u001b[0;32m<ipython-input-4-a763ee4c7b53>\u001b[0m in \u001b[0;36m<module>\u001b[0;34m\u001b[0m\n\u001b[1;32m      1\u001b[0m \u001b[0;31m## load exps dict by filling the dict of experiments\u001b[0m\u001b[0;34m\u001b[0m\u001b[0;34m\u001b[0m\u001b[0;34m\u001b[0m\u001b[0m\n\u001b[1;32m      2\u001b[0m \u001b[0mexps\u001b[0m\u001b[0;34m:\u001b[0m \u001b[0mDict\u001b[0m\u001b[0;34m[\u001b[0m\u001b[0mstr\u001b[0m\u001b[0;34m,\u001b[0m\u001b[0mExperiment\u001b[0m\u001b[0;34m]\u001b[0m \u001b[0;34m=\u001b[0m \u001b[0mdict\u001b[0m\u001b[0;34m(\u001b[0m\u001b[0;34m)\u001b[0m\u001b[0;34m\u001b[0m\u001b[0;34m\u001b[0m\u001b[0m\n\u001b[0;32m----> 3\u001b[0;31m \u001b[0mload_and_fill_exps_list\u001b[0m\u001b[0;34m(\u001b[0m\u001b[0;34m\"AUT01-DN08\"\u001b[0m \u001b[0;34m,\u001b[0m\u001b[0mexps\u001b[0m\u001b[0;34m,\u001b[0m\u001b[0;34m''\u001b[0m\u001b[0;34m)\u001b[0m\u001b[0;34m\u001b[0m\u001b[0;34m\u001b[0m\u001b[0m\n\u001b[0m",
      "\u001b[0;32m<ipython-input-2-74126ee5b951>\u001b[0m in \u001b[0;36mload_and_fill_exps_list\u001b[0;34m(path2files, res, path2seqDB)\u001b[0m\n\u001b[1;32m     10\u001b[0m     \"\"\"\n\u001b[1;32m     11\u001b[0m     \u001b[0;31m# get a list of the CSV file\u001b[0m\u001b[0;34m\u001b[0m\u001b[0;34m\u001b[0m\u001b[0;34m\u001b[0m\u001b[0m\n\u001b[0;32m---> 12\u001b[0;31m     \u001b[0mfile_names\u001b[0m\u001b[0;34m:\u001b[0m \u001b[0mList\u001b[0m\u001b[0;34m[\u001b[0m\u001b[0mstr\u001b[0m\u001b[0;34m]\u001b[0m\u001b[0;34m=\u001b[0m\u001b[0mget_level_two_subdir\u001b[0m\u001b[0;34m(\u001b[0m\u001b[0mpath2files\u001b[0m\u001b[0;34m)\u001b[0m\u001b[0;34m\u001b[0m\u001b[0;34m\u001b[0m\u001b[0m\n\u001b[0m\u001b[1;32m     13\u001b[0m     \u001b[0;32mfor\u001b[0m \u001b[0mfname\u001b[0m \u001b[0;32min\u001b[0m \u001b[0mtqdm\u001b[0m\u001b[0;34m(\u001b[0m\u001b[0mfile_names\u001b[0m\u001b[0;34m)\u001b[0m\u001b[0;34m:\u001b[0m\u001b[0;34m\u001b[0m\u001b[0;34m\u001b[0m\u001b[0m\n\u001b[1;32m     14\u001b[0m         \u001b[0;31m# generate the tissue name\u001b[0m\u001b[0;34m\u001b[0m\u001b[0;34m\u001b[0m\u001b[0;34m\u001b[0m\u001b[0m\n",
      "\u001b[0;31mNameError\u001b[0m: name 'get_level_two_subdir' is not defined"
     ]
    }
   ],
   "source": [
    "## load exps dict by filling the dict of experiments \n",
    "exps: Dict[str,Experiment] = dict()\n",
    "load_and_fill_exps_list(\"AUT01-DN08\" ,exps,'')"
   ]
  }
 ]
}