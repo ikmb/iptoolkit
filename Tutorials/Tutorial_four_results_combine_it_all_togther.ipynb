{
 "cells": [
  {
   "cell_type": "markdown",
   "metadata": {},
   "source": [
    "# Case Studies "
   ]
  },
  {
   "cell_type": "markdown",
   "metadata": {},
   "source": [
    "In the previous tutorials we have introduced the building blocks of IPTK, and how it can be used to analyze different aspects of IP experiments. In the current tutorial,  we are going to put it all togther and reproduce some of the results described in the paper (ElAbd et al,BMC Bioinformatics, In Review)) through some case studies."
   ]
  },
  {
   "cell_type": "markdown",
   "metadata": {},
   "source": [
    "### Note on IPTK versioning"
   ]
  },
  {
   "cell_type": "markdown",
   "metadata": {},
   "source": [
    "The current version of the tutorial utilizes features that is only available in IPTK version 0.6.6 and higher, please make sure you have installed the latest version of IPTK either using pip or conda."
   ]
  },
  {
   "cell_type": "markdown",
   "metadata": {},
   "source": [
    "### Checking the version of IPTK"
   ]
  },
  {
   "cell_type": "code",
   "execution_count": 1,
   "metadata": {},
   "outputs": [
    {
     "name": "stdout",
     "output_type": "stream",
     "text": [
      " Current version of IPTK is: 0.6.6\n"
     ]
    }
   ],
   "source": [
    "import IPTK\n",
    "print(f\" Current version of IPTK is: {IPTK.__version__}\")"
   ]
  },
  {
   "cell_type": "markdown",
   "metadata": {},
   "source": [
    "## Loading the modules and functions "
   ]
  },
  {
   "cell_type": "markdown",
   "metadata": {},
   "source": [
    "One of the major aims of IPTK version 0.6 and above is to minimize time and effort needed for analyzing the data. Hence, in this tutorial we are going to utilize the RExperiment class, which is handy wrapper class for bilding experimental objects. "
   ]
  },
  {
   "cell_type": "code",
   "execution_count": 2,
   "metadata": {},
   "outputs": [
    {
     "data": {
      "application/vnd.jupyter.widget-view+json": {
       "model_id": "0e41f9e5898f4045b8c16aeac9056b97",
       "version_major": 2,
       "version_minor": 0
      },
      "text/plain": []
     },
     "metadata": {},
     "output_type": "display_data"
    },
    {
     "name": "stderr",
     "output_type": "stream",
     "text": [
      "Determination of memory status is not supported on this \n",
      " platform, measuring for memoryleaks will never fail\n"
     ]
    }
   ],
   "source": [
    "import os\n",
    "from IPTK.Classes.Wrappers import RExperiment, Experiment\n",
    "from IPTK.Classes.ExperimentSet import ExperimentSet\n",
    "from typing import List, Dict, Set, Union \n",
    "from tqdm import tqdm \n",
    "from IPTK.Visualization import vizTools\n",
    "from IPTK.Analysis import AnalysisFunction\n",
    "from IPTK.Classes.GOEngine import GOEngine"
   ]
  },
  {
   "cell_type": "markdown",
   "metadata": {},
   "source": [
    "## Case study one: Analyzing the differences in HLA-II immunopeptidomes of different tissues"
   ]
  },
  {
   "cell_type": "markdown",
   "metadata": {},
   "source": [
    "The data is obtained from [HLA ligand atlas](https://hla-ligand-atlas.org/welcome)(Release 2020.06). The data has been processed into tables representing the immunopeptidome of different tissues from one donor, namely, AUT01-DN08. Before we start the analysis, we define some helper functions to help us with loading and parsing the data. "
   ]
  },
  {
   "cell_type": "code",
   "execution_count": 3,
   "metadata": {},
   "outputs": [],
   "source": [
    "def get_level_two_subdir(path2check: str)->List[str]:\n",
    "    \"\"\"List all the directory in a two level path tree \n",
    "    \"\"\"\n",
    "    results: List[str]= []\n",
    "    level_one_dirs: List[str] = os.listdir(path2check)\n",
    "    for dir_ in level_one_dirs: \n",
    "        path_=os.path.join(path2check,dir_)\n",
    "        if os.path.isdir(path_):\n",
    "            level_two_dirs: List[str] = os.listdir(path_)\n",
    "            for dir__ in level_two_dirs: \n",
    "                results.append(os.path.join(path_,dir__))\n",
    "    return results\n",
    "\n",
    "def load_and_fill_exps_list(path2files:str,res:Dict[str,Experiment], path2seqDB: str):\n",
    "    \"\"\"Load the CSV files the generated file object \n",
    "\n",
    "    :param path2files: The path to load the CSV files \n",
    "    :type path2files: str\n",
    "    :param res: a list of experimental objects \n",
    "    :type res: Dict[str,Experiment]\n",
    "    :param path2seqDB: the path to the sequence database\n",
    "    :type  path2seqDB: str \n",
    "    \"\"\"\n",
    "    # get a list of the CSV file\n",
    "    file_names=get_level_two_subdir(path2files)\n",
    "    for fname in tqdm(file_names): \n",
    "        # generate the tissue name \n",
    "        tissue_name: str =fname.split('/')[-1].split('.')[0].split('_')[-1]\n",
    "        try:\n",
    "            res[tissue_name]= RExperiment(\n",
    "            filepath= fname,\n",
    "            path2fasta= path2seqDB,\n",
    "            fileformat = 'csv',\n",
    "            tissue_name = tissue_name.lower(),\n",
    "            proband_name = 'Default Proband',\n",
    "            hla_set = ['DRB1*15:01', 'DRB1*15:01'],\n",
    "            parser_param = {'seq_column':'peptide_seq','accession_column':'protein_names'},\n",
    "            ).get_experiment()\n",
    "        except Exception as exp:\n",
    "            print(f'Tissue: {tissue_name} is not on the database')\n",
    "            continue\n",
    "    return    "
   ]
  },
  {
   "cell_type": "markdown",
   "metadata": {},
   "source": [
    "#### Load exps dict by filling the dict of experiments "
   ]
  },
  {
   "cell_type": "code",
   "execution_count": null,
   "metadata": {},
   "outputs": [],
   "source": [
    "## Note: \n",
    "#--------------------\n",
    "# As we do not have access to the exact FASTA file used for generating the peptides we are using the whole Uniprot database, i.e. uniprot_sprot.fasta, to extract sequences #from the database. Unfortunately, this file is about 266MB and could not be uploaded to Github. So, users are encouraged to download this file from Uniprot websites. To #follow along, kindly, download the data from: https://www.uniprot.org/downloads and select Swiss-Prot in a Fasta format.\n",
    "# Also, please make sure you are using the uniprot release 2020_05\n",
    "#--------------------\n",
    "exps: Dict[str,Experiment] = dict()\n",
    "load_and_fill_exps_list(\"atlas_data\" ,exps,\"/Users/heshamelabd/databases/uniprot_sprot.fasta\")"
   ]
  },
  {
   "cell_type": "markdown",
   "metadata": {},
   "source": [
    "### Consturct the experiment set "
   ]
  },
  {
   "cell_type": "code",
   "execution_count": null,
   "metadata": {},
   "outputs": [],
   "source": [
    "exp_set: ExperimentSet = ExperimentSet(**exps)\n",
    "print(f\"Number of experiments in the file is: {exp_set.get_num_experiments_in_the_set()}\")"
   ]
  },
  {
   "cell_type": "markdown",
   "metadata": {},
   "source": [
    "## Extract proteins inferred on all 12 different tissue "
   ]
  },
  {
   "cell_type": "code",
   "execution_count": null,
   "metadata": {},
   "outputs": [],
   "source": [
    "present_in_all=exp_set.get_proteins_present_in_all()"
   ]
  },
  {
   "cell_type": "code",
   "execution_count": null,
   "metadata": {},
   "outputs": [],
   "source": [
    "for protein in present_in_all:\n",
    "    print(f\"Protein ID is: {protein}\")"
   ]
  },
  {
   "cell_type": "markdown",
   "metadata": {},
   "source": [
    "###### Compute the coverage among different tissues for an exemplary protein,  GC Vitamin D-binding protein, P02774"
   ]
  },
  {
   "cell_type": "code",
   "execution_count": null,
   "metadata": {},
   "outputs": [],
   "source": [
    "###### Compute the coverage among different tissues\n",
    "results= dict()\n",
    "for name in  exp_set.get_experiments().keys():\n",
    "    results[name]=exp_set[name].get_mapped_protein('P02774')\n",
    "fig=vizTools.plotly_multi_traced_coverage_representation(results,\"Protein Coverage Across \")\n",
    "fig.update_yaxes(tickfont = dict(size=6))\n",
    "fig.update_xaxes(tickfont = dict(size=6))"
   ]
  },
  {
   "cell_type": "markdown",
   "metadata": {},
   "source": [
    "#### Compute peptide overlap among different tissues "
   ]
  },
  {
   "cell_type": "markdown",
   "metadata": {},
   "source": [
    "IPTK supports two methods for computing overlap among experiments, first using counts, where the number of peptides with exact sequence-match between a pair of experiments is used as a distance metric. Second, using Jaccard index. for more details about Jaccard index check [here](https://en.wikipedia.org/wiki/Jaccard_index). We illusate both methods below"
   ]
  },
  {
   "cell_type": "markdown",
   "metadata": {},
   "source": [
    "##### Count method "
   ]
  },
  {
   "cell_type": "code",
   "execution_count": null,
   "metadata": {},
   "outputs": [],
   "source": [
    "# get the overlap\n",
    "peptide_overlap =exp_set.compute_peptide_overlap_matrix(method='count')\n",
    "# visualize the results \n",
    "fig=vizTools.plot_overlap_heatmap(peptide_overlap,{'cmap':'Blues'})"
   ]
  },
  {
   "cell_type": "markdown",
   "metadata": {},
   "source": [
    "##### Jaccard-index method "
   ]
  },
  {
   "cell_type": "code",
   "execution_count": null,
   "metadata": {},
   "outputs": [],
   "source": [
    "# get the overlap\n",
    "peptide_overlap =exp_set.compute_peptide_overlap_matrix(method='jaccard')\n",
    "# visualize the results \n",
    "fig=vizTools.plot_overlap_heatmap(peptide_overlap,{'cmap':'Blues'})"
   ]
  },
  {
   "cell_type": "markdown",
   "metadata": {},
   "source": [
    "#### Compute protein overlap among different tissues "
   ]
  },
  {
   "cell_type": "markdown",
   "metadata": {},
   "source": [
    "Here we are going to show computing protein overlap, however, mainly focusing on Jaccard-based metric."
   ]
  },
  {
   "cell_type": "code",
   "execution_count": null,
   "metadata": {},
   "outputs": [],
   "source": [
    "# get the overlap\n",
    "protein_overlap= exp_set.compute_protein_overlap_matrix(method='jaccard')\n",
    "### \n",
    "fig=vizTools.plot_overlap_heatmap(protein_overlap,{'cmap':'Blues'})"
   ]
  },
  {
   "cell_type": "markdown",
   "metadata": {},
   "source": [
    "#### Compute immunopeptidomic overlap among different tissues"
   ]
  },
  {
   "cell_type": "markdown",
   "metadata": {},
   "source": [
    "Finnaly let's use immunopeptidomic overlap using a count based metric "
   ]
  },
  {
   "cell_type": "code",
   "execution_count": null,
   "metadata": {},
   "outputs": [],
   "source": [
    "dist_im=AnalysisFunction.compute_ic_distance_experiments(exp_set) ## This might take a couple of minutes "
   ]
  },
  {
   "cell_type": "code",
   "execution_count": null,
   "metadata": {},
   "outputs": [],
   "source": [
    "### visualize the mapping using MDS \n",
    "fig=vizTools.plot_MDS_from_ic_coverage(dist_im)"
   ]
  },
  {
   "cell_type": "markdown",
   "metadata": {},
   "source": [
    "## Case study two: Combining coverage and UniProt informations"
   ]
  },
  {
   "cell_type": "code",
   "execution_count": 4,
   "metadata": {},
   "outputs": [
    {
     "name": "stdout",
     "output_type": "stream",
     "text": [
      "Parsing the provided idXML table ..., started at: Sat Jul 17 15:07:16 2021\n"
     ]
    },
    {
     "name": "stderr",
     "output_type": "stream",
     "text": [
      "3087it [00:03, 1007.85it/s]\n"
     ]
    },
    {
     "name": "stdout",
     "output_type": "stream",
     "text": [
      "Creating an experimental object, ... started at: Sat Jul 17 15:07:19 2021\n"
     ]
    },
    {
     "name": "stderr",
     "output_type": "stream",
     "text": [
      "100%|██████████| 10948/10948 [00:02<00:00, 5410.23it/s]\n"
     ]
    }
   ],
   "source": [
    "exp_one_rep2= RExperiment(filepath=\"idXML/27112020_1_all_ids_merged_psm_perc_filtered.idXML\",\n",
    "    path2fasta= \"data/human_proteome.fasta\",fileformat='idXML',tissue_name='total PBMC').get_experiment()"
   ]
  },
  {
   "cell_type": "markdown",
   "metadata": {},
   "source": [
    "#### Compute the coverage over the whole set"
   ]
  },
  {
   "cell_type": "code",
   "execution_count": null,
   "metadata": {},
   "outputs": [],
   "source": [
    "mapped_coverage=exp_one_rep2.get_mapped_proteins()"
   ]
  },
  {
   "cell_type": "markdown",
   "metadata": {},
   "source": [
    "### Showing the top 50 protein with the highest number of peptide hits "
   ]
  },
  {
   "cell_type": "code",
   "execution_count": null,
   "metadata": {},
   "outputs": [],
   "source": [
    "exp_one_rep2.get_peptides_per_protein().head(50)"
   ]
  },
  {
   "cell_type": "markdown",
   "metadata": {},
   "source": [
    "### Plotting coverage and Uniprot information "
   ]
  },
  {
   "cell_type": "markdown",
   "metadata": {},
   "source": [
    "### First, let's focus on P04114"
   ]
  },
  {
   "cell_type": "code",
   "execution_count": null,
   "metadata": {},
   "outputs": [],
   "source": [
    "## Generate an annotation and Coverage track\n",
    "#-------------------------------------------\n",
    "#### **Note**:\n",
    "#-------------\n",
    "# The function needs internet connection to download the XML record from uniprot\n",
    "#--------\n",
    "###  Get the coverage array for the target protein: P04114\n",
    "#--------------------------------------------------------- \n",
    "P04114_coverage=mapped_coverage['P04114']\n",
    "### Plot and annotate the protein\n",
    "#--------------------------------\n",
    "fig=vizTools.plot_coverage_and_annotation(\n",
    "            {'P04114':P04114_coverage.reshape(-1)},\n",
    "        coverage_track_dict={\n",
    "            \"xlabel_dict\":{\n",
    "                    \"fontsize\":8\n",
    "                    },\n",
    "            \"ylabel_dict\":{\n",
    "                                \"fontsize\":8\n",
    "                                }, \n",
    "                \n",
    "                \"coverage_dict\":{\n",
    "                    \"color\":\"grey\",\n",
    "                    \"width\":1, \n",
    "                },\n",
    "                \"number_ticks\":10, \n",
    "                \"xticks_font_size\":8,\n",
    "                \"yticks_font_size\":8,\n",
    "                            },\n",
    "            chains_track_dict={\n",
    "                \"track_label_dict\":{\n",
    "                                \"fontsize\":8\n",
    "                                   }, \n",
    "                \"track_element_names_dict\":{\n",
    "                                        \"fontsize\":8\n",
    "                                            },\n",
    "                \"track_elements_dict\":{\n",
    "                                    \"color\":\"royalblue\"\n",
    "                                        }\n",
    "                            },\n",
    "            domain_track_dict={\n",
    "                \"track_label_dict\":{\n",
    "                                \"fontsize\":8\n",
    "                                   },\n",
    "                \"track_element_names_dict\":{\n",
    "                                        \"fontsize\":8\n",
    "                                        },\n",
    "                \"track_elements_dict\":{\n",
    "                                    \"color\":\"lime\"\n",
    "                                      }\n",
    "                            },\n",
    "            transmembrane_track_dict={\n",
    "                \"track_label_dict\":{\n",
    "                                \"fontsize\":8\n",
    "                                   },\n",
    "                \"track_element_names_dict\":{\n",
    "                                        \"fontsize\":8\n",
    "                                        },\n",
    "                \"track_elements_dict\":{\n",
    "                                    \"color\":\"lime\"\n",
    "                                      }\n",
    "                            },\n",
    "             modifications_track_dict={\n",
    "                \"track_label_dict\":{\n",
    "                                \"fontsize\":8\n",
    "                                   },\n",
    "                \"marker_bar_dict\": {\n",
    "                                \"color\":\"black\",\n",
    "                                \"linestyles\":\"solid\",\n",
    "                                \"linewidth\":0.5,\n",
    "                                \"alpha\":0.4\n",
    "                                }, \n",
    "                \"marker_dict\":{\n",
    "                                \"s\":10,\n",
    "                                \"color\":\"red\"\n",
    "                             }\n",
    "                            },\n",
    "                glyco_track_dict={\n",
    "                    \"track_label_dict\":{\n",
    "                                \"fontsize\":8\n",
    "                                   },\n",
    "                \"marker_bar_dict\": {\n",
    "                                \"color\":\"black\",\n",
    "                                \"linestyles\":\"solid\",\n",
    "                                \"linewidth\":0.5,\n",
    "                                \"alpha\":0.4\n",
    "                                }, \n",
    "                \"marker_dict\":{\n",
    "                                \"s\":10,\n",
    "                                \"color\":\"red\"\n",
    "                             }\n",
    "                },\n",
    "                disulfide_track=True,\n",
    "                disulfide_track_dict={\n",
    "                    \"track_label_dict\":{\n",
    "                                \"fontsize\":8\n",
    "                                   },\n",
    "                \"marker_bar_dict\": {\n",
    "                                \"color\":\"black\",\n",
    "                                \"linestyles\":\"solid\",\n",
    "                                \"linewidth\":0.5,\n",
    "                                \"alpha\":0.4\n",
    "                                }, \n",
    "                \"marker_dict\":{\n",
    "                                \"s\":10,\n",
    "                                \"color\":\"red\"\n",
    "                             }\n",
    "                }, \n",
    "                sequence_variants_track_dict={\n",
    "                    \"track_label_dict\":{\n",
    "                                \"fontsize\":8\n",
    "                                   },\n",
    "                \"marker_bar_dict\": {\n",
    "                                \"color\":\"black\",\n",
    "                                \"linestyles\":\"solid\",\n",
    "                                \"linewidth\":0.5,\n",
    "                                \"alpha\":0.4\n",
    "                                }, \n",
    "                \"marker_dict\":{\n",
    "                                \"s\":10,\n",
    "                                \"color\":\"red\"\n",
    "                             }\n",
    "                } \n",
    ")"
   ]
  },
  {
   "cell_type": "markdown",
   "metadata": {},
   "source": [
    "### Second, let's try a second figure focusing on HLA class I histocompatibility antigen (Q5SUL5)"
   ]
  },
  {
   "cell_type": "code",
   "execution_count": null,
   "metadata": {},
   "outputs": [],
   "source": [
    "Q5SUL5_coverage=mapped_coverage['Q5SUL5']\n",
    "### Plot and annotate the protein\n",
    "#--------------------------------\n",
    "fig=vizTools.plot_coverage_and_annotation(\n",
    "            {'Q5SUL5':Q5SUL5_coverage.reshape(-1)},\n",
    "        coverage_track_dict={\n",
    "            \"xlabel_dict\":{\n",
    "                    \"fontsize\":8\n",
    "                    },\n",
    "            \"ylabel_dict\":{\n",
    "                                \"fontsize\":8\n",
    "                                }, \n",
    "                \n",
    "                \"coverage_dict\":{\n",
    "                    \"color\":\"grey\",\n",
    "                    \"width\":1, \n",
    "                },\n",
    "                \"number_ticks\":10, \n",
    "                \"xticks_font_size\":8,\n",
    "                \"yticks_font_size\":8,\n",
    "                            },\n",
    "            chains_track_dict={\n",
    "                \"track_label_dict\":{\n",
    "                                \"fontsize\":8\n",
    "                                   }, \n",
    "                \"track_element_names_dict\":{\n",
    "                                        \"fontsize\":8\n",
    "                                            },\n",
    "                \"track_elements_dict\":{\n",
    "                                    \"color\":\"royalblue\"\n",
    "                                        }\n",
    "                            },\n",
    "            domain_track_dict={\n",
    "                \"track_label_dict\":{\n",
    "                                \"fontsize\":8\n",
    "                                   },\n",
    "                \"track_element_names_dict\":{\n",
    "                                        \"fontsize\":8\n",
    "                                        },\n",
    "                \"track_elements_dict\":{\n",
    "                                    \"color\":\"lime\"\n",
    "                                      }\n",
    "                            },\n",
    "            transmembrane_track_dict={\n",
    "                \"track_label_dict\":{\n",
    "                                \"fontsize\":8\n",
    "                                   },\n",
    "                \"track_element_names_dict\":{\n",
    "                                        \"fontsize\":8\n",
    "                                        },\n",
    "                \"track_elements_dict\":{\n",
    "                                    \"color\":\"lime\"\n",
    "                                      }\n",
    "                            },\n",
    "             modifications_track_dict={\n",
    "                \"track_label_dict\":{\n",
    "                                \"fontsize\":8\n",
    "                                   },\n",
    "                \"marker_bar_dict\": {\n",
    "                                \"color\":\"black\",\n",
    "                                \"linestyles\":\"solid\",\n",
    "                                \"linewidth\":0.5,\n",
    "                                \"alpha\":0.4\n",
    "                                }, \n",
    "                \"marker_dict\":{\n",
    "                                \"s\":10,\n",
    "                                \"color\":\"red\"\n",
    "                             }\n",
    "                            },\n",
    "                glyco_track_dict={\n",
    "                    \"track_label_dict\":{\n",
    "                                \"fontsize\":8\n",
    "                                   },\n",
    "                \"marker_bar_dict\": {\n",
    "                                \"color\":\"black\",\n",
    "                                \"linestyles\":\"solid\",\n",
    "                                \"linewidth\":0.5,\n",
    "                                \"alpha\":0.4\n",
    "                                }, \n",
    "                \"marker_dict\":{\n",
    "                                \"s\":10,\n",
    "                                \"color\":\"red\"\n",
    "                             }\n",
    "                },\n",
    "                disulfide_track=True,\n",
    "                disulfide_track_dict={\n",
    "                    \"track_label_dict\":{\n",
    "                                \"fontsize\":8\n",
    "                                   },\n",
    "                \"marker_bar_dict\": {\n",
    "                                \"color\":\"black\",\n",
    "                                \"linestyles\":\"solid\",\n",
    "                                \"linewidth\":0.5,\n",
    "                                \"alpha\":0.4\n",
    "                                }, \n",
    "                \"marker_dict\":{\n",
    "                                \"s\":10,\n",
    "                                \"color\":\"red\"\n",
    "                             }\n",
    "                }, \n",
    "                sequence_variants_track_dict={\n",
    "                    \"track_label_dict\":{\n",
    "                                \"fontsize\":8\n",
    "                                   },\n",
    "                \"marker_bar_dict\": {\n",
    "                                \"color\":\"black\",\n",
    "                                \"linestyles\":\"solid\",\n",
    "                                \"linewidth\":0.5,\n",
    "                                \"alpha\":0.4\n",
    "                                }, \n",
    "                \"marker_dict\":{\n",
    "                                \"s\":10,\n",
    "                                \"color\":\"red\"\n",
    "                             }\n",
    "                } \n",
    ")"
   ]
  },
  {
   "cell_type": "code",
   "execution_count": null,
   "metadata": {},
   "outputs": [],
   "source": [
    "## Finally, we can save the figure for later use using \n",
    "fig.savefig('annotation_track_example_figure.png',dpi=1200)"
   ]
  },
  {
   "cell_type": "markdown",
   "metadata": {},
   "source": [
    "### Performing a GOEA using GOEngine "
   ]
  },
  {
   "cell_type": "markdown",
   "metadata": {},
   "source": [
    "The GOEngine class is a convenience wrapper around the goatools library that  provides an easy-to-use method for performing GOEA for the identified proteins from an immunopeptidomics experiment."
   ]
  },
  {
   "cell_type": "markdown",
   "metadata": {},
   "source": [
    "#### Creating a GOEngine"
   ]
  },
  {
   "cell_type": "code",
   "execution_count": 5,
   "metadata": {},
   "outputs": [
    {
     "name": "stdout",
     "output_type": "stream",
     "text": [
      "Creating a GO Engine ...\n",
      "\t --> Downloading data ...\n",
      "  EXISTS: ./go-basic.obo\n",
      "  EXISTS: ./gene2go\n",
      "\t --> parsing the data and intializing the base GOEA object...\n",
      "./go-basic.obo: fmt(1.2) rel(2021-07-02) 47,229 GO Terms\n",
      "HMS:0:00:04.387427 330,320 annotations, 20,687 genes, 18,684 GOs, 1 taxids READ: ./gene2go \n",
      "\n",
      "Load BP Gene Ontology Analysis ...\n",
      "fisher module not installed.  Falling back on scipy.stats.fisher_exact\n",
      " 86% 16,822 of 19,645 population items found in association\n",
      "\n",
      "Load CC Gene Ontology Analysis ...\n",
      "fisher module not installed.  Falling back on scipy.stats.fisher_exact\n",
      " 91% 17,974 of 19,645 population items found in association\n",
      "\n",
      "Load MF Gene Ontology Analysis ...\n",
      "fisher module not installed.  Falling back on scipy.stats.fisher_exact\n",
      " 89% 17,466 of 19,645 population items found in association\n"
     ]
    }
   ],
   "source": [
    "engine=GOEngine()"
   ]
  },
  {
   "cell_type": "markdown",
   "metadata": {},
   "source": [
    "#### Loading and extracting target genes"
   ]
  },
  {
   "cell_type": "code",
   "execution_count": 6,
   "metadata": {},
   "outputs": [
    {
     "name": "stdout",
     "output_type": "stream",
     "text": [
      "Getting the number of peptide per protein ..., started at: Sat Jul 17 15:07:42 2021\n"
     ]
    },
    {
     "name": "stderr",
     "output_type": "stream",
     "text": [
      "100%|██████████| 2550/2550 [00:09<00:00, 271.13it/s]\n"
     ]
    },
    {
     "name": "stdout",
     "output_type": "stream",
     "text": [
      "Map uniprot to Entrez gene ids ..., starting at: Sat Jul 17 15:07:52 2021\n",
      "1106 Genes have been correctly loaded\n"
     ]
    }
   ],
   "source": [
    "engine.load_data(exp_one_rep2)"
   ]
  },
  {
   "cell_type": "code",
   "execution_count": 7,
   "metadata": {},
   "outputs": [
    {
     "name": "stdout",
     "output_type": "stream",
     "text": [
      "\n",
      "Run BP Gene Ontology Analysis: current study set of 1106 IDs ... 95%    901 of    947 study items found in association\n",
      " 86%    947 of  1,106 study items found in population(19645)\n",
      "Calculating 12,342 uncorrected p-values using fisher_scipy_stats\n",
      "  12,342 GO terms are associated with 16,822 of 19,645 population items\n",
      "   3,859 GO terms are associated with    901 of    947 study items\n",
      "  METHOD fdr_bh:\n",
      "     159 GO terms found significant (< 0.05=alpha) (157 enriched +   2 purified): statsmodels fdr_bh\n",
      "     645 study items associated with significant GO IDs (enriched)\n",
      "      31 study items associated with significant GO IDs (purified)\n",
      "\n",
      "Run CC Gene Ontology Analysis: current study set of 1106 IDs ... 98%    924 of    947 study items found in association\n",
      " 86%    947 of  1,106 study items found in population(19645)\n",
      "Calculating 1,753 uncorrected p-values using fisher_scipy_stats\n",
      "   1,753 GO terms are associated with 17,974 of 19,645 population items\n",
      "     684 GO terms are associated with    924 of    947 study items\n",
      "  METHOD fdr_bh:\n",
      "     134 GO terms found significant (< 0.05=alpha) (132 enriched +   2 purified): statsmodels fdr_bh\n",
      "     896 study items associated with significant GO IDs (enriched)\n",
      "     137 study items associated with significant GO IDs (purified)\n",
      "\n",
      "Run MF Gene Ontology Analysis: current study set of 1106 IDs ... 96%    912 of    947 study items found in association\n",
      " 86%    947 of  1,106 study items found in population(19645)\n",
      "Calculating 4,431 uncorrected p-values using fisher_scipy_stats\n",
      "   4,431 GO terms are associated with 17,466 of 19,645 population items\n",
      "   1,058 GO terms are associated with    912 of    947 study items\n",
      "  METHOD fdr_bh:\n",
      "      93 GO terms found significant (< 0.05=alpha) ( 85 enriched +   8 purified): statsmodels fdr_bh\n",
      "     840 study items associated with significant GO IDs (enriched)\n",
      "      26 study items associated with significant GO IDs (purified)\n",
      "    386 items WROTE: ./temp_file.tsv\n"
     ]
    }
   ],
   "source": [
    "res=engine.run_analysis()"
   ]
  },
  {
   "cell_type": "markdown",
   "metadata": {},
   "source": [
    "### Print the results table "
   ]
  },
  {
   "cell_type": "markdown",
   "metadata": {},
   "source": [
    "##### First, Biological Processes"
   ]
  },
  {
   "cell_type": "code",
   "execution_count": 8,
   "metadata": {},
   "outputs": [
    {
     "data": {
      "text/html": [
       "<div>\n",
       "<style scoped>\n",
       "    .dataframe tbody tr th:only-of-type {\n",
       "        vertical-align: middle;\n",
       "    }\n",
       "\n",
       "    .dataframe tbody tr th {\n",
       "        vertical-align: top;\n",
       "    }\n",
       "\n",
       "    .dataframe thead th {\n",
       "        text-align: right;\n",
       "    }\n",
       "</style>\n",
       "<table border=\"1\" class=\"dataframe\">\n",
       "  <thead>\n",
       "    <tr style=\"text-align: right;\">\n",
       "      <th></th>\n",
       "      <th>NS</th>\n",
       "      <th>enrichment</th>\n",
       "      <th>p_fdr_bh</th>\n",
       "    </tr>\n",
       "  </thead>\n",
       "  <tbody>\n",
       "    <tr>\n",
       "      <th>0</th>\n",
       "      <td>BP</td>\n",
       "      <td>e</td>\n",
       "      <td>4.718633e-34</td>\n",
       "    </tr>\n",
       "    <tr>\n",
       "      <th>1</th>\n",
       "      <td>BP</td>\n",
       "      <td>e</td>\n",
       "      <td>2.476472e-23</td>\n",
       "    </tr>\n",
       "    <tr>\n",
       "      <th>2</th>\n",
       "      <td>BP</td>\n",
       "      <td>e</td>\n",
       "      <td>4.886199e-21</td>\n",
       "    </tr>\n",
       "    <tr>\n",
       "      <th>3</th>\n",
       "      <td>BP</td>\n",
       "      <td>e</td>\n",
       "      <td>6.850985e-14</td>\n",
       "    </tr>\n",
       "    <tr>\n",
       "      <th>4</th>\n",
       "      <td>BP</td>\n",
       "      <td>e</td>\n",
       "      <td>2.084300e-13</td>\n",
       "    </tr>\n",
       "    <tr>\n",
       "      <th>5</th>\n",
       "      <td>BP</td>\n",
       "      <td>e</td>\n",
       "      <td>7.879061e-11</td>\n",
       "    </tr>\n",
       "    <tr>\n",
       "      <th>6</th>\n",
       "      <td>BP</td>\n",
       "      <td>e</td>\n",
       "      <td>1.296727e-10</td>\n",
       "    </tr>\n",
       "    <tr>\n",
       "      <th>7</th>\n",
       "      <td>BP</td>\n",
       "      <td>e</td>\n",
       "      <td>3.071771e-10</td>\n",
       "    </tr>\n",
       "    <tr>\n",
       "      <th>8</th>\n",
       "      <td>BP</td>\n",
       "      <td>e</td>\n",
       "      <td>3.071771e-10</td>\n",
       "    </tr>\n",
       "    <tr>\n",
       "      <th>9</th>\n",
       "      <td>BP</td>\n",
       "      <td>e</td>\n",
       "      <td>8.160895e-10</td>\n",
       "    </tr>\n",
       "    <tr>\n",
       "      <th>10</th>\n",
       "      <td>BP</td>\n",
       "      <td>e</td>\n",
       "      <td>8.160895e-10</td>\n",
       "    </tr>\n",
       "    <tr>\n",
       "      <th>11</th>\n",
       "      <td>BP</td>\n",
       "      <td>e</td>\n",
       "      <td>8.160895e-10</td>\n",
       "    </tr>\n",
       "    <tr>\n",
       "      <th>12</th>\n",
       "      <td>BP</td>\n",
       "      <td>e</td>\n",
       "      <td>1.813826e-09</td>\n",
       "    </tr>\n",
       "    <tr>\n",
       "      <th>13</th>\n",
       "      <td>BP</td>\n",
       "      <td>e</td>\n",
       "      <td>4.778102e-09</td>\n",
       "    </tr>\n",
       "    <tr>\n",
       "      <th>14</th>\n",
       "      <td>BP</td>\n",
       "      <td>e</td>\n",
       "      <td>5.870645e-09</td>\n",
       "    </tr>\n",
       "    <tr>\n",
       "      <th>15</th>\n",
       "      <td>BP</td>\n",
       "      <td>e</td>\n",
       "      <td>9.692581e-08</td>\n",
       "    </tr>\n",
       "    <tr>\n",
       "      <th>16</th>\n",
       "      <td>BP</td>\n",
       "      <td>e</td>\n",
       "      <td>1.892716e-07</td>\n",
       "    </tr>\n",
       "    <tr>\n",
       "      <th>17</th>\n",
       "      <td>BP</td>\n",
       "      <td>e</td>\n",
       "      <td>3.393162e-07</td>\n",
       "    </tr>\n",
       "    <tr>\n",
       "      <th>18</th>\n",
       "      <td>BP</td>\n",
       "      <td>e</td>\n",
       "      <td>5.699085e-07</td>\n",
       "    </tr>\n",
       "    <tr>\n",
       "      <th>19</th>\n",
       "      <td>BP</td>\n",
       "      <td>e</td>\n",
       "      <td>6.079669e-07</td>\n",
       "    </tr>\n",
       "  </tbody>\n",
       "</table>\n",
       "</div>"
      ],
      "text/plain": [
       "    NS enrichment      p_fdr_bh\n",
       "0   BP          e  4.718633e-34\n",
       "1   BP          e  2.476472e-23\n",
       "2   BP          e  4.886199e-21\n",
       "3   BP          e  6.850985e-14\n",
       "4   BP          e  2.084300e-13\n",
       "5   BP          e  7.879061e-11\n",
       "6   BP          e  1.296727e-10\n",
       "7   BP          e  3.071771e-10\n",
       "8   BP          e  3.071771e-10\n",
       "9   BP          e  8.160895e-10\n",
       "10  BP          e  8.160895e-10\n",
       "11  BP          e  8.160895e-10\n",
       "12  BP          e  1.813826e-09\n",
       "13  BP          e  4.778102e-09\n",
       "14  BP          e  5.870645e-09\n",
       "15  BP          e  9.692581e-08\n",
       "16  BP          e  1.892716e-07\n",
       "17  BP          e  3.393162e-07\n",
       "18  BP          e  5.699085e-07\n",
       "19  BP          e  6.079669e-07"
      ]
     },
     "execution_count": 8,
     "metadata": {},
     "output_type": "execute_result"
    }
   ],
   "source": [
    "res.loc[res.NS=='BP',][['NS','enrichment','p_fdr_bh']].head(20)"
   ]
  },
  {
   "cell_type": "markdown",
   "metadata": {},
   "source": [
    "##### Second, Cellular Compartments "
   ]
  },
  {
   "cell_type": "code",
   "execution_count": 9,
   "metadata": {
    "scrolled": true
   },
   "outputs": [
    {
     "data": {
      "text/html": [
       "<div>\n",
       "<style scoped>\n",
       "    .dataframe tbody tr th:only-of-type {\n",
       "        vertical-align: middle;\n",
       "    }\n",
       "\n",
       "    .dataframe tbody tr th {\n",
       "        vertical-align: top;\n",
       "    }\n",
       "\n",
       "    .dataframe thead th {\n",
       "        text-align: right;\n",
       "    }\n",
       "</style>\n",
       "<table border=\"1\" class=\"dataframe\">\n",
       "  <thead>\n",
       "    <tr style=\"text-align: right;\">\n",
       "      <th></th>\n",
       "      <th>NS</th>\n",
       "      <th>name</th>\n",
       "      <th>enrichment</th>\n",
       "      <th>p_fdr_bh</th>\n",
       "    </tr>\n",
       "  </thead>\n",
       "  <tbody>\n",
       "    <tr>\n",
       "      <th>159</th>\n",
       "      <td>CC</td>\n",
       "      <td>extracellular exosome</td>\n",
       "      <td>e</td>\n",
       "      <td>5.740560e-184</td>\n",
       "    </tr>\n",
       "    <tr>\n",
       "      <th>160</th>\n",
       "      <td>CC</td>\n",
       "      <td>extracellular region</td>\n",
       "      <td>e</td>\n",
       "      <td>2.952089e-59</td>\n",
       "    </tr>\n",
       "    <tr>\n",
       "      <th>161</th>\n",
       "      <td>CC</td>\n",
       "      <td>blood microparticle</td>\n",
       "      <td>e</td>\n",
       "      <td>1.495910e-50</td>\n",
       "    </tr>\n",
       "    <tr>\n",
       "      <th>162</th>\n",
       "      <td>CC</td>\n",
       "      <td>extracellular space</td>\n",
       "      <td>e</td>\n",
       "      <td>6.863105e-46</td>\n",
       "    </tr>\n",
       "    <tr>\n",
       "      <th>163</th>\n",
       "      <td>CC</td>\n",
       "      <td>nucleosome</td>\n",
       "      <td>e</td>\n",
       "      <td>2.445595e-45</td>\n",
       "    </tr>\n",
       "    <tr>\n",
       "      <th>164</th>\n",
       "      <td>CC</td>\n",
       "      <td>membrane</td>\n",
       "      <td>e</td>\n",
       "      <td>8.343151e-41</td>\n",
       "    </tr>\n",
       "    <tr>\n",
       "      <th>165</th>\n",
       "      <td>CC</td>\n",
       "      <td>focal adhesion</td>\n",
       "      <td>e</td>\n",
       "      <td>3.648609e-38</td>\n",
       "    </tr>\n",
       "    <tr>\n",
       "      <th>166</th>\n",
       "      <td>CC</td>\n",
       "      <td>cytosolic ribosome</td>\n",
       "      <td>e</td>\n",
       "      <td>5.849687e-36</td>\n",
       "    </tr>\n",
       "    <tr>\n",
       "      <th>167</th>\n",
       "      <td>CC</td>\n",
       "      <td>collagen-containing extracellular matrix</td>\n",
       "      <td>e</td>\n",
       "      <td>1.023577e-28</td>\n",
       "    </tr>\n",
       "    <tr>\n",
       "      <th>168</th>\n",
       "      <td>CC</td>\n",
       "      <td>cytosolic large ribosomal subunit</td>\n",
       "      <td>e</td>\n",
       "      <td>3.899585e-27</td>\n",
       "    </tr>\n",
       "    <tr>\n",
       "      <th>169</th>\n",
       "      <td>CC</td>\n",
       "      <td>ficolin-1-rich granule lumen</td>\n",
       "      <td>e</td>\n",
       "      <td>1.530191e-23</td>\n",
       "    </tr>\n",
       "    <tr>\n",
       "      <th>170</th>\n",
       "      <td>CC</td>\n",
       "      <td>cytosol</td>\n",
       "      <td>e</td>\n",
       "      <td>9.129472e-21</td>\n",
       "    </tr>\n",
       "    <tr>\n",
       "      <th>171</th>\n",
       "      <td>CC</td>\n",
       "      <td>secretory granule lumen</td>\n",
       "      <td>e</td>\n",
       "      <td>6.535960e-20</td>\n",
       "    </tr>\n",
       "    <tr>\n",
       "      <th>172</th>\n",
       "      <td>CC</td>\n",
       "      <td>endoplasmic reticulum lumen</td>\n",
       "      <td>e</td>\n",
       "      <td>2.159670e-17</td>\n",
       "    </tr>\n",
       "    <tr>\n",
       "      <th>173</th>\n",
       "      <td>CC</td>\n",
       "      <td>integral component of lumenal side of endoplas...</td>\n",
       "      <td>e</td>\n",
       "      <td>4.276512e-17</td>\n",
       "    </tr>\n",
       "    <tr>\n",
       "      <th>174</th>\n",
       "      <td>CC</td>\n",
       "      <td>cytosolic small ribosomal subunit</td>\n",
       "      <td>e</td>\n",
       "      <td>2.099897e-15</td>\n",
       "    </tr>\n",
       "    <tr>\n",
       "      <th>175</th>\n",
       "      <td>CC</td>\n",
       "      <td>cell surface</td>\n",
       "      <td>e</td>\n",
       "      <td>1.307341e-14</td>\n",
       "    </tr>\n",
       "    <tr>\n",
       "      <th>176</th>\n",
       "      <td>CC</td>\n",
       "      <td>lysosome</td>\n",
       "      <td>e</td>\n",
       "      <td>3.295955e-14</td>\n",
       "    </tr>\n",
       "    <tr>\n",
       "      <th>177</th>\n",
       "      <td>CC</td>\n",
       "      <td>lysosomal lumen</td>\n",
       "      <td>e</td>\n",
       "      <td>3.988620e-14</td>\n",
       "    </tr>\n",
       "    <tr>\n",
       "      <th>178</th>\n",
       "      <td>CC</td>\n",
       "      <td>plasma membrane</td>\n",
       "      <td>e</td>\n",
       "      <td>8.110420e-14</td>\n",
       "    </tr>\n",
       "  </tbody>\n",
       "</table>\n",
       "</div>"
      ],
      "text/plain": [
       "     NS                                               name enrichment  \\\n",
       "159  CC                              extracellular exosome          e   \n",
       "160  CC                               extracellular region          e   \n",
       "161  CC                                blood microparticle          e   \n",
       "162  CC                                extracellular space          e   \n",
       "163  CC                                         nucleosome          e   \n",
       "164  CC                                           membrane          e   \n",
       "165  CC                                     focal adhesion          e   \n",
       "166  CC                                 cytosolic ribosome          e   \n",
       "167  CC           collagen-containing extracellular matrix          e   \n",
       "168  CC                  cytosolic large ribosomal subunit          e   \n",
       "169  CC                       ficolin-1-rich granule lumen          e   \n",
       "170  CC                                            cytosol          e   \n",
       "171  CC                            secretory granule lumen          e   \n",
       "172  CC                        endoplasmic reticulum lumen          e   \n",
       "173  CC  integral component of lumenal side of endoplas...          e   \n",
       "174  CC                  cytosolic small ribosomal subunit          e   \n",
       "175  CC                                       cell surface          e   \n",
       "176  CC                                           lysosome          e   \n",
       "177  CC                                    lysosomal lumen          e   \n",
       "178  CC                                    plasma membrane          e   \n",
       "\n",
       "          p_fdr_bh  \n",
       "159  5.740560e-184  \n",
       "160   2.952089e-59  \n",
       "161   1.495910e-50  \n",
       "162   6.863105e-46  \n",
       "163   2.445595e-45  \n",
       "164   8.343151e-41  \n",
       "165   3.648609e-38  \n",
       "166   5.849687e-36  \n",
       "167   1.023577e-28  \n",
       "168   3.899585e-27  \n",
       "169   1.530191e-23  \n",
       "170   9.129472e-21  \n",
       "171   6.535960e-20  \n",
       "172   2.159670e-17  \n",
       "173   4.276512e-17  \n",
       "174   2.099897e-15  \n",
       "175   1.307341e-14  \n",
       "176   3.295955e-14  \n",
       "177   3.988620e-14  \n",
       "178   8.110420e-14  "
      ]
     },
     "execution_count": 9,
     "metadata": {},
     "output_type": "execute_result"
    }
   ],
   "source": [
    "res.loc[res.NS=='CC',][['NS','name','enrichment','p_fdr_bh']].head(20)"
   ]
  },
  {
   "cell_type": "markdown",
   "metadata": {},
   "source": [
    "### Finally, Let's plot the results"
   ]
  },
  {
   "cell_type": "markdown",
   "metadata": {},
   "source": [
    "##### First, Let's plot biological processes"
   ]
  },
  {
   "cell_type": "code",
   "execution_count": 11,
   "metadata": {},
   "outputs": [
    {
     "data": {
      "application/vnd.plotly.v1+json": {
       "config": {
        "plotlyServerURL": "https://plot.ly"
       },
       "data": [
        {
         "hovertemplate": "-log10(p-val)=%{x}<br>=%{y}<br>study_count=%{marker.size}<extra></extra>",
         "legendgroup": "",
         "marker": {
          "color": "#636efa",
          "size": [
           46,
           42,
           51,
           37,
           18,
           17,
           48,
           18,
           12,
           10,
           12,
           22,
           54,
           12,
           17,
           13,
           56,
           20,
           10,
           13,
           12,
           10,
           14,
           11,
           20,
           7,
           10,
           22,
           48,
           8,
           17,
           7,
           24,
           19,
           9,
           9,
           10,
           12,
           10,
           27,
           8,
           22,
           6,
           6,
           9,
           23,
           10,
           9,
           5,
           10,
           17,
           43,
           20,
           25,
           11,
           6,
           15,
           5,
           4,
           4,
           4,
           46,
           13,
           16,
           6,
           24,
           7,
           5,
           16,
           6,
           6,
           15,
           25,
           8,
           18,
           13,
           4,
           4,
           6,
           5,
           11,
           15,
           9,
           6,
           6,
           9,
           20,
           19,
           5,
           7,
           10,
           16,
           4,
           4,
           20,
           5,
           9,
           14,
           19,
           11,
           3,
           3,
           13,
           25,
           8,
           6,
           5,
           12,
           12,
           8,
           7,
           10,
           12,
           5,
           5,
           5,
           8,
           6,
           6,
           6,
           6,
           6,
           9,
           4,
           4,
           4,
           4,
           4,
           13,
           9,
           5,
           6,
           28,
           11,
           8,
           12,
           3,
           3,
           3,
           3,
           3,
           21,
           12,
           5,
           5,
           5,
           5,
           5,
           41,
           10,
           4,
           4,
           4,
           7,
           7,
           27,
           11,
           28,
           3
          ],
          "sizemode": "area",
          "sizeref": 0.14,
          "symbol": "circle"
         },
         "mode": "markers",
         "name": "",
         "orientation": "h",
         "showlegend": false,
         "type": "scatter",
         "x": [
          33.326183804616896,
          22.606166518455538,
          20.311028846049293,
          13.16424700036963,
          12.681039860805557,
          10.103525553741754,
          9.887151551956675,
          9.512611179480212,
          9.512611179480212,
          9.088262199699713,
          9.088262199699713,
          9.088262199699713,
          8.741404379482846,
          8.32074462478251,
          8.231314188712533,
          7.013560569909786,
          6.722914635667441,
          6.469395361204219,
          6.244194853231447,
          6.216120077440496,
          6.13501976199541,
          5.971925197456635,
          5.294498615619565,
          5.0111897013729765,
          4.765824815200709,
          4.544007188899495,
          4.521022564302105,
          4.469013474439947,
          4.329245121458127,
          4.272074693885933,
          4.272074693885933,
          4.2125880466256875,
          4.2125880466256875,
          4.182915942271709,
          4.104931144718997,
          4.104931144718997,
          4.077506878092943,
          3.998123768333203,
          3.927041695627749,
          3.9013917775836284,
          3.862961447878327,
          3.842044021792987,
          3.6082171742671605,
          3.6082171742671605,
          3.6082171742671605,
          3.551181611814374,
          3.5347321119632107,
          3.460794134929317,
          3.4360306252571053,
          3.417447770035342,
          3.407276547025901,
          3.245693771155391,
          3.02875279990963,
          3.02875279990963,
          3.0251003207579155,
          2.9991203624804075,
          2.9991203624804075,
          2.9815388098756586,
          2.9712367111819513,
          2.9712367111819513,
          2.9712367111819513,
          2.9076392357350365,
          2.9057159200780864,
          2.7895902790857643,
          2.786029293720405,
          2.705369210192337,
          2.6759135595415615,
          2.647489421666062,
          2.5810808683616746,
          2.5725484133054275,
          2.5725484133054275,
          2.511013017351727,
          2.4992502618903525,
          2.481116394016768,
          2.4027796332429205,
          2.3999748175277493,
          2.3999748175277493,
          2.3999748175277493,
          2.3927723066572413,
          2.381674943479006,
          2.3474011959343652,
          2.2723495816566373,
          2.2444331799705752,
          2.2200408428970255,
          2.2200408428970255,
          2.157300378458075,
          2.145450580731909,
          2.145450580731909,
          2.145450580731909,
          2.145450580731909,
          2.0595981304226485,
          2.0190164801520556,
          2.0190164801520556,
          2.0190164801520556,
          1.9407990434201656,
          1.9300561922847042,
          1.9229081833165613,
          1.9156996734471476,
          1.9049129724984823,
          1.9049129724984823,
          1.8776646485511506,
          1.8776646485511506,
          1.8334354302429976,
          1.8130307680173958,
          1.81140391582505,
          1.7988252228840647,
          1.7614373185815095,
          1.7614373185815095,
          1.7614373185815095,
          1.7333258101414968,
          1.721942859201116,
          1.6859533183618416,
          1.6038000783712638,
          1.6009294391214142,
          1.6009294391214142,
          1.6009294391214142,
          1.5751229135386058,
          1.5751229135386058,
          1.5751229135386058,
          1.5751229135386058,
          1.5751229135386058,
          1.5751229135386058,
          1.5316666554739502,
          1.5155597431586005,
          1.5155597431586005,
          1.5155597431586005,
          1.5155597431586005,
          1.5155597431586005,
          1.5101763030921482,
          1.4817623606880166,
          1.4806576605311779,
          1.4806576605311779,
          1.4752362615491754,
          1.4647659867565457,
          1.4647659867565457,
          1.4298506893568588,
          1.4298506893568588,
          1.4298506893568588,
          1.4298506893568588,
          1.4298506893568588,
          1.4298506893568588,
          1.4157523892204855,
          1.386832141232828,
          1.3722277214653487,
          1.3722277214653487,
          1.3722277214653487,
          1.3722277214653487,
          1.3722277214653487,
          1.3570595147198952,
          1.3559070838908405,
          1.3544745346324187,
          1.3544745346324187,
          1.3544745346324187,
          1.3544745346324187,
          1.3544745346324187,
          1.34058053330846,
          1.3119752827870301,
          7.659608059794387,
          2.805194732896677
         ],
         "xaxis": "x",
         "y": [
          "cytoplasmic translation",
          "nucleosome assembly",
          "translation",
          "negative regulation of endopeptidase activity",
          "antigen processing and presentation of exogenous peptide antigen via MHC class II",
          "complement activation, classical pathway",
          "immune response",
          "chromatin silencing",
          "peptide antigen assembly with MHC class II protein complex",
          "regulation of gene silencing",
          "immunoglobulin production involved in immunoglobulin-mediated immune response",
          "antimicrobial humoral immune response mediated by antimicrobial peptide",
          "inflammatory response",
          "fibrinolysis",
          "platelet aggregation",
          "hydrogen peroxide catabolic process",
          "innate immune response",
          "neutrophil chemotaxis",
          "complement activation",
          "positive regulation of T cell activation",
          "telomere organization",
          "protein refolding",
          "antibacterial humoral response",
          "innate immune response in mucosa",
          "positive regulation of tumor necrosis factor production",
          "negative regulation of fibrinolysis",
          "positive regulation of T cell mediated cytotoxicity",
          "microtubule cytoskeleton organization",
          "positive regulation of gene expression",
          "complement activation, alternative pathway",
          "cellular oxidant detoxification",
          "protein folding in endoplasmic reticulum",
          "regulation of cell shape",
          "defense response to Gram-positive bacterium",
          "positive regulation of receptor-mediated endocytosis",
          "zymogen activation",
          "microglial cell activation",
          "positive regulation of substrate adhesion-dependent cell spreading",
          "leukocyte cell-cell adhesion",
          "adaptive immune response",
          "post-Golgi vesicle-mediated transport",
          "protein folding",
          "very-low-density lipoprotein particle remodeling",
          "positive regulation of cholesterol esterification",
          "antigen processing and presentation",
          "positive regulation of NF-kappaB transcription factor activity",
          "chaperone cofactor-dependent protein refolding",
          "cellular response to unfolded protein",
          "protection from natural killer cell mediated cytotoxicity",
          "DNA replication-dependent nucleosome assembly",
          "cellular response to interferon-gamma",
          "proteolysis",
          "mitotic cell cycle",
          "positive regulation of protein phosphorylation",
          "negative regulation of cell adhesion",
          "plasminogen activation",
          "blood coagulation",
          "antigen processing and presentation of endogenous peptide antigen via MHC class I via ER pathway, TAP-independent",
          "lipoprotein catabolic process",
          "actin filament fragmentation",
          "lipoprotein biosynthetic process",
          "negative regulation of apoptotic process",
          "positive regulation of interleukin-8 production",
          "cell-matrix adhesion",
          "actin filament depolymerization",
          "protein stabilization",
          "iron ion transport",
          "positive regulation of protein localization to early endosome",
          "viral entry into host cell",
          "negative regulation of chromatin silencing",
          "negative regulation of blood coagulation",
          "positive regulation of inflammatory response",
          "positive regulation of ERK1 and ERK2 cascade",
          "phagocytosis, engulfment",
          "defense response to bacterium",
          "receptor-mediated endocytosis",
          "mesenchyme migration",
          "CRD-mediated mRNA stabilization",
          "ruffle organization",
          "complement activation, lectin pathway",
          "response to hydrogen peroxide",
          "integrin-mediated signaling pathway",
          "lipopolysaccharide-mediated signaling pathway",
          "negative regulation of DNA recombination",
          "nucleosome positioning",
          "retina homeostasis",
          "protein localization to plasma membrane",
          "response to lipopolysaccharide",
          "positive regulation of establishment of protein localization to telomere",
          "positive regulation of endocytosis",
          "cellular response to heat",
          "response to virus",
          "purine ribonucleoside salvage",
          "blood coagulation, fibrin clot formation",
          "vesicle-mediated transport",
          "positive regulation of protein localization to Cajal body",
          "toxin transport",
          "positive regulation of interleukin-6 production",
          "cell-cell adhesion",
          "actin cytoskeleton reorganization",
          "myeloid dendritic cell antigen processing and presentation",
          "response to caloric restriction",
          "cellular response to mechanical stimulus",
          "positive regulation of cell migration",
          "triglyceride metabolic process",
          "protein targeting to lysosome",
          "phospholipid efflux",
          "positive regulation of protein catabolic process",
          "positive regulation of translation",
          "semaphorin-plexin signaling pathway",
          "positive regulation of extrinsic apoptotic signaling pathway",
          "response to unfolded protein",
          "negative regulation of translation",
          "cellular response to interleukin-7",
          "actin filament severing",
          "plasma membrane repair",
          "cell motility",
          "DNA metabolic process",
          "membrane protein ectodomain proteolysis",
          "chromosome condensation",
          "toll-like receptor signaling pathway",
          "positive regulation of superoxide anion generation",
          "cellular response to virus",
          "positive regulation of actin filament depolymerization",
          "positive regulation of early endosome to late endosome transport",
          "negative regulation of microglial cell activation",
          "neutrophil activation involved in immune response",
          "modification-dependent protein catabolic process",
          "negative regulation of angiogenesis",
          "positive regulation of protein secretion",
          "positive regulation of cellular protein catabolic process",
          "leukocyte migration",
          "response to drug",
          "positive regulation of NIK/NF-kappaB signaling",
          "acute-phase response",
          "positive regulation of cell growth",
          "positive regulation of T cell mediated immune response to tumor cell",
          "positive regulation of amyloid fibril formation",
          "regulation of organelle assembly",
          "positive regulation of CD4-positive, alpha-beta T cell activation",
          "regulation of transepithelial transport",
          "endocytosis",
          "defense response to Gram-negative bacterium",
          "positive regulation of telomerase RNA localization to Cajal body",
          "immunoglobulin mediated immune response",
          "positive regulation of T cell migration",
          "positive regulation of blood coagulation",
          "positive regulation of T cell chemotaxis",
          "cell adhesion",
          "negative regulation of tumor necrosis factor production",
          "negative regulation of CD4-positive, alpha-beta T cell proliferation",
          "positive regulation of lipoprotein lipase activity",
          "chronic inflammatory response",
          "mRNA stabilization",
          "maintenance of blood-brain barrier",
          "intracellular protein transport",
          "defense response",
          "regulation of transcription by RNA polymerase II",
          "detection of chemical stimulus involved in sensory perception of smell"
         ],
         "yaxis": "y"
        }
       ],
       "layout": {
        "legend": {
         "itemsizing": "constant",
         "tracegroupgap": 0
        },
        "margin": {
         "t": 60
        },
        "template": {
         "data": {
          "bar": [
           {
            "error_x": {
             "color": "#2a3f5f"
            },
            "error_y": {
             "color": "#2a3f5f"
            },
            "marker": {
             "line": {
              "color": "white",
              "width": 0.5
             },
             "pattern": {
              "fillmode": "overlay",
              "size": 10,
              "solidity": 0.2
             }
            },
            "type": "bar"
           }
          ],
          "barpolar": [
           {
            "marker": {
             "line": {
              "color": "white",
              "width": 0.5
             },
             "pattern": {
              "fillmode": "overlay",
              "size": 10,
              "solidity": 0.2
             }
            },
            "type": "barpolar"
           }
          ],
          "carpet": [
           {
            "aaxis": {
             "endlinecolor": "#2a3f5f",
             "gridcolor": "#C8D4E3",
             "linecolor": "#C8D4E3",
             "minorgridcolor": "#C8D4E3",
             "startlinecolor": "#2a3f5f"
            },
            "baxis": {
             "endlinecolor": "#2a3f5f",
             "gridcolor": "#C8D4E3",
             "linecolor": "#C8D4E3",
             "minorgridcolor": "#C8D4E3",
             "startlinecolor": "#2a3f5f"
            },
            "type": "carpet"
           }
          ],
          "choropleth": [
           {
            "colorbar": {
             "outlinewidth": 0,
             "ticks": ""
            },
            "type": "choropleth"
           }
          ],
          "contour": [
           {
            "colorbar": {
             "outlinewidth": 0,
             "ticks": ""
            },
            "colorscale": [
             [
              0,
              "#0d0887"
             ],
             [
              0.1111111111111111,
              "#46039f"
             ],
             [
              0.2222222222222222,
              "#7201a8"
             ],
             [
              0.3333333333333333,
              "#9c179e"
             ],
             [
              0.4444444444444444,
              "#bd3786"
             ],
             [
              0.5555555555555556,
              "#d8576b"
             ],
             [
              0.6666666666666666,
              "#ed7953"
             ],
             [
              0.7777777777777778,
              "#fb9f3a"
             ],
             [
              0.8888888888888888,
              "#fdca26"
             ],
             [
              1,
              "#f0f921"
             ]
            ],
            "type": "contour"
           }
          ],
          "contourcarpet": [
           {
            "colorbar": {
             "outlinewidth": 0,
             "ticks": ""
            },
            "type": "contourcarpet"
           }
          ],
          "heatmap": [
           {
            "colorbar": {
             "outlinewidth": 0,
             "ticks": ""
            },
            "colorscale": [
             [
              0,
              "#0d0887"
             ],
             [
              0.1111111111111111,
              "#46039f"
             ],
             [
              0.2222222222222222,
              "#7201a8"
             ],
             [
              0.3333333333333333,
              "#9c179e"
             ],
             [
              0.4444444444444444,
              "#bd3786"
             ],
             [
              0.5555555555555556,
              "#d8576b"
             ],
             [
              0.6666666666666666,
              "#ed7953"
             ],
             [
              0.7777777777777778,
              "#fb9f3a"
             ],
             [
              0.8888888888888888,
              "#fdca26"
             ],
             [
              1,
              "#f0f921"
             ]
            ],
            "type": "heatmap"
           }
          ],
          "heatmapgl": [
           {
            "colorbar": {
             "outlinewidth": 0,
             "ticks": ""
            },
            "colorscale": [
             [
              0,
              "#0d0887"
             ],
             [
              0.1111111111111111,
              "#46039f"
             ],
             [
              0.2222222222222222,
              "#7201a8"
             ],
             [
              0.3333333333333333,
              "#9c179e"
             ],
             [
              0.4444444444444444,
              "#bd3786"
             ],
             [
              0.5555555555555556,
              "#d8576b"
             ],
             [
              0.6666666666666666,
              "#ed7953"
             ],
             [
              0.7777777777777778,
              "#fb9f3a"
             ],
             [
              0.8888888888888888,
              "#fdca26"
             ],
             [
              1,
              "#f0f921"
             ]
            ],
            "type": "heatmapgl"
           }
          ],
          "histogram": [
           {
            "marker": {
             "pattern": {
              "fillmode": "overlay",
              "size": 10,
              "solidity": 0.2
             }
            },
            "type": "histogram"
           }
          ],
          "histogram2d": [
           {
            "colorbar": {
             "outlinewidth": 0,
             "ticks": ""
            },
            "colorscale": [
             [
              0,
              "#0d0887"
             ],
             [
              0.1111111111111111,
              "#46039f"
             ],
             [
              0.2222222222222222,
              "#7201a8"
             ],
             [
              0.3333333333333333,
              "#9c179e"
             ],
             [
              0.4444444444444444,
              "#bd3786"
             ],
             [
              0.5555555555555556,
              "#d8576b"
             ],
             [
              0.6666666666666666,
              "#ed7953"
             ],
             [
              0.7777777777777778,
              "#fb9f3a"
             ],
             [
              0.8888888888888888,
              "#fdca26"
             ],
             [
              1,
              "#f0f921"
             ]
            ],
            "type": "histogram2d"
           }
          ],
          "histogram2dcontour": [
           {
            "colorbar": {
             "outlinewidth": 0,
             "ticks": ""
            },
            "colorscale": [
             [
              0,
              "#0d0887"
             ],
             [
              0.1111111111111111,
              "#46039f"
             ],
             [
              0.2222222222222222,
              "#7201a8"
             ],
             [
              0.3333333333333333,
              "#9c179e"
             ],
             [
              0.4444444444444444,
              "#bd3786"
             ],
             [
              0.5555555555555556,
              "#d8576b"
             ],
             [
              0.6666666666666666,
              "#ed7953"
             ],
             [
              0.7777777777777778,
              "#fb9f3a"
             ],
             [
              0.8888888888888888,
              "#fdca26"
             ],
             [
              1,
              "#f0f921"
             ]
            ],
            "type": "histogram2dcontour"
           }
          ],
          "mesh3d": [
           {
            "colorbar": {
             "outlinewidth": 0,
             "ticks": ""
            },
            "type": "mesh3d"
           }
          ],
          "parcoords": [
           {
            "line": {
             "colorbar": {
              "outlinewidth": 0,
              "ticks": ""
             }
            },
            "type": "parcoords"
           }
          ],
          "pie": [
           {
            "automargin": true,
            "type": "pie"
           }
          ],
          "scatter": [
           {
            "marker": {
             "colorbar": {
              "outlinewidth": 0,
              "ticks": ""
             }
            },
            "type": "scatter"
           }
          ],
          "scatter3d": [
           {
            "line": {
             "colorbar": {
              "outlinewidth": 0,
              "ticks": ""
             }
            },
            "marker": {
             "colorbar": {
              "outlinewidth": 0,
              "ticks": ""
             }
            },
            "type": "scatter3d"
           }
          ],
          "scattercarpet": [
           {
            "marker": {
             "colorbar": {
              "outlinewidth": 0,
              "ticks": ""
             }
            },
            "type": "scattercarpet"
           }
          ],
          "scattergeo": [
           {
            "marker": {
             "colorbar": {
              "outlinewidth": 0,
              "ticks": ""
             }
            },
            "type": "scattergeo"
           }
          ],
          "scattergl": [
           {
            "marker": {
             "colorbar": {
              "outlinewidth": 0,
              "ticks": ""
             }
            },
            "type": "scattergl"
           }
          ],
          "scattermapbox": [
           {
            "marker": {
             "colorbar": {
              "outlinewidth": 0,
              "ticks": ""
             }
            },
            "type": "scattermapbox"
           }
          ],
          "scatterpolar": [
           {
            "marker": {
             "colorbar": {
              "outlinewidth": 0,
              "ticks": ""
             }
            },
            "type": "scatterpolar"
           }
          ],
          "scatterpolargl": [
           {
            "marker": {
             "colorbar": {
              "outlinewidth": 0,
              "ticks": ""
             }
            },
            "type": "scatterpolargl"
           }
          ],
          "scatterternary": [
           {
            "marker": {
             "colorbar": {
              "outlinewidth": 0,
              "ticks": ""
             }
            },
            "type": "scatterternary"
           }
          ],
          "surface": [
           {
            "colorbar": {
             "outlinewidth": 0,
             "ticks": ""
            },
            "colorscale": [
             [
              0,
              "#0d0887"
             ],
             [
              0.1111111111111111,
              "#46039f"
             ],
             [
              0.2222222222222222,
              "#7201a8"
             ],
             [
              0.3333333333333333,
              "#9c179e"
             ],
             [
              0.4444444444444444,
              "#bd3786"
             ],
             [
              0.5555555555555556,
              "#d8576b"
             ],
             [
              0.6666666666666666,
              "#ed7953"
             ],
             [
              0.7777777777777778,
              "#fb9f3a"
             ],
             [
              0.8888888888888888,
              "#fdca26"
             ],
             [
              1,
              "#f0f921"
             ]
            ],
            "type": "surface"
           }
          ],
          "table": [
           {
            "cells": {
             "fill": {
              "color": "#EBF0F8"
             },
             "line": {
              "color": "white"
             }
            },
            "header": {
             "fill": {
              "color": "#C8D4E3"
             },
             "line": {
              "color": "white"
             }
            },
            "type": "table"
           }
          ]
         },
         "layout": {
          "annotationdefaults": {
           "arrowcolor": "#2a3f5f",
           "arrowhead": 0,
           "arrowwidth": 1
          },
          "autotypenumbers": "strict",
          "coloraxis": {
           "colorbar": {
            "outlinewidth": 0,
            "ticks": ""
           }
          },
          "colorscale": {
           "diverging": [
            [
             0,
             "#8e0152"
            ],
            [
             0.1,
             "#c51b7d"
            ],
            [
             0.2,
             "#de77ae"
            ],
            [
             0.3,
             "#f1b6da"
            ],
            [
             0.4,
             "#fde0ef"
            ],
            [
             0.5,
             "#f7f7f7"
            ],
            [
             0.6,
             "#e6f5d0"
            ],
            [
             0.7,
             "#b8e186"
            ],
            [
             0.8,
             "#7fbc41"
            ],
            [
             0.9,
             "#4d9221"
            ],
            [
             1,
             "#276419"
            ]
           ],
           "sequential": [
            [
             0,
             "#0d0887"
            ],
            [
             0.1111111111111111,
             "#46039f"
            ],
            [
             0.2222222222222222,
             "#7201a8"
            ],
            [
             0.3333333333333333,
             "#9c179e"
            ],
            [
             0.4444444444444444,
             "#bd3786"
            ],
            [
             0.5555555555555556,
             "#d8576b"
            ],
            [
             0.6666666666666666,
             "#ed7953"
            ],
            [
             0.7777777777777778,
             "#fb9f3a"
            ],
            [
             0.8888888888888888,
             "#fdca26"
            ],
            [
             1,
             "#f0f921"
            ]
           ],
           "sequentialminus": [
            [
             0,
             "#0d0887"
            ],
            [
             0.1111111111111111,
             "#46039f"
            ],
            [
             0.2222222222222222,
             "#7201a8"
            ],
            [
             0.3333333333333333,
             "#9c179e"
            ],
            [
             0.4444444444444444,
             "#bd3786"
            ],
            [
             0.5555555555555556,
             "#d8576b"
            ],
            [
             0.6666666666666666,
             "#ed7953"
            ],
            [
             0.7777777777777778,
             "#fb9f3a"
            ],
            [
             0.8888888888888888,
             "#fdca26"
            ],
            [
             1,
             "#f0f921"
            ]
           ]
          },
          "colorway": [
           "#636efa",
           "#EF553B",
           "#00cc96",
           "#ab63fa",
           "#FFA15A",
           "#19d3f3",
           "#FF6692",
           "#B6E880",
           "#FF97FF",
           "#FECB52"
          ],
          "font": {
           "color": "#2a3f5f"
          },
          "geo": {
           "bgcolor": "white",
           "lakecolor": "white",
           "landcolor": "white",
           "showlakes": true,
           "showland": true,
           "subunitcolor": "#C8D4E3"
          },
          "hoverlabel": {
           "align": "left"
          },
          "hovermode": "closest",
          "mapbox": {
           "style": "light"
          },
          "paper_bgcolor": "white",
          "plot_bgcolor": "white",
          "polar": {
           "angularaxis": {
            "gridcolor": "#EBF0F8",
            "linecolor": "#EBF0F8",
            "ticks": ""
           },
           "bgcolor": "white",
           "radialaxis": {
            "gridcolor": "#EBF0F8",
            "linecolor": "#EBF0F8",
            "ticks": ""
           }
          },
          "scene": {
           "xaxis": {
            "backgroundcolor": "white",
            "gridcolor": "#DFE8F3",
            "gridwidth": 2,
            "linecolor": "#EBF0F8",
            "showbackground": true,
            "ticks": "",
            "zerolinecolor": "#EBF0F8"
           },
           "yaxis": {
            "backgroundcolor": "white",
            "gridcolor": "#DFE8F3",
            "gridwidth": 2,
            "linecolor": "#EBF0F8",
            "showbackground": true,
            "ticks": "",
            "zerolinecolor": "#EBF0F8"
           },
           "zaxis": {
            "backgroundcolor": "white",
            "gridcolor": "#DFE8F3",
            "gridwidth": 2,
            "linecolor": "#EBF0F8",
            "showbackground": true,
            "ticks": "",
            "zerolinecolor": "#EBF0F8"
           }
          },
          "shapedefaults": {
           "line": {
            "color": "#2a3f5f"
           }
          },
          "ternary": {
           "aaxis": {
            "gridcolor": "#DFE8F3",
            "linecolor": "#A2B1C6",
            "ticks": ""
           },
           "baxis": {
            "gridcolor": "#DFE8F3",
            "linecolor": "#A2B1C6",
            "ticks": ""
           },
           "bgcolor": "white",
           "caxis": {
            "gridcolor": "#DFE8F3",
            "linecolor": "#A2B1C6",
            "ticks": ""
           }
          },
          "title": {
           "x": 0.05
          },
          "xaxis": {
           "automargin": true,
           "gridcolor": "#EBF0F8",
           "linecolor": "#EBF0F8",
           "ticks": "",
           "title": {
            "standoff": 15
           },
           "zerolinecolor": "#EBF0F8",
           "zerolinewidth": 2
          },
          "yaxis": {
           "automargin": true,
           "gridcolor": "#EBF0F8",
           "linecolor": "#EBF0F8",
           "ticks": "",
           "title": {
            "standoff": 15
           },
           "zerolinecolor": "#EBF0F8",
           "zerolinewidth": 2
          }
         }
        },
        "xaxis": {
         "anchor": "y",
         "domain": [
          0,
          1
         ],
         "title": {
          "text": "-log10(p-val)"
         }
        },
        "yaxis": {
         "anchor": "x",
         "domain": [
          0,
          1
         ],
         "title": {
          "text": ""
         }
        }
       }
      },
      "text/html": [
       "<div>                            <div id=\"bfd20ffc-8128-4c9e-8a14-9e31a17b0de6\" class=\"plotly-graph-div\" style=\"height:525px; width:100%;\"></div>            <script type=\"text/javascript\">                require([\"plotly\"], function(Plotly) {                    window.PLOTLYENV=window.PLOTLYENV || {};                                    if (document.getElementById(\"bfd20ffc-8128-4c9e-8a14-9e31a17b0de6\")) {                    Plotly.newPlot(                        \"bfd20ffc-8128-4c9e-8a14-9e31a17b0de6\",                        [{\"hovertemplate\":\"-log10(p-val)=%{x}<br>=%{y}<br>study_count=%{marker.size}<extra></extra>\",\"legendgroup\":\"\",\"marker\":{\"color\":\"#636efa\",\"size\":[46,42,51,37,18,17,48,18,12,10,12,22,54,12,17,13,56,20,10,13,12,10,14,11,20,7,10,22,48,8,17,7,24,19,9,9,10,12,10,27,8,22,6,6,9,23,10,9,5,10,17,43,20,25,11,6,15,5,4,4,4,46,13,16,6,24,7,5,16,6,6,15,25,8,18,13,4,4,6,5,11,15,9,6,6,9,20,19,5,7,10,16,4,4,20,5,9,14,19,11,3,3,13,25,8,6,5,12,12,8,7,10,12,5,5,5,8,6,6,6,6,6,9,4,4,4,4,4,13,9,5,6,28,11,8,12,3,3,3,3,3,21,12,5,5,5,5,5,41,10,4,4,4,7,7,27,11,28,3],\"sizemode\":\"area\",\"sizeref\":0.14,\"symbol\":\"circle\"},\"mode\":\"markers\",\"name\":\"\",\"orientation\":\"h\",\"showlegend\":false,\"type\":\"scatter\",\"x\":[33.326183804616896,22.606166518455538,20.311028846049293,13.16424700036963,12.681039860805557,10.103525553741754,9.887151551956675,9.512611179480212,9.512611179480212,9.088262199699713,9.088262199699713,9.088262199699713,8.741404379482846,8.32074462478251,8.231314188712533,7.013560569909786,6.722914635667441,6.469395361204219,6.244194853231447,6.216120077440496,6.13501976199541,5.971925197456635,5.294498615619565,5.0111897013729765,4.765824815200709,4.544007188899495,4.521022564302105,4.469013474439947,4.329245121458127,4.272074693885933,4.272074693885933,4.2125880466256875,4.2125880466256875,4.182915942271709,4.104931144718997,4.104931144718997,4.077506878092943,3.998123768333203,3.927041695627749,3.9013917775836284,3.862961447878327,3.842044021792987,3.6082171742671605,3.6082171742671605,3.6082171742671605,3.551181611814374,3.5347321119632107,3.460794134929317,3.4360306252571053,3.417447770035342,3.407276547025901,3.245693771155391,3.02875279990963,3.02875279990963,3.0251003207579155,2.9991203624804075,2.9991203624804075,2.9815388098756586,2.9712367111819513,2.9712367111819513,2.9712367111819513,2.9076392357350365,2.9057159200780864,2.7895902790857643,2.786029293720405,2.705369210192337,2.6759135595415615,2.647489421666062,2.5810808683616746,2.5725484133054275,2.5725484133054275,2.511013017351727,2.4992502618903525,2.481116394016768,2.4027796332429205,2.3999748175277493,2.3999748175277493,2.3999748175277493,2.3927723066572413,2.381674943479006,2.3474011959343652,2.2723495816566373,2.2444331799705752,2.2200408428970255,2.2200408428970255,2.157300378458075,2.145450580731909,2.145450580731909,2.145450580731909,2.145450580731909,2.0595981304226485,2.0190164801520556,2.0190164801520556,2.0190164801520556,1.9407990434201656,1.9300561922847042,1.9229081833165613,1.9156996734471476,1.9049129724984823,1.9049129724984823,1.8776646485511506,1.8776646485511506,1.8334354302429976,1.8130307680173958,1.81140391582505,1.7988252228840647,1.7614373185815095,1.7614373185815095,1.7614373185815095,1.7333258101414968,1.721942859201116,1.6859533183618416,1.6038000783712638,1.6009294391214142,1.6009294391214142,1.6009294391214142,1.5751229135386058,1.5751229135386058,1.5751229135386058,1.5751229135386058,1.5751229135386058,1.5751229135386058,1.5316666554739502,1.5155597431586005,1.5155597431586005,1.5155597431586005,1.5155597431586005,1.5155597431586005,1.5101763030921482,1.4817623606880166,1.4806576605311779,1.4806576605311779,1.4752362615491754,1.4647659867565457,1.4647659867565457,1.4298506893568588,1.4298506893568588,1.4298506893568588,1.4298506893568588,1.4298506893568588,1.4298506893568588,1.4157523892204855,1.386832141232828,1.3722277214653487,1.3722277214653487,1.3722277214653487,1.3722277214653487,1.3722277214653487,1.3570595147198952,1.3559070838908405,1.3544745346324187,1.3544745346324187,1.3544745346324187,1.3544745346324187,1.3544745346324187,1.34058053330846,1.3119752827870301,7.659608059794387,2.805194732896677],\"xaxis\":\"x\",\"y\":[\"cytoplasmic translation\",\"nucleosome assembly\",\"translation\",\"negative regulation of endopeptidase activity\",\"antigen processing and presentation of exogenous peptide antigen via MHC class II\",\"complement activation, classical pathway\",\"immune response\",\"chromatin silencing\",\"peptide antigen assembly with MHC class II protein complex\",\"regulation of gene silencing\",\"immunoglobulin production involved in immunoglobulin-mediated immune response\",\"antimicrobial humoral immune response mediated by antimicrobial peptide\",\"inflammatory response\",\"fibrinolysis\",\"platelet aggregation\",\"hydrogen peroxide catabolic process\",\"innate immune response\",\"neutrophil chemotaxis\",\"complement activation\",\"positive regulation of T cell activation\",\"telomere organization\",\"protein refolding\",\"antibacterial humoral response\",\"innate immune response in mucosa\",\"positive regulation of tumor necrosis factor production\",\"negative regulation of fibrinolysis\",\"positive regulation of T cell mediated cytotoxicity\",\"microtubule cytoskeleton organization\",\"positive regulation of gene expression\",\"complement activation, alternative pathway\",\"cellular oxidant detoxification\",\"protein folding in endoplasmic reticulum\",\"regulation of cell shape\",\"defense response to Gram-positive bacterium\",\"positive regulation of receptor-mediated endocytosis\",\"zymogen activation\",\"microglial cell activation\",\"positive regulation of substrate adhesion-dependent cell spreading\",\"leukocyte cell-cell adhesion\",\"adaptive immune response\",\"post-Golgi vesicle-mediated transport\",\"protein folding\",\"very-low-density lipoprotein particle remodeling\",\"positive regulation of cholesterol esterification\",\"antigen processing and presentation\",\"positive regulation of NF-kappaB transcription factor activity\",\"chaperone cofactor-dependent protein refolding\",\"cellular response to unfolded protein\",\"protection from natural killer cell mediated cytotoxicity\",\"DNA replication-dependent nucleosome assembly\",\"cellular response to interferon-gamma\",\"proteolysis\",\"mitotic cell cycle\",\"positive regulation of protein phosphorylation\",\"negative regulation of cell adhesion\",\"plasminogen activation\",\"blood coagulation\",\"antigen processing and presentation of endogenous peptide antigen via MHC class I via ER pathway, TAP-independent\",\"lipoprotein catabolic process\",\"actin filament fragmentation\",\"lipoprotein biosynthetic process\",\"negative regulation of apoptotic process\",\"positive regulation of interleukin-8 production\",\"cell-matrix adhesion\",\"actin filament depolymerization\",\"protein stabilization\",\"iron ion transport\",\"positive regulation of protein localization to early endosome\",\"viral entry into host cell\",\"negative regulation of chromatin silencing\",\"negative regulation of blood coagulation\",\"positive regulation of inflammatory response\",\"positive regulation of ERK1 and ERK2 cascade\",\"phagocytosis, engulfment\",\"defense response to bacterium\",\"receptor-mediated endocytosis\",\"mesenchyme migration\",\"CRD-mediated mRNA stabilization\",\"ruffle organization\",\"complement activation, lectin pathway\",\"response to hydrogen peroxide\",\"integrin-mediated signaling pathway\",\"lipopolysaccharide-mediated signaling pathway\",\"negative regulation of DNA recombination\",\"nucleosome positioning\",\"retina homeostasis\",\"protein localization to plasma membrane\",\"response to lipopolysaccharide\",\"positive regulation of establishment of protein localization to telomere\",\"positive regulation of endocytosis\",\"cellular response to heat\",\"response to virus\",\"purine ribonucleoside salvage\",\"blood coagulation, fibrin clot formation\",\"vesicle-mediated transport\",\"positive regulation of protein localization to Cajal body\",\"toxin transport\",\"positive regulation of interleukin-6 production\",\"cell-cell adhesion\",\"actin cytoskeleton reorganization\",\"myeloid dendritic cell antigen processing and presentation\",\"response to caloric restriction\",\"cellular response to mechanical stimulus\",\"positive regulation of cell migration\",\"triglyceride metabolic process\",\"protein targeting to lysosome\",\"phospholipid efflux\",\"positive regulation of protein catabolic process\",\"positive regulation of translation\",\"semaphorin-plexin signaling pathway\",\"positive regulation of extrinsic apoptotic signaling pathway\",\"response to unfolded protein\",\"negative regulation of translation\",\"cellular response to interleukin-7\",\"actin filament severing\",\"plasma membrane repair\",\"cell motility\",\"DNA metabolic process\",\"membrane protein ectodomain proteolysis\",\"chromosome condensation\",\"toll-like receptor signaling pathway\",\"positive regulation of superoxide anion generation\",\"cellular response to virus\",\"positive regulation of actin filament depolymerization\",\"positive regulation of early endosome to late endosome transport\",\"negative regulation of microglial cell activation\",\"neutrophil activation involved in immune response\",\"modification-dependent protein catabolic process\",\"negative regulation of angiogenesis\",\"positive regulation of protein secretion\",\"positive regulation of cellular protein catabolic process\",\"leukocyte migration\",\"response to drug\",\"positive regulation of NIK/NF-kappaB signaling\",\"acute-phase response\",\"positive regulation of cell growth\",\"positive regulation of T cell mediated immune response to tumor cell\",\"positive regulation of amyloid fibril formation\",\"regulation of organelle assembly\",\"positive regulation of CD4-positive, alpha-beta T cell activation\",\"regulation of transepithelial transport\",\"endocytosis\",\"defense response to Gram-negative bacterium\",\"positive regulation of telomerase RNA localization to Cajal body\",\"immunoglobulin mediated immune response\",\"positive regulation of T cell migration\",\"positive regulation of blood coagulation\",\"positive regulation of T cell chemotaxis\",\"cell adhesion\",\"negative regulation of tumor necrosis factor production\",\"negative regulation of CD4-positive, alpha-beta T cell proliferation\",\"positive regulation of lipoprotein lipase activity\",\"chronic inflammatory response\",\"mRNA stabilization\",\"maintenance of blood-brain barrier\",\"intracellular protein transport\",\"defense response\",\"regulation of transcription by RNA polymerase II\",\"detection of chemical stimulus involved in sensory perception of smell\"],\"yaxis\":\"y\"}],                        {\"legend\":{\"itemsizing\":\"constant\",\"tracegroupgap\":0},\"margin\":{\"t\":60},\"template\":{\"data\":{\"bar\":[{\"error_x\":{\"color\":\"#2a3f5f\"},\"error_y\":{\"color\":\"#2a3f5f\"},\"marker\":{\"line\":{\"color\":\"white\",\"width\":0.5},\"pattern\":{\"fillmode\":\"overlay\",\"size\":10,\"solidity\":0.2}},\"type\":\"bar\"}],\"barpolar\":[{\"marker\":{\"line\":{\"color\":\"white\",\"width\":0.5},\"pattern\":{\"fillmode\":\"overlay\",\"size\":10,\"solidity\":0.2}},\"type\":\"barpolar\"}],\"carpet\":[{\"aaxis\":{\"endlinecolor\":\"#2a3f5f\",\"gridcolor\":\"#C8D4E3\",\"linecolor\":\"#C8D4E3\",\"minorgridcolor\":\"#C8D4E3\",\"startlinecolor\":\"#2a3f5f\"},\"baxis\":{\"endlinecolor\":\"#2a3f5f\",\"gridcolor\":\"#C8D4E3\",\"linecolor\":\"#C8D4E3\",\"minorgridcolor\":\"#C8D4E3\",\"startlinecolor\":\"#2a3f5f\"},\"type\":\"carpet\"}],\"choropleth\":[{\"colorbar\":{\"outlinewidth\":0,\"ticks\":\"\"},\"type\":\"choropleth\"}],\"contour\":[{\"colorbar\":{\"outlinewidth\":0,\"ticks\":\"\"},\"colorscale\":[[0.0,\"#0d0887\"],[0.1111111111111111,\"#46039f\"],[0.2222222222222222,\"#7201a8\"],[0.3333333333333333,\"#9c179e\"],[0.4444444444444444,\"#bd3786\"],[0.5555555555555556,\"#d8576b\"],[0.6666666666666666,\"#ed7953\"],[0.7777777777777778,\"#fb9f3a\"],[0.8888888888888888,\"#fdca26\"],[1.0,\"#f0f921\"]],\"type\":\"contour\"}],\"contourcarpet\":[{\"colorbar\":{\"outlinewidth\":0,\"ticks\":\"\"},\"type\":\"contourcarpet\"}],\"heatmap\":[{\"colorbar\":{\"outlinewidth\":0,\"ticks\":\"\"},\"colorscale\":[[0.0,\"#0d0887\"],[0.1111111111111111,\"#46039f\"],[0.2222222222222222,\"#7201a8\"],[0.3333333333333333,\"#9c179e\"],[0.4444444444444444,\"#bd3786\"],[0.5555555555555556,\"#d8576b\"],[0.6666666666666666,\"#ed7953\"],[0.7777777777777778,\"#fb9f3a\"],[0.8888888888888888,\"#fdca26\"],[1.0,\"#f0f921\"]],\"type\":\"heatmap\"}],\"heatmapgl\":[{\"colorbar\":{\"outlinewidth\":0,\"ticks\":\"\"},\"colorscale\":[[0.0,\"#0d0887\"],[0.1111111111111111,\"#46039f\"],[0.2222222222222222,\"#7201a8\"],[0.3333333333333333,\"#9c179e\"],[0.4444444444444444,\"#bd3786\"],[0.5555555555555556,\"#d8576b\"],[0.6666666666666666,\"#ed7953\"],[0.7777777777777778,\"#fb9f3a\"],[0.8888888888888888,\"#fdca26\"],[1.0,\"#f0f921\"]],\"type\":\"heatmapgl\"}],\"histogram\":[{\"marker\":{\"pattern\":{\"fillmode\":\"overlay\",\"size\":10,\"solidity\":0.2}},\"type\":\"histogram\"}],\"histogram2d\":[{\"colorbar\":{\"outlinewidth\":0,\"ticks\":\"\"},\"colorscale\":[[0.0,\"#0d0887\"],[0.1111111111111111,\"#46039f\"],[0.2222222222222222,\"#7201a8\"],[0.3333333333333333,\"#9c179e\"],[0.4444444444444444,\"#bd3786\"],[0.5555555555555556,\"#d8576b\"],[0.6666666666666666,\"#ed7953\"],[0.7777777777777778,\"#fb9f3a\"],[0.8888888888888888,\"#fdca26\"],[1.0,\"#f0f921\"]],\"type\":\"histogram2d\"}],\"histogram2dcontour\":[{\"colorbar\":{\"outlinewidth\":0,\"ticks\":\"\"},\"colorscale\":[[0.0,\"#0d0887\"],[0.1111111111111111,\"#46039f\"],[0.2222222222222222,\"#7201a8\"],[0.3333333333333333,\"#9c179e\"],[0.4444444444444444,\"#bd3786\"],[0.5555555555555556,\"#d8576b\"],[0.6666666666666666,\"#ed7953\"],[0.7777777777777778,\"#fb9f3a\"],[0.8888888888888888,\"#fdca26\"],[1.0,\"#f0f921\"]],\"type\":\"histogram2dcontour\"}],\"mesh3d\":[{\"colorbar\":{\"outlinewidth\":0,\"ticks\":\"\"},\"type\":\"mesh3d\"}],\"parcoords\":[{\"line\":{\"colorbar\":{\"outlinewidth\":0,\"ticks\":\"\"}},\"type\":\"parcoords\"}],\"pie\":[{\"automargin\":true,\"type\":\"pie\"}],\"scatter\":[{\"marker\":{\"colorbar\":{\"outlinewidth\":0,\"ticks\":\"\"}},\"type\":\"scatter\"}],\"scatter3d\":[{\"line\":{\"colorbar\":{\"outlinewidth\":0,\"ticks\":\"\"}},\"marker\":{\"colorbar\":{\"outlinewidth\":0,\"ticks\":\"\"}},\"type\":\"scatter3d\"}],\"scattercarpet\":[{\"marker\":{\"colorbar\":{\"outlinewidth\":0,\"ticks\":\"\"}},\"type\":\"scattercarpet\"}],\"scattergeo\":[{\"marker\":{\"colorbar\":{\"outlinewidth\":0,\"ticks\":\"\"}},\"type\":\"scattergeo\"}],\"scattergl\":[{\"marker\":{\"colorbar\":{\"outlinewidth\":0,\"ticks\":\"\"}},\"type\":\"scattergl\"}],\"scattermapbox\":[{\"marker\":{\"colorbar\":{\"outlinewidth\":0,\"ticks\":\"\"}},\"type\":\"scattermapbox\"}],\"scatterpolar\":[{\"marker\":{\"colorbar\":{\"outlinewidth\":0,\"ticks\":\"\"}},\"type\":\"scatterpolar\"}],\"scatterpolargl\":[{\"marker\":{\"colorbar\":{\"outlinewidth\":0,\"ticks\":\"\"}},\"type\":\"scatterpolargl\"}],\"scatterternary\":[{\"marker\":{\"colorbar\":{\"outlinewidth\":0,\"ticks\":\"\"}},\"type\":\"scatterternary\"}],\"surface\":[{\"colorbar\":{\"outlinewidth\":0,\"ticks\":\"\"},\"colorscale\":[[0.0,\"#0d0887\"],[0.1111111111111111,\"#46039f\"],[0.2222222222222222,\"#7201a8\"],[0.3333333333333333,\"#9c179e\"],[0.4444444444444444,\"#bd3786\"],[0.5555555555555556,\"#d8576b\"],[0.6666666666666666,\"#ed7953\"],[0.7777777777777778,\"#fb9f3a\"],[0.8888888888888888,\"#fdca26\"],[1.0,\"#f0f921\"]],\"type\":\"surface\"}],\"table\":[{\"cells\":{\"fill\":{\"color\":\"#EBF0F8\"},\"line\":{\"color\":\"white\"}},\"header\":{\"fill\":{\"color\":\"#C8D4E3\"},\"line\":{\"color\":\"white\"}},\"type\":\"table\"}]},\"layout\":{\"annotationdefaults\":{\"arrowcolor\":\"#2a3f5f\",\"arrowhead\":0,\"arrowwidth\":1},\"autotypenumbers\":\"strict\",\"coloraxis\":{\"colorbar\":{\"outlinewidth\":0,\"ticks\":\"\"}},\"colorscale\":{\"diverging\":[[0,\"#8e0152\"],[0.1,\"#c51b7d\"],[0.2,\"#de77ae\"],[0.3,\"#f1b6da\"],[0.4,\"#fde0ef\"],[0.5,\"#f7f7f7\"],[0.6,\"#e6f5d0\"],[0.7,\"#b8e186\"],[0.8,\"#7fbc41\"],[0.9,\"#4d9221\"],[1,\"#276419\"]],\"sequential\":[[0.0,\"#0d0887\"],[0.1111111111111111,\"#46039f\"],[0.2222222222222222,\"#7201a8\"],[0.3333333333333333,\"#9c179e\"],[0.4444444444444444,\"#bd3786\"],[0.5555555555555556,\"#d8576b\"],[0.6666666666666666,\"#ed7953\"],[0.7777777777777778,\"#fb9f3a\"],[0.8888888888888888,\"#fdca26\"],[1.0,\"#f0f921\"]],\"sequentialminus\":[[0.0,\"#0d0887\"],[0.1111111111111111,\"#46039f\"],[0.2222222222222222,\"#7201a8\"],[0.3333333333333333,\"#9c179e\"],[0.4444444444444444,\"#bd3786\"],[0.5555555555555556,\"#d8576b\"],[0.6666666666666666,\"#ed7953\"],[0.7777777777777778,\"#fb9f3a\"],[0.8888888888888888,\"#fdca26\"],[1.0,\"#f0f921\"]]},\"colorway\":[\"#636efa\",\"#EF553B\",\"#00cc96\",\"#ab63fa\",\"#FFA15A\",\"#19d3f3\",\"#FF6692\",\"#B6E880\",\"#FF97FF\",\"#FECB52\"],\"font\":{\"color\":\"#2a3f5f\"},\"geo\":{\"bgcolor\":\"white\",\"lakecolor\":\"white\",\"landcolor\":\"white\",\"showlakes\":true,\"showland\":true,\"subunitcolor\":\"#C8D4E3\"},\"hoverlabel\":{\"align\":\"left\"},\"hovermode\":\"closest\",\"mapbox\":{\"style\":\"light\"},\"paper_bgcolor\":\"white\",\"plot_bgcolor\":\"white\",\"polar\":{\"angularaxis\":{\"gridcolor\":\"#EBF0F8\",\"linecolor\":\"#EBF0F8\",\"ticks\":\"\"},\"bgcolor\":\"white\",\"radialaxis\":{\"gridcolor\":\"#EBF0F8\",\"linecolor\":\"#EBF0F8\",\"ticks\":\"\"}},\"scene\":{\"xaxis\":{\"backgroundcolor\":\"white\",\"gridcolor\":\"#DFE8F3\",\"gridwidth\":2,\"linecolor\":\"#EBF0F8\",\"showbackground\":true,\"ticks\":\"\",\"zerolinecolor\":\"#EBF0F8\"},\"yaxis\":{\"backgroundcolor\":\"white\",\"gridcolor\":\"#DFE8F3\",\"gridwidth\":2,\"linecolor\":\"#EBF0F8\",\"showbackground\":true,\"ticks\":\"\",\"zerolinecolor\":\"#EBF0F8\"},\"zaxis\":{\"backgroundcolor\":\"white\",\"gridcolor\":\"#DFE8F3\",\"gridwidth\":2,\"linecolor\":\"#EBF0F8\",\"showbackground\":true,\"ticks\":\"\",\"zerolinecolor\":\"#EBF0F8\"}},\"shapedefaults\":{\"line\":{\"color\":\"#2a3f5f\"}},\"ternary\":{\"aaxis\":{\"gridcolor\":\"#DFE8F3\",\"linecolor\":\"#A2B1C6\",\"ticks\":\"\"},\"baxis\":{\"gridcolor\":\"#DFE8F3\",\"linecolor\":\"#A2B1C6\",\"ticks\":\"\"},\"bgcolor\":\"white\",\"caxis\":{\"gridcolor\":\"#DFE8F3\",\"linecolor\":\"#A2B1C6\",\"ticks\":\"\"}},\"title\":{\"x\":0.05},\"xaxis\":{\"automargin\":true,\"gridcolor\":\"#EBF0F8\",\"linecolor\":\"#EBF0F8\",\"ticks\":\"\",\"title\":{\"standoff\":15},\"zerolinecolor\":\"#EBF0F8\",\"zerolinewidth\":2},\"yaxis\":{\"automargin\":true,\"gridcolor\":\"#EBF0F8\",\"linecolor\":\"#EBF0F8\",\"ticks\":\"\",\"title\":{\"standoff\":15},\"zerolinecolor\":\"#EBF0F8\",\"zerolinewidth\":2}}},\"xaxis\":{\"anchor\":\"y\",\"domain\":[0.0,1.0],\"title\":{\"text\":\"-log10(p-val)\"}},\"yaxis\":{\"anchor\":\"x\",\"domain\":[0.0,1.0],\"title\":{\"text\":\"\"}}},                        {\"responsive\": true}                    ).then(function(){\n",
       "                            \n",
       "var gd = document.getElementById('bfd20ffc-8128-4c9e-8a14-9e31a17b0de6');\n",
       "var x = new MutationObserver(function (mutations, observer) {{\n",
       "        var display = window.getComputedStyle(gd).display;\n",
       "        if (!display || display === 'none') {{\n",
       "            console.log([gd, 'removed!']);\n",
       "            Plotly.purge(gd);\n",
       "            observer.disconnect();\n",
       "        }}\n",
       "}});\n",
       "\n",
       "// Listen for the removal of the full notebook cells\n",
       "var notebookContainer = gd.closest('#notebook-container');\n",
       "if (notebookContainer) {{\n",
       "    x.observe(notebookContainer, {childList: true});\n",
       "}}\n",
       "\n",
       "// Listen for the clearing of the current output cell\n",
       "var outputEl = gd.closest('.output');\n",
       "if (outputEl) {{\n",
       "    x.observe(outputEl, {childList: true});\n",
       "}}\n",
       "\n",
       "                        })                };                });            </script>        </div>"
      ]
     },
     "metadata": {},
     "output_type": "display_data"
    }
   ],
   "source": [
    "vizTools.plotly_goea_results(res,'BP')"
   ]
  },
  {
   "cell_type": "markdown",
   "metadata": {},
   "source": [
    "#### Second, let's focus on cellular compartment "
   ]
  },
  {
   "cell_type": "code",
   "execution_count": null,
   "metadata": {},
   "outputs": [],
   "source": [
    "vizTools.plotly_goea_results(res,'CC')"
   ]
  }
 ],
 "metadata": {
  "kernelspec": {
   "display_name": "Python 3",
   "language": "python",
   "name": "python3"
  },
  "language_info": {
   "codemirror_mode": {
    "name": "ipython",
    "version": 3
   },
   "file_extension": ".py",
   "mimetype": "text/x-python",
   "name": "python",
   "nbconvert_exporter": "python",
   "pygments_lexer": "ipython3",
   "version": "3.7.10"
  }
 },
 "nbformat": 4,
 "nbformat_minor": 2
}
