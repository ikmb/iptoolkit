{
 "cells": [
  {
   "cell_type": "markdown",
   "metadata": {},
   "source": [
    "# Comparing and Integrating among experiments "
   ]
  },
  {
   "cell_type": "markdown",
   "metadata": {},
   "source": [
    "## Introduction"
   ]
  },
  {
   "cell_type": "markdown",
   "metadata": {},
   "source": [
    "The aim of this tutorial is to use the ExperimentSet API to compare the results between two experiment using the Experiment and ExperimentSet classes. "
   ]
  },
  {
   "cell_type": "markdown",
   "metadata": {},
   "source": [
    "## Background: \n"
   ]
  },
  {
   "cell_type": "markdown",
   "metadata": {},
   "source": [
    "In the current tutorial, we are going to analyze the results obtained in the paper for quantifiying the impact of initial cell counts on the identified HLA-DR immunopeptidome of PBMC using the IPTK library. "
   ]
  },
  {
   "cell_type": "markdown",
   "metadata": {},
   "source": [
    "## Load the Modules "
   ]
  },
  {
   "cell_type": "code",
   "execution_count": 1,
   "metadata": {},
   "outputs": [
    {
     "data": {
      "application/vnd.jupyter.widget-view+json": {
       "model_id": "c48da20f78ba44b782a41c21239876a3",
       "version_major": 2,
       "version_minor": 0
      },
      "text/plain": []
     },
     "metadata": {},
     "output_type": "display_data"
    }
   ],
   "source": [
    "from IPTK.IO.InFunctions import parse_xml_based_format_to_identification_table\n",
    "import numpy as np\n",
    "import pandas as pd \n",
    "from IPTK.Utils.UtilityFunction import get_experiment_summary, combine_summary\n",
    "from IPTK.Classes.Experiment import Experiment\n",
    "from IPTK.Classes.ExperimentalSet import ExperimentSet\n",
    "from IPTK.Classes.Database import SeqDB, GeneExpressionDB, CellularLocationDB,OrganismDB\n",
    "from IPTK.Classes.Tissue import Tissue\n",
    "from IPTK.Classes.HLASet import HLASet\n",
    "from IPTK.Classes.Proband import Proband\n",
    "from IPTK.Classes.Peptide import Peptide \n",
    "from IPTK.Visualization.vizTools import plot_parent_protein_expression_in_tissue,plotly_parent_protein_expression_in_tissue\n",
    "from IPTK.Visualization.vizTools import plot_gene_expression_vs_num_peptides\n",
    "from IPTK.Visualization.vizTools import plot_num_protein_per_location\n",
    "from IPTK.Visualization.vizTools import plot_num_peptide_per_go_term\n",
    "from IPTK.Visualization.vizTools import plot_overlap_heatmap\n",
    "from IPTK.IO.OutFunctions import write_auto_named_peptide_to_fasta\n",
    "from IPTK.Analysis.AnalysisFunction import compute_binary_distance \n",
    "from IPTK.Visualization.vizTools import plot_protein_coverage\n",
    "import matplotlib.pyplot as plt\n",
    "from IPTK.Visualization.vizTools import plot_coverage_and_annotation \n",
    "from IPTK.IO.InFunctions import download_pdb_entry\n",
    "from typing import List,Set,Dict \n",
    "import pandas as pd \n",
    "import numpy as np\n",
    "import random \n",
    "import seaborn as sns \n",
    "from IPTK.Visualization.vizTools import plot_paired_represention \n",
    "from IPTK.Analysis.AnalysisFunction import compute_ic_distance_experiments \n",
    "from IPTK.Visualization.vizTools import plot_MDS_from_ic_coverage"
   ]
  },
  {
   "cell_type": "markdown",
   "metadata": {},
   "source": [
    "## Define the experiment-invarients "
   ]
  },
  {
   "cell_type": "code",
   "execution_count": 2,
   "metadata": {},
   "outputs": [],
   "source": [
    "donor: Proband = Proband(name='Tutorial_2') \n",
    "hlas: HLASet = HLASet(hlas=['HLA-DRB1*15:01','HLA-DRB1*13:01'])\n",
    "seqs: SeqDB = SeqDB(path2fasta=\"database/human_proteome.fasta\")\n",
    "expresson_profile: GeneExpressionDB= GeneExpressionDB()\n",
    "protein_locations: CellularLocationDB= CellularLocationDB()\n",
    "tissue: Tissue = Tissue(name='total PBMC',\n",
    "                        main_exp_value=expresson_profile, \n",
    "                        main_location=protein_locations)"
   ]
  },
  {
   "cell_type": "markdown",
   "metadata": {},
   "source": [
    "## Load the input tables"
   ]
  },
  {
   "cell_type": "code",
   "execution_count": 3,
   "metadata": {},
   "outputs": [],
   "source": [
    "# load rep1 with 5e7 cells \n",
    "rep1_5e7: pd.DataFrame = parse_xml_based_format_to_identification_table(\n",
    "    path2XML_file=\"idXML/0810202_0.5_all_ids_merged_psm_perc_filtered.idXML\",\n",
    "    path2fastaDB=\"database/human_proteome.fasta\",\n",
    "    is_idXML= True) \n",
    "# load rep1 with 1e8 cells \n",
    "rep1_1e8: pd.DataFrame = parse_xml_based_format_to_identification_table(\n",
    "    path2XML_file=\"idXML/0810202_1_all_ids_merged_psm_perc_filtered.idXML\",\n",
    "    path2fastaDB=\"database/human_proteome.fasta\",\n",
    "    is_idXML= True) \n",
    "# load rep2 with 5e7 cells \n",
    "rep2_5e7: pd.DataFrame = parse_xml_based_format_to_identification_table(\n",
    "    path2XML_file=\"idXML/27112020_0.5_all_ids_merged_psm_perc_filtered.idXML\",\n",
    "    path2fastaDB=\"database/human_proteome.fasta\",\n",
    "    is_idXML= True) \n",
    "# load rep2 with 1e8 cells \n",
    "rep2_1e8: pd.DataFrame = parse_xml_based_format_to_identification_table(\n",
    "    path2XML_file=\"idXML/27112020_1_all_ids_merged_psm_perc_filtered.idXML\",\n",
    "    path2fastaDB=\"database/human_proteome.fasta\",\n",
    "    is_idXML= True) "
   ]
  },
  {
   "cell_type": "markdown",
   "metadata": {},
   "source": [
    "## Create the experiments \n"
   ]
  },
  {
   "cell_type": "code",
   "execution_count": 4,
   "metadata": {},
   "outputs": [],
   "source": [
    "# define experiment for rep1 5e7 cells \n",
    "exp_rep1_5e7= Experiment(proband=donor,hla_set=hlas,tissue=tissue,database=seqs, \n",
    "                 ident_table=rep1_5e7)\n",
    "# define experiment for rep1 1e8 cells \n",
    "exp_rep1_1e8= Experiment(proband=donor,hla_set=hlas,tissue=tissue,database=seqs, \n",
    "                 ident_table=rep1_1e8)\n",
    "# define experiment for rep2 5e7 cells \n",
    "exp_rep2_5e7= Experiment(proband=donor,hla_set=hlas,tissue=tissue,database=seqs, \n",
    "                 ident_table=rep2_5e7)\n",
    "# define experiment for rep2 1e8 cells \n",
    "exp_rep2_1e8= Experiment(proband=donor,hla_set=hlas,tissue=tissue,database=seqs, \n",
    "                 ident_table=rep2_1e8)"
   ]
  },
  {
   "cell_type": "markdown",
   "metadata": {
    "tags": []
   },
   "source": [
    "## Create an ExperimentalSet Object "
   ]
  },
  {
   "cell_type": "code",
   "execution_count": 5,
   "metadata": {},
   "outputs": [],
   "source": [
    "exps: ExperimentSet = ExperimentSet(**{'rep1_5e7':exp_rep1_5e7, \n",
    "                                    'rep1_1e8':exp_rep1_1e8, \n",
    "                                    'rep2_5e7':exp_rep2_5e7,\n",
    "                                    'rep2_1e8':exp_rep2_1e8})"
   ]
  },
  {
   "cell_type": "markdown",
   "metadata": {},
   "source": [
    "## Analyzing the overlap among the experiments in the set"
   ]
  },
  {
   "cell_type": "markdown",
   "metadata": {},
   "source": [
    "### peptide level overlap "
   ]
  },
  {
   "cell_type": "code",
   "execution_count": 6,
   "metadata": {},
   "outputs": [
    {
     "data": {
      "image/png": "[encoded data removed]",
      "text/plain": [
       "<Figure size 720x720 with 4 Axes>"
      ]
     },
     "metadata": {
      "needs_background": "light"
     },
     "output_type": "display_data"
    }
   ],
   "source": [
    "peptide_overlap = exps.compute_peptide_overlap_matrix() \n",
    "fig=plot_overlap_heatmap(peptide_overlap,plotting_kwargs={\"cmap\":\"Blues\",\"annot_kws\":{\"size\": 24}})"
   ]
  },
  {
   "cell_type": "markdown",
   "metadata": {},
   "source": [
    "### protein level overlap "
   ]
  },
  {
   "cell_type": "code",
   "execution_count": 7,
   "metadata": {},
   "outputs": [
    {
     "data": {
      "image/png": "[encoded data removed]",
      "text/plain": [
       "<Figure size 720x720 with 4 Axes>"
      ]
     },
     "metadata": {
      "needs_background": "light"
     },
     "output_type": "display_data"
    }
   ],
   "source": [
    "peptide_overlap = exps.compute_protein_overlap_matrix() \n",
    "fig=plot_overlap_heatmap(peptide_overlap,plotting_kwargs={\"cmap\":\"Blues\",\"annot_kws\":{\"size\": 24}})"
   ]
  },
  {
   "cell_type": "markdown",
   "metadata": {},
   "source": [
    "### Immunopeptidomic coverage and MDS plots "
   ]
  },
  {
   "cell_type": "code",
   "execution_count": 8,
   "metadata": {},
   "outputs": [
    {
     "data": {
      "image/png": "[encoded data removed]",
      "text/plain": [
       "<Figure size 432x288 with 1 Axes>"
      ]
     },
     "metadata": {
      "needs_background": "light"
     },
     "output_type": "display_data"
    }
   ],
   "source": [
    "ic_distance=compute_ic_distance_experiments(exps)\n",
    "fig=plot_MDS_from_ic_coverage(ic_distance)"
   ]
  },
  {
   "cell_type": "markdown",
   "metadata": {},
   "source": [
    "### Compute peptide representation over the set "
   ]
  },
  {
   "cell_type": "markdown",
   "metadata": {},
   "source": [
    "let's try to get an idea about the number of times a peptides was observed over the experiment set, \n",
    "the number of times peptides where observed over all the experiments in the experiment set. "
   ]
  },
  {
   "cell_type": "code",
   "execution_count": 9,
   "metadata": {},
   "outputs": [],
   "source": [
    "peptide_counts = exps.compute_peptide_representation_count()"
   ]
  },
  {
   "cell_type": "markdown",
   "metadata": {},
   "source": [
    "#### let's visualize the peptide counts  "
   ]
  },
  {
   "cell_type": "code",
   "execution_count": 10,
   "metadata": {},
   "outputs": [
    {
     "data": {
      "text/plain": [
       "Text(0, 0.5, 'Counts')"
      ]
     },
     "execution_count": 10,
     "metadata": {},
     "output_type": "execute_result"
    },
    {
     "data": {
      "image/png": "[encoded data removed]",
      "text/plain": [
       "<Figure size 432x288 with 1 Axes>"
      ]
     },
     "metadata": {
      "needs_background": "light"
     },
     "output_type": "display_data"
    }
   ],
   "source": [
    "counts=[val for key, val in peptide_counts.items()]\n",
    "## compute a histogram of the results \n",
    "plt.hist(counts) \n",
    "plt.xlabel('Number of experiments')\n",
    "plt.ylabel('Counts')"
   ]
  },
  {
   "cell_type": "markdown",
   "metadata": {},
   "source": [
    "### We can also go for protein representation over the set"
   ]
  },
  {
   "cell_type": "code",
   "execution_count": 11,
   "metadata": {},
   "outputs": [],
   "source": [
    "protein_counts = exps.compute_protein_representation_count() "
   ]
  },
  {
   "cell_type": "code",
   "execution_count": 12,
   "metadata": {},
   "outputs": [
    {
     "data": {
      "text/plain": [
       "Text(0, 0.5, 'Counts')"
      ]
     },
     "execution_count": 12,
     "metadata": {},
     "output_type": "execute_result"
    },
    {
     "data": {
      "image/png": "[encoded data removed]",
      "text/plain": [
       "<Figure size 432x288 with 1 Axes>"
      ]
     },
     "metadata": {
      "needs_background": "light"
     },
     "output_type": "display_data"
    }
   ],
   "source": [
    "counts=[val for key, val in protein_counts.items()]\n",
    "## compute a histogram of the results \n",
    "plt.hist(counts) \n",
    "plt.xlabel('Number of experiments')\n",
    "plt.ylabel('Counts')"
   ]
  },
  {
   "cell_type": "markdown",
   "metadata": {},
   "source": [
    "### The coverage of proteins computed over the entire experiment set "
   ]
  },
  {
   "cell_type": "code",
   "execution_count": 13,
   "metadata": {},
   "outputs": [],
   "source": [
    "### Let's look at the coverage over the entire set \n",
    "coverage_entire_set = exps.compute_protein_coverage_over_the_set() # This might take a couple of minutes "
   ]
  },
  {
   "cell_type": "code",
   "execution_count": 44,
   "metadata": {},
   "outputs": [],
   "source": [
    "### let's visualize the coverage of one randomly selected protein \n",
    "random_id = random.choice(list(coverage_entire_set.keys()))"
   ]
  },
  {
   "cell_type": "code",
   "execution_count": 46,
   "metadata": {},
   "outputs": [
    {
     "data": {
      "image/png": "[encoded data removed]",
      "text/plain": [
       "<Figure size 432x288 with 1 Axes>"
      ]
     },
     "metadata": {
      "needs_background": "light"
     },
     "output_type": "display_data"
    }
   ],
   "source": [
    "fig=plot_protein_coverage(coverage_entire_set[random_id])"
   ]
  },
  {
   "cell_type": "markdown",
   "metadata": {},
   "source": [
    "### Compare the coverage between two experiments "
   ]
  },
  {
   "cell_type": "code",
   "execution_count": 47,
   "metadata": {},
   "outputs": [],
   "source": [
    "# first let's get the proteins that are inferred in all experiemnts \n",
    "all_proteins = exps.get_proteins_present_in_all()"
   ]
  },
  {
   "cell_type": "code",
   "execution_count": 49,
   "metadata": {},
   "outputs": [],
   "source": [
    "# get the accession of a random protein \n",
    "random_prot=random.choice(all_proteins)"
   ]
  },
  {
   "cell_type": "code",
   "execution_count": 52,
   "metadata": {},
   "outputs": [
    {
     "data": {
      "image/png": "[encoded data removed]",
      "text/plain": [
       "<Figure size 432x288 with 1 Axes>"
      ]
     },
     "metadata": {
      "needs_background": "light"
     },
     "output_type": "display_data"
    }
   ],
   "source": [
    "# plot the pair representation \n",
    "fig=plot_paired_represention(protein_one_repr={'5e7_rep1':exp_rep1_5e7.get_mapped_protein(random_prot)},\n",
    "                         protein_two_repr={'5e7_rep2':exp_rep2_5e7.get_mapped_protein(random_prot)})"
   ]
  },
  {
   "cell_type": "markdown",
   "metadata": {},
   "source": [
    "### Exporting the results "
   ]
  },
  {
   "cell_type": "markdown",
   "metadata": {},
   "source": [
    "Next, let's assume that we are interested in a more indepth downstream analysis of the peptides that are defined in all the experiments in the set. This can be done as follow,  "
   ]
  },
  {
   "cell_type": "code",
   "execution_count": 53,
   "metadata": {},
   "outputs": [],
   "source": [
    "peptides_present_in_all = exps.get_peptides_present_in_all() "
   ]
  },
  {
   "cell_type": "code",
   "execution_count": 55,
   "metadata": {},
   "outputs": [
    {
     "name": "stdout",
     "output_type": "stream",
     "text": [
      "Number of peptides defined in all experiments is: 776\n"
     ]
    }
   ],
   "source": [
    "print(f'Number of peptides defined in all experiments is: {len(peptides_present_in_all)}')"
   ]
  },
  {
   "cell_type": "markdown",
   "metadata": {},
   "source": [
    "we can then export the results as a fasta file as follow"
   ]
  },
  {
   "cell_type": "code",
   "execution_count": 57,
   "metadata": {},
   "outputs": [],
   "source": [
    "write_auto_named_peptide_to_fasta(peptides_present_in_all,'peptides_present_in_all.fasta')"
   ]
  }
 ],
 "metadata": {
  "kernelspec": {
   "display_name": "Python 3",
   "language": "python",
   "name": "python3"
  },
  "language_info": {
   "codemirror_mode": {
    "name": "ipython",
    "version": 3
   },
   "file_extension": ".py",
   "mimetype": "text/x-python",
   "name": "python",
   "nbconvert_exporter": "python",
   "pygments_lexer": "ipython3",
   "version": "3.7.7"
  }
 },
 "nbformat": 4,
 "nbformat_minor": 4
}
