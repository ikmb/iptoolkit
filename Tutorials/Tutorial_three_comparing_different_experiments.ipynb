{
 "cells": [
  {
   "cell_type": "markdown",
   "metadata": {},
   "source": [
    "# Comparing Between Two Experiment "
   ]
  },
  {
   "cell_type": "markdown",
   "metadata": {},
   "source": [
    "## Introduction"
   ]
  },
  {
   "cell_type": "markdown",
   "metadata": {},
   "source": [
    "The aim of this tutorial is to use the ExperimentSet API to compare the results between two experiment using the Experiment and ExperimentSet API. "
   ]
  },
  {
   "cell_type": "markdown",
   "metadata": {},
   "source": [
    "## Background: \n"
   ]
  },
  {
   "cell_type": "markdown",
   "metadata": {},
   "source": [
    "In the current experiments, we are going to compare blood samples from two donors, named LRSA and LRSB. In both cases, the blood sample have been incubated with candida albicans for 96hrs followed by classical peptide elution, see The previous tutorial for more details about the Experiment API. "
   ]
  },
  {
   "cell_type": "markdown",
   "metadata": {},
   "source": [
    "## Load the Modules "
   ]
  },
  {
   "cell_type": "code",
   "execution_count": 1,
   "metadata": {},
   "outputs": [
    {
     "data": {
      "application/vnd.jupyter.widget-view+json": {
       "model_id": "2cbc682a53fa4a1281347dfffa361db7",
       "version_major": 2,
       "version_minor": 0
      },
      "text/plain": []
     },
     "metadata": {},
     "output_type": "display_data"
    }
   ],
   "source": [
    "from IPTK.DataStructure.Experiment import Experiment \n",
    "from IPTK.DataStructure.ExperimentalSet import ExperimentSet\n",
    "from IPTK.IO.InFunctions import load_identification_table\n",
    "from IPTK.IO.InFunctions import parse_text_table\n",
    "from IPTK.DataStructure.Proband import Proband \n",
    "from IPTK.DataStructure.HLASet import HLASet\n",
    "from IPTK.DataStructure.Database import SeqDB, GeneExpressionDB, CellularLocationDB, OrganismDB\n",
    "from IPTK.DataStructure.Tissue import Tissue\n",
    "from IPTK.Visualization.vizTools import plot_overlap_heatmap\n",
    "from IPTK.Visualization.vizTools import plot_change_in_presentation_between_experiment\n",
    "import numpy as np \n",
    "import pandas as pd \n",
    "from typing import List, Dict "
   ]
  },
  {
   "cell_type": "markdown",
   "metadata": {},
   "source": [
    "## Define the experiment-invarients "
   ]
  },
  {
   "cell_type": "code",
   "execution_count": 2,
   "metadata": {},
   "outputs": [],
   "source": [
    "seqs: SeqDB = SeqDB(path2fasta='data/uniprot_sprot.fasta')\n",
    "expresson_profile: GeneExpressionDB= GeneExpressionDB(path2data='../resources/rna_tissue_consensus.tsv')\n",
    "protein_locations: CellularLocationDB= CellularLocationDB(path2data='../resources/subcellular_location.tsv')\n",
    "tissue: Tissue = Tissue(name='total PBMC',\n",
    "                        main_exp_value=expresson_profile, \n",
    "                        main_location=protein_locations)"
   ]
  },
  {
   "cell_type": "markdown",
   "metadata": {},
   "source": [
    "## Define the experimental varient "
   ]
  },
  {
   "cell_type": "code",
   "execution_count": 3,
   "metadata": {},
   "outputs": [],
   "source": [
    "proband_one: Proband =Proband(name='LRS_A')\n",
    "proband_two: Proband =Proband(name='LRS_B')\n",
    "hla_one: HLASet = HLASet(hlas=['HLA-DRB1*15:01','HLA-DRB1*13:01'])\n",
    "hla_two: HLASet = HLASet(hlas=['HLA-DRB1*15:01','HLA-DRB1*13:02'])"
   ]
  },
  {
   "cell_type": "markdown",
   "metadata": {},
   "source": [
    "## Load the input tables"
   ]
  },
  {
   "cell_type": "code",
   "execution_count": 4,
   "metadata": {},
   "outputs": [],
   "source": [
    "table_one: pd.DataFrame = parse_text_table(path2file='LRS_A.csv',\n",
    "                    sep=';', path2fastaDB='data/uniprot_sprot.fasta')\n",
    "table_two: pd.DataFrame = parse_text_table(path2file='LRS_B.csv',\n",
    "                    sep=';', path2fastaDB='data/uniprot_sprot.fasta')"
   ]
  },
  {
   "cell_type": "markdown",
   "metadata": {},
   "source": [
    "## Create the experiments \n"
   ]
  },
  {
   "cell_type": "code",
   "execution_count": 5,
   "metadata": {},
   "outputs": [],
   "source": [
    "# define experiment one \n",
    "exp_1: Experiment = Experiment(proband=proband_one,hla_set=hla_one, \n",
    "                    tissue=tissue, database=seqs,ident_table=table_one)\n",
    "# define experiment two \n",
    "exp_2: Experiment = Experiment(proband=proband_two,hla_set=hla_two, \n",
    "                    tissue=tissue, database=seqs,ident_table=table_two)"
   ]
  },
  {
   "cell_type": "markdown",
   "metadata": {},
   "source": [
    "## Annotate the experimental objects with the organism information "
   ]
  },
  {
   "cell_type": "markdown",
   "metadata": {},
   "source": [
    "### Construct an organism DB "
   ]
  },
  {
   "cell_type": "code",
   "execution_count": 6,
   "metadata": {},
   "outputs": [
    {
     "name": "stdout",
     "output_type": "stream",
     "text": [
      "An organism database with: 562755 entry.\n"
     ]
    }
   ],
   "source": [
    "org_db=OrganismDB('data/uniprot_sprot.fasta')\n",
    "print(org_db)"
   ]
  },
  {
   "cell_type": "markdown",
   "metadata": {},
   "source": [
    "### annotate the proteins with organism information"
   ]
  },
  {
   "cell_type": "code",
   "execution_count": 7,
   "metadata": {},
   "outputs": [],
   "source": [
    "exp_1.annotate_proteins(org_db)\n",
    "exp_2.annotate_proteins(org_db)"
   ]
  },
  {
   "cell_type": "markdown",
   "metadata": {
    "tags": []
   },
   "source": [
    "## Create an ExperimentalSet Object "
   ]
  },
  {
   "cell_type": "code",
   "execution_count": 8,
   "metadata": {},
   "outputs": [],
   "source": [
    "exps: ExperimentSet = ExperimentSet(LRS_A=exp_1, LRS_B=exp_2)"
   ]
  },
  {
   "cell_type": "markdown",
   "metadata": {},
   "source": [
    "## The Basic Functionaility of the ExperimentSet API "
   ]
  },
  {
   "cell_type": "markdown",
   "metadata": {},
   "source": [
    "### Getting the number of alleles in the set \n"
   ]
  },
  {
   "cell_type": "code",
   "execution_count": 11,
   "metadata": {
    "tags": []
   },
   "outputs": [
    {
     "name": "stdout",
     "output_type": "stream",
     "text": [
      "HLA-DRB1*15:01 --> 2\n",
      "HLA-DRB1*13:01 --> 1\n",
      "HLA-DRB1*13:02 --> 1\n"
     ]
    }
   ],
   "source": [
    "num_alleles: Dict[str,int] = exps.get_allele_count()\n",
    "for allele in num_alleles.keys():\n",
    "    print(f'{allele} --> {num_alleles[allele]}')"
   ]
  },
  {
   "cell_type": "markdown",
   "metadata": {
    "tags": []
   },
   "source": [
    "### Getting the name of the probands in the samples"
   ]
  },
  {
   "cell_type": "code",
   "execution_count": 11,
   "metadata": {
    "tags": []
   },
   "outputs": [
    {
     "name": "stdout",
     "output_type": "stream",
     "text": [
      "The following is a memeber :: LRS_A\n",
      "The following is a memeber :: LRS_B\n"
     ]
    }
   ],
   "source": [
    "names = exps.get_experimental_names()\n",
    "for name in names:\n",
    "    print(f'The following is a memeber :: {name}')"
   ]
  },
  {
   "cell_type": "markdown",
   "metadata": {},
   "source": [
    "In canse more than one sample, is drown from the same proband, we can get the number of experimental objects, i.e. samples, per proband as follow: \n"
   ]
  },
  {
   "cell_type": "code",
   "execution_count": 12,
   "metadata": {
    "tags": []
   },
   "outputs": [
    {
     "name": "stdout",
     "output_type": "stream",
     "text": [
      "Proband: LRS_A --> count: 1\n",
      "Proband: LRS_B --> count: 1\n"
     ]
    }
   ],
   "source": [
    "sample_per_objects: Dict[str, int] = exps.get_proband_count()\n",
    "for pro in sample_per_objects.keys():\n",
    "    print(f'Proband: {pro} --> count: {sample_per_objects[pro]}')"
   ]
  },
  {
   "cell_type": "markdown",
   "metadata": {},
   "source": [
    "we can also do the counting per tissue, as follow"
   ]
  },
  {
   "cell_type": "code",
   "execution_count": 13,
   "metadata": {
    "tags": []
   },
   "outputs": [
    {
     "name": "stdout",
     "output_type": "stream",
     "text": [
      "Proband: total PBMC --> count: 2\n"
     ]
    }
   ],
   "source": [
    "samples_pro_tissue: Dict[str, int] = exps.get_tissue_counts()\n",
    "for tissue in samples_pro_tissue.keys():\n",
    "    print(f'Proband: {tissue} --> count: {samples_pro_tissue[tissue]}')"
   ]
  },
  {
   "cell_type": "markdown",
   "metadata": {},
   "source": [
    "## The Grouping operator "
   ]
  },
  {
   "cell_type": "markdown",
   "metadata": {},
   "source": [
    "The grouping functions enable you to group experiments in the experimental set and return a NEW experimental set object containing the grouped experiments. Currently, IPTK support two types of grouping; group-by-allele and group-by-proband and group-by-tissue. "
   ]
  },
  {
   "cell_type": "markdown",
   "metadata": {},
   "source": [
    "### Grouping by proband "
   ]
  },
  {
   "cell_type": "code",
   "execution_count": 14,
   "metadata": {
    "tags": []
   },
   "outputs": [
    {
     "name": "stdout",
     "output_type": "stream",
     "text": [
      "Proband: LRS_A --> Experimental-Set: an experimental set with 1 Experiments in it --> Names: ['LRS_A0']\n",
      "Proband: LRS_B --> Experimental-Set: an experimental set with 1 Experiments in it --> Names: ['LRS_B0']\n"
     ]
    }
   ],
   "source": [
    "group_proband:Dict[str,ExperimentSet] = exps.group_by_proband()\n",
    "for proband in group_proband.keys():\n",
    "    print(f'Proband: {proband} --> Experimental-Set: {group_proband[proband]} --> Names: {group_proband[proband].get_experimental_names()}')"
   ]
  },
  {
   "cell_type": "markdown",
   "metadata": {},
   "source": [
    "### Grouping by tissue"
   ]
  },
  {
   "cell_type": "code",
   "execution_count": 15,
   "metadata": {
    "tags": []
   },
   "outputs": [
    {
     "name": "stdout",
     "output_type": "stream",
     "text": [
      "Allele: total PBMC --> Experimental-Set: an experimental set with 2 Experiments in it --> Names: ['total PBMC0', 'total PBMC1']\n"
     ]
    }
   ],
   "source": [
    "group_tissue:Dict[str,ExperimentSet] = exps.group_by_tissue()\n",
    "for tissue in group_tissue.keys():\n",
    "    print(f'Allele: {tissue} --> Experimental-Set: {group_tissue[tissue]} --> Names: {group_tissue[tissue].get_experimental_names()}')"
   ]
  },
  {
   "cell_type": "markdown",
   "metadata": {},
   "source": [
    "For more information about the Grouping check the online documentation "
   ]
  },
  {
   "cell_type": "markdown",
   "metadata": {},
   "source": [
    "## The Organism Methods"
   ]
  },
  {
   "cell_type": "markdown",
   "metadata": {},
   "source": [
    "### Getting unique proteins in the set"
   ]
  },
  {
   "cell_type": "code",
   "execution_count": 16,
   "metadata": {},
   "outputs": [
    {
     "name": "stdout",
     "output_type": "stream",
     "text": [
      "Found ==> CANAL\n",
      "Found ==> CANAX\n",
      "Found ==> BOVIN\n",
      "Found ==> RABIT\n",
      "Found ==> HUMAN\n",
      "Found ==> HORSE\n",
      "Found ==> CANAW\n"
     ]
    }
   ],
   "source": [
    "orgs: List[str] = exps.get_unique_orgs()\n",
    "for org in orgs: \n",
    "    print(f\"Found ==> {org}\")"
   ]
  },
  {
   "cell_type": "markdown",
   "metadata": {},
   "source": [
    "### Getting the peptide count per organims set-wide"
   ]
  },
  {
   "cell_type": "code",
   "execution_count": 17,
   "metadata": {},
   "outputs": [
    {
     "data": {
      "text/html": [
       "<div>\n",
       "<style scoped>\n",
       "    .dataframe tbody tr th:only-of-type {\n",
       "        vertical-align: middle;\n",
       "    }\n",
       "\n",
       "    .dataframe tbody tr th {\n",
       "        vertical-align: top;\n",
       "    }\n",
       "\n",
       "    .dataframe thead th {\n",
       "        text-align: right;\n",
       "    }\n",
       "</style>\n",
       "<table border=\"1\" class=\"dataframe\">\n",
       "  <thead>\n",
       "    <tr style=\"text-align: right;\">\n",
       "      <th></th>\n",
       "      <th>Organisms</th>\n",
       "      <th>Counts</th>\n",
       "    </tr>\n",
       "  </thead>\n",
       "  <tbody>\n",
       "    <tr>\n",
       "      <th>4</th>\n",
       "      <td>HUMAN</td>\n",
       "      <td>7990</td>\n",
       "    </tr>\n",
       "    <tr>\n",
       "      <th>2</th>\n",
       "      <td>BOVIN</td>\n",
       "      <td>2573</td>\n",
       "    </tr>\n",
       "    <tr>\n",
       "      <th>0</th>\n",
       "      <td>CANAL</td>\n",
       "      <td>190</td>\n",
       "    </tr>\n",
       "    <tr>\n",
       "      <th>1</th>\n",
       "      <td>CANAX</td>\n",
       "      <td>101</td>\n",
       "    </tr>\n",
       "    <tr>\n",
       "      <th>6</th>\n",
       "      <td>CANAW</td>\n",
       "      <td>49</td>\n",
       "    </tr>\n",
       "    <tr>\n",
       "      <th>3</th>\n",
       "      <td>RABIT</td>\n",
       "      <td>8</td>\n",
       "    </tr>\n",
       "    <tr>\n",
       "      <th>5</th>\n",
       "      <td>HORSE</td>\n",
       "      <td>4</td>\n",
       "    </tr>\n",
       "  </tbody>\n",
       "</table>\n",
       "</div>"
      ],
      "text/plain": [
       "  Organisms  Counts\n",
       "4     HUMAN    7990\n",
       "2     BOVIN    2573\n",
       "0     CANAL     190\n",
       "1     CANAX     101\n",
       "6     CANAW      49\n",
       "3     RABIT       8\n",
       "5     HORSE       4"
      ]
     },
     "execution_count": 17,
     "metadata": {},
     "output_type": "execute_result"
    }
   ],
   "source": [
    "exps.get_total_peptide_per_org_count()"
   ]
  },
  {
   "cell_type": "markdown",
   "metadata": {},
   "source": [
    "### Compare the count of peptid-per-organism accross set-wide "
   ]
  },
  {
   "cell_type": "code",
   "execution_count": 18,
   "metadata": {},
   "outputs": [
    {
     "name": "stdout",
     "output_type": "stream",
     "text": [
      "       LRS_A  LRS_B\n",
      "LRS_A    0.0 -122.0\n",
      "LRS_B  122.0    0.0\n"
     ]
    }
   ],
   "source": [
    "res_human: pd.DataFrame = exps.compare_org_count_among_exps(org='HUMAN')\n",
    "print(res_human)"
   ]
  },
  {
   "cell_type": "code",
   "execution_count": 19,
   "metadata": {},
   "outputs": [
    {
     "data": {
      "text/html": [
       "<div>\n",
       "<style scoped>\n",
       "    .dataframe tbody tr th:only-of-type {\n",
       "        vertical-align: middle;\n",
       "    }\n",
       "\n",
       "    .dataframe tbody tr th {\n",
       "        vertical-align: top;\n",
       "    }\n",
       "\n",
       "    .dataframe thead th {\n",
       "        text-align: right;\n",
       "    }\n",
       "</style>\n",
       "<table border=\"1\" class=\"dataframe\">\n",
       "  <thead>\n",
       "    <tr style=\"text-align: right;\">\n",
       "      <th></th>\n",
       "      <th>LRS_A</th>\n",
       "      <th>LRS_B</th>\n",
       "    </tr>\n",
       "  </thead>\n",
       "  <tbody>\n",
       "    <tr>\n",
       "      <th>LRS_A</th>\n",
       "      <td>0.0</td>\n",
       "      <td>-73.0</td>\n",
       "    </tr>\n",
       "    <tr>\n",
       "      <th>LRS_B</th>\n",
       "      <td>73.0</td>\n",
       "      <td>0.0</td>\n",
       "    </tr>\n",
       "  </tbody>\n",
       "</table>\n",
       "</div>"
      ],
      "text/plain": [
       "       LRS_A  LRS_B\n",
       "LRS_A    0.0  -73.0\n",
       "LRS_B   73.0    0.0"
      ]
     },
     "execution_count": 19,
     "metadata": {},
     "output_type": "execute_result"
    }
   ],
   "source": [
    "res_bovin: pd.DataFrame = exps.compare_org_count_among_exps(org='BOVIN')\n",
    "res_bovin"
   ]
  },
  {
   "cell_type": "code",
   "execution_count": 20,
   "metadata": {},
   "outputs": [
    {
     "data": {
      "text/html": [
       "<div>\n",
       "<style scoped>\n",
       "    .dataframe tbody tr th:only-of-type {\n",
       "        vertical-align: middle;\n",
       "    }\n",
       "\n",
       "    .dataframe tbody tr th {\n",
       "        vertical-align: top;\n",
       "    }\n",
       "\n",
       "    .dataframe thead th {\n",
       "        text-align: right;\n",
       "    }\n",
       "</style>\n",
       "<table border=\"1\" class=\"dataframe\">\n",
       "  <thead>\n",
       "    <tr style=\"text-align: right;\">\n",
       "      <th></th>\n",
       "      <th>LRS_A</th>\n",
       "      <th>LRS_B</th>\n",
       "    </tr>\n",
       "  </thead>\n",
       "  <tbody>\n",
       "    <tr>\n",
       "      <th>LRS_A</th>\n",
       "      <td>0.0</td>\n",
       "      <td>22.0</td>\n",
       "    </tr>\n",
       "    <tr>\n",
       "      <th>LRS_B</th>\n",
       "      <td>-22.0</td>\n",
       "      <td>0.0</td>\n",
       "    </tr>\n",
       "  </tbody>\n",
       "</table>\n",
       "</div>"
      ],
      "text/plain": [
       "       LRS_A  LRS_B\n",
       "LRS_A    0.0   22.0\n",
       "LRS_B  -22.0    0.0"
      ]
     },
     "execution_count": 20,
     "metadata": {},
     "output_type": "execute_result"
    }
   ],
   "source": [
    "res_candida: pd.DataFrame= exps.compare_org_count_among_exps(org='CANAL')\n",
    "res_candida    "
   ]
  },
  {
   "cell_type": "markdown",
   "metadata": {},
   "source": [
    "### Visualize the difference in peptide count "
   ]
  },
  {
   "cell_type": "code",
   "execution_count": 21,
   "metadata": {},
   "outputs": [
    {
     "data": {
      "text/plain": [
       "<seaborn.matrix.ClusterGrid at 0x7fba2cd71090>"
      ]
     },
     "execution_count": 21,
     "metadata": {},
     "output_type": "execute_result"
    },
    {
     "data": {
      "image/png": "[encoded data removed]",
      "text/plain": [
       "<Figure size 720x720 with 4 Axes>"
      ]
     },
     "metadata": {
      "needs_background": "light"
     },
     "output_type": "display_data"
    }
   ],
   "source": [
    "plot_overlap_heatmap(res_candida,{})"
   ]
  },
  {
   "cell_type": "markdown",
   "metadata": {},
   "source": [
    "## Comparing the overlap between the two experiments "
   ]
  },
  {
   "cell_type": "markdown",
   "metadata": {},
   "source": [
    "### Comparing peptide overlap "
   ]
  },
  {
   "cell_type": "code",
   "execution_count": 46,
   "metadata": {
    "tags": []
   },
   "outputs": [
    {
     "data": {
      "text/html": [
       "<div>\n",
       "<style scoped>\n",
       "    .dataframe tbody tr th:only-of-type {\n",
       "        vertical-align: middle;\n",
       "    }\n",
       "\n",
       "    .dataframe tbody tr th {\n",
       "        vertical-align: top;\n",
       "    }\n",
       "\n",
       "    .dataframe thead th {\n",
       "        text-align: right;\n",
       "    }\n",
       "</style>\n",
       "<table border=\"1\" class=\"dataframe\">\n",
       "  <thead>\n",
       "    <tr style=\"text-align: right;\">\n",
       "      <th></th>\n",
       "      <th>LRS_A</th>\n",
       "      <th>LRS_B</th>\n",
       "    </tr>\n",
       "  </thead>\n",
       "  <tbody>\n",
       "    <tr>\n",
       "      <th>LRS_A</th>\n",
       "      <td>2439.0</td>\n",
       "      <td>242.0</td>\n",
       "    </tr>\n",
       "    <tr>\n",
       "      <th>LRS_B</th>\n",
       "      <td>242.0</td>\n",
       "      <td>2660.0</td>\n",
       "    </tr>\n",
       "  </tbody>\n",
       "</table>\n",
       "</div>"
      ],
      "text/plain": [
       "        LRS_A   LRS_B\n",
       "LRS_A  2439.0   242.0\n",
       "LRS_B   242.0  2660.0"
      ]
     },
     "execution_count": 46,
     "metadata": {},
     "output_type": "execute_result"
    }
   ],
   "source": [
    "pep_over_lap:pd.DataFrame = exps.compute_peptide_overlap_matrix()\n",
    "pep_over_lap"
   ]
  },
  {
   "cell_type": "markdown",
   "metadata": {},
   "source": [
    "#### Visualize all the results "
   ]
  },
  {
   "cell_type": "code",
   "execution_count": 47,
   "metadata": {},
   "outputs": [
    {
     "data": {
      "text/plain": [
       "<seaborn.matrix.ClusterGrid at 0x7fba2ecf8590>"
      ]
     },
     "execution_count": 47,
     "metadata": {},
     "output_type": "execute_result"
    },
    {
     "data": {
      "image/png": "[encoded data removed]",
      "text/plain": [
       "<Figure size 720x720 with 4 Axes>"
      ]
     },
     "metadata": {
      "needs_background": "light"
     },
     "output_type": "display_data"
    }
   ],
   "source": [
    "plot_overlap_heatmap(pep_over_lap,{})"
   ]
  },
  {
   "cell_type": "markdown",
   "metadata": {},
   "source": [
    "### Comparing protein overlap "
   ]
  },
  {
   "cell_type": "code",
   "execution_count": 48,
   "metadata": {},
   "outputs": [
    {
     "data": {
      "text/html": [
       "<div>\n",
       "<style scoped>\n",
       "    .dataframe tbody tr th:only-of-type {\n",
       "        vertical-align: middle;\n",
       "    }\n",
       "\n",
       "    .dataframe tbody tr th {\n",
       "        vertical-align: top;\n",
       "    }\n",
       "\n",
       "    .dataframe thead th {\n",
       "        text-align: right;\n",
       "    }\n",
       "</style>\n",
       "<table border=\"1\" class=\"dataframe\">\n",
       "  <thead>\n",
       "    <tr style=\"text-align: right;\">\n",
       "      <th></th>\n",
       "      <th>LRS_A</th>\n",
       "      <th>LRS_B</th>\n",
       "    </tr>\n",
       "  </thead>\n",
       "  <tbody>\n",
       "    <tr>\n",
       "      <th>LRS_A</th>\n",
       "      <td>730.0</td>\n",
       "      <td>294.0</td>\n",
       "    </tr>\n",
       "    <tr>\n",
       "      <th>LRS_B</th>\n",
       "      <td>294.0</td>\n",
       "      <td>724.0</td>\n",
       "    </tr>\n",
       "  </tbody>\n",
       "</table>\n",
       "</div>"
      ],
      "text/plain": [
       "       LRS_A  LRS_B\n",
       "LRS_A  730.0  294.0\n",
       "LRS_B  294.0  724.0"
      ]
     },
     "execution_count": 48,
     "metadata": {},
     "output_type": "execute_result"
    }
   ],
   "source": [
    "pro_over_lap: pd.DataFrame = exps.compute_protein_overlap_matrix()\n",
    "pro_over_lap"
   ]
  },
  {
   "cell_type": "markdown",
   "metadata": {},
   "source": [
    "#### Visualize all the results "
   ]
  },
  {
   "cell_type": "code",
   "execution_count": 49,
   "metadata": {},
   "outputs": [
    {
     "data": {
      "text/plain": [
       "<seaborn.matrix.ClusterGrid at 0x7fba302e56d0>"
      ]
     },
     "execution_count": 49,
     "metadata": {},
     "output_type": "execute_result"
    },
    {
     "data": {
      "image/png": "[encoded data removed]",
      "text/plain": [
       "<Figure size 720x720 with 4 Axes>"
      ]
     },
     "metadata": {
      "needs_background": "light"
     },
     "output_type": "display_data"
    }
   ],
   "source": [
    "plot_overlap_heatmap(pro_over_lap,{})"
   ]
  },
  {
   "cell_type": "markdown",
   "metadata": {},
   "source": [
    "## Drop all non-human proteins from the database "
   ]
  },
  {
   "cell_type": "code",
   "execution_count": 32,
   "metadata": {},
   "outputs": [],
   "source": [
    "unique_orgs=exps.get_unique_orgs()\n",
    "for org in unique_orgs: \n",
    "    if org != 'HUMAN':\n",
    "        exps.drop_peptides_belong_to_org(org_name=org)"
   ]
  },
  {
   "cell_type": "markdown",
   "metadata": {},
   "source": [
    "### Correlation in the  gene expression of parent proteins between experiments"
   ]
  },
  {
   "cell_type": "code",
   "execution_count": 33,
   "metadata": {},
   "outputs": [],
   "source": [
    "diff_exp: pd.DataFrame= exps.compute_correlation_in_experssion()"
   ]
  },
  {
   "cell_type": "code",
   "execution_count": 34,
   "metadata": {},
   "outputs": [
    {
     "data": {
      "text/html": [
       "<div>\n",
       "<style scoped>\n",
       "    .dataframe tbody tr th:only-of-type {\n",
       "        vertical-align: middle;\n",
       "    }\n",
       "\n",
       "    .dataframe tbody tr th {\n",
       "        vertical-align: top;\n",
       "    }\n",
       "\n",
       "    .dataframe thead th {\n",
       "        text-align: right;\n",
       "    }\n",
       "</style>\n",
       "<table border=\"1\" class=\"dataframe\">\n",
       "  <thead>\n",
       "    <tr style=\"text-align: right;\">\n",
       "      <th></th>\n",
       "      <th>LRS_A</th>\n",
       "      <th>LRS_B</th>\n",
       "    </tr>\n",
       "  </thead>\n",
       "  <tbody>\n",
       "    <tr>\n",
       "      <th>LRS_A</th>\n",
       "      <td>1.0</td>\n",
       "      <td>1.0</td>\n",
       "    </tr>\n",
       "    <tr>\n",
       "      <th>LRS_B</th>\n",
       "      <td>1.0</td>\n",
       "      <td>1.0</td>\n",
       "    </tr>\n",
       "  </tbody>\n",
       "</table>\n",
       "</div>"
      ],
      "text/plain": [
       "       LRS_A  LRS_B\n",
       "LRS_A    1.0    1.0\n",
       "LRS_B    1.0    1.0"
      ]
     },
     "execution_count": 34,
     "metadata": {},
     "output_type": "execute_result"
    }
   ],
   "source": [
    "print(diff_exp)"
   ]
  },
  {
   "cell_type": "markdown",
   "metadata": {},
   "source": [
    "## Compute the average distance between the experiments using the average change in protein representation "
   ]
  },
  {
   "cell_type": "code",
   "execution_count": 35,
   "metadata": {},
   "outputs": [
    {
     "name": "stdout",
     "output_type": "stream",
     "text": [
      "         LRS_A    LRS_B\n",
      "LRS_A      0.0  21501.0\n",
      "LRS_B  21501.0      0.0\n"
     ]
    }
   ],
   "source": [
    "res: pd.DataFrame = exps.compute_average_distance_between_exps()\n",
    "print(res)"
   ]
  },
  {
   "cell_type": "markdown",
   "metadata": {},
   "source": [
    "### Visualize the change in protein coverage accross experiments "
   ]
  },
  {
   "cell_type": "code",
   "execution_count": 37,
   "metadata": {},
   "outputs": [],
   "source": [
    "distance_tensor: np.ndarray = exps.compute_change_in_protein_representation()\n",
    "    "
   ]
  },
  {
   "cell_type": "code",
   "execution_count": 65,
   "metadata": {},
   "outputs": [],
   "source": [
    "def plot_change_in_presentation_between_experiment(\n",
    "    change_in_presentation_array: np.ndarray, index_first: int, index_second:int, \n",
    "    plotting_kwargs: Dict[str,str] = {},\n",
    "    title='Change in protein presentation',\n",
    "    xlabel=\"Proteins\", ylabel=\"magnitude of change in protein count\") -> plt.Figure:\n",
    "    \"\"\" \n",
    "    @brief: plot the change in protein presentation between two experiment \n",
    "    @param: change_in_presentation_array: a 3D tensor of shape number of experiments by \n",
    "    number of experiment by number of identified proteins. \n",
    "    @param: index_first: the index of the first experiment in the tensor. \n",
    "    @param: index_second: the index of the second experiment in the tensor. \n",
    "    @param: plotting_kwargs: a dict object containing parameters for the sns.scatterplot function.\n",
    "    @param: title: The title of the figure\n",
    "    @param: xlabel: The x-axis label of the figure \n",
    "    @param: ylabel: the y-axis label of the figure\n",
    "    \"\"\"\n",
    "    # check the correct index \n",
    "    if len(change_in_presentation_array.shape)!=3:\n",
    "        raise ValueError(f\"The provided tensor must of be of rank 3, current tensor has rank: {len(change_in_presentation_array.shape)}\")    \n",
    "    \n",
    "    if index_first > change_in_presentation_array.shape[0]:\n",
    "        raise IndexError(f\"The provided index for the first experiment is out of bound. Number of elements along the first axis is: {change_in_presentation_array.shape[0]}\")\n",
    "    \n",
    "    if index_second > change_in_presentation_array.shape[1]:\n",
    "        raise IndexError(f\"The provided index for the second experiment is out of bound. Number of elements along the second axis is: {change_in_presentation_array.shape[1]}\")\n",
    "    # get the tensor \n",
    "    change_tensor=change_in_presentation_array[index_first,index_second,:].reshape(-1)\n",
    "    # sort the tensor \n",
    "    change_tensor.sort()\n",
    "    change_tensor=change_tensor[::-1]\n",
    "    # plot the tensor elements \n",
    "    fig=plt.figure()\n",
    "    ax=sns.scatterplot(x=np.arange(len(change_tensor)),y= change_tensor, **plotting_kwargs)\n",
    "    plt.hlines(y=np.median(change_tensor), xmin=0,xmax=len(change_tensor),color='red')\n",
    "    # add the axis labels \n",
    "    ax.set_xlabel(xlabel)\n",
    "    ax.set_ylabel(ylabel)\n",
    "    # add the title\n",
    "    ax.set_title(title)\n",
    "    # return the results \n",
    "    return fig"
   ]
  },
  {
   "cell_type": "code",
   "execution_count": 69,
   "metadata": {},
   "outputs": [
    {
     "data": {
      "image/png": "[encoded data removed]",
      "text/plain": [
       "<Figure size 432x288 with 1 Axes>"
      ]
     },
     "metadata": {
      "needs_background": "light"
     },
     "output_type": "display_data"
    }
   ],
   "source": [
    "fig=plot_change_in_presentation_between_experiment(distance_tensor,0,1)"
   ]
  }
 ],
 "metadata": {
  "kernelspec": {
   "display_name": "Python 3",
   "language": "python",
   "name": "python3"
  },
  "language_info": {
   "codemirror_mode": {
    "name": "ipython",
    "version": 3
   },
   "file_extension": ".py",
   "mimetype": "text/x-python",
   "name": "python",
   "nbconvert_exporter": "python",
   "pygments_lexer": "ipython3",
   "version": "3.7.7"
  }
 },
 "nbformat": 4,
 "nbformat_minor": 4
}